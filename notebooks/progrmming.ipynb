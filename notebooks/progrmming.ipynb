{
 "cells": [
  {
   "cell_type": "markdown",
   "metadata": {},
   "source": [
    "<h1 style=\"color:black; text-align:center;\"><b>140+ BASIC PYTHON PROGRAMS</b></h1>"
   ]
  },
  {
   "cell_type": "markdown",
   "metadata": {},
   "source": [
    "<h3 style=\"color:black;\"><b>Program 1</b></h3>\n",
    "\n",
    "<h4 style=\"color:black;\"><b>Write a Python program to print \"Hello Python\"</b></h4> "
   ]
  },
  {
   "cell_type": "code",
   "execution_count": 1,
   "metadata": {},
   "outputs": [
    {
     "name": "stdout",
     "output_type": "stream",
     "text": [
      "Hello Python\n"
     ]
    }
   ],
   "source": [
    "print(\"Hello Python\")"
   ]
  },
  {
   "cell_type": "markdown",
   "metadata": {},
   "source": [
    "<h3 style=\"color:black;\"><b>Program 2</b></h3>\n",
    "<h4 style=\"color:black;\"><b>Write a Python program to do arithmetical operations addition and division.</b></h4>"
   ]
  },
  {
   "cell_type": "code",
   "execution_count": 5,
   "metadata": {},
   "outputs": [
    {
     "name": "stdout",
     "output_type": "stream",
     "text": [
      "Enter the first Number:3.5\n",
      "Enter the second Number:2.5\n",
      "Sum: 3.5 + 2.5 = 6.0\n"
     ]
    }
   ],
   "source": [
    "# Addition\n",
    "\n",
    "num1 = float(input(\"Enter the first Number: \"))\n",
    "num2 = float(input(\"Enter the second Number: \"))\n",
    "print(f\"Enter the first Number:{num1}\")\n",
    "print(f\"Enter the second Number:{num2}\")\n",
    "sum_result = num1 + num2\n",
    "print(f\"Sum: {num1} + {num2} = {sum_result}\")"
   ]
  },
  {
   "cell_type": "code",
   "execution_count": 6,
   "metadata": {},
   "outputs": [
    {
     "name": "stdout",
     "output_type": "stream",
     "text": [
      "Enter the dividend for division:25.0\n",
      "Enter the divisor for division:5.0\n",
      "Division: 25.0 / 5.0 = 5.0\n"
     ]
    }
   ],
   "source": [
    "# Division\n",
    "\n",
    "num3 = float(input(\"Enter the dividend for division: \"))\n",
    "num4 = float(input(\"Enter the divisor for division: \"))\n",
    "print(f\"Enter the dividend for division:{num3}\")\n",
    "print(f\"Enter the divisor for division:{num4}\")\n",
    "if num4 == 0:\n",
    "    print(f\"Error: Division By Zero is not allowed\")\n",
    "else:\n",
    "    div_result = num3 / num4\n",
    "    print(f\"Division: {num3} / {num4} = {div_result}\")\n"
   ]
  },
  {
   "cell_type": "markdown",
   "metadata": {},
   "source": [
    "<h3 style=\"color:black;\"><b>Program 3</b></h3>\n",
    "<h4 style=\"color:black;\"><b>Write a Python program to find the area of a triangle.</b></h4>"
   ]
  },
  {
   "cell_type": "code",
   "execution_count": 7,
   "metadata": {},
   "outputs": [
    {
     "name": "stdout",
     "output_type": "stream",
     "text": [
      "Enter the base of triangle:15.0\n",
      "Enter the height of triangle:10.0\n",
      "The Area of triangle is: 75.0\n"
     ]
    }
   ],
   "source": [
    "# Input the base and height from the user\n",
    "a = float(input(\"Enter the base of triangle: \"))\n",
    "b = float(input(\"Enter the height of triangle: \"))\n",
    "print(f\"Enter the base of triangle:{a}\")\n",
    "print(f\"Enter the height of triangle:{b}\")\n",
    "area = 0.5 * a * b\n",
    "print(f\"The Area of triangle is: {area}\")"
   ]
  },
  {
   "cell_type": "markdown",
   "metadata": {},
   "source": [
    "<h3 style=\"color:black;\"><b>Program 4</b></h3>\n",
    "<h4 style=\"color:black;\"><b>Write a Python to swap two variables Using temp.</b></h4>"
   ]
  },
  {
   "cell_type": "code",
   "execution_count": 8,
   "metadata": {},
   "outputs": [
    {
     "name": "stdout",
     "output_type": "stream",
     "text": [
      "Enter the value of the first variable(a):5\n",
      "Enter the value of second variable(b):9\n",
      "Swapped Values: a = 9, b = 5\n"
     ]
    }
   ],
   "source": [
    "# Input two variables from user\n",
    "a = input(\"Enter the value of the first variable(a): \")\n",
    "b = input(\"Enter the value of second variable(b): \")\n",
    "\n",
    "# Display the original values\n",
    "print(f\"Enter the value of the first variable(a):{a}\")\n",
    "print(f\"Enter the value of second variable(b):{b}\")\n",
    "\n",
    "# Swap the values using a temporary variable\n",
    "temp = a\n",
    "a = b\n",
    "b = temp\n",
    "\n",
    "# Display the swapped values \n",
    "print(f\"Swapped Values: a = {a}, b = {b}\")"
   ]
  },
  {
   "cell_type": "markdown",
   "metadata": {},
   "source": [
    "<h3 style=\"color:black;\"><b> Program 5</b></h3>\n",
    "<h4 style = \"color:black;\"><b>Write a Python program to generate a random number.</b></h4>"
   ]
  },
  {
   "cell_type": "code",
   "execution_count": 9,
   "metadata": {},
   "outputs": [
    {
     "name": "stdout",
     "output_type": "stream",
     "text": [
      "Random Number : 14\n"
     ]
    }
   ],
   "source": [
    "import random\n",
    "print(f\"Random Number : {random.randint(1,100)}\")"
   ]
  },
  {
   "cell_type": "markdown",
   "metadata": {},
   "source": [
    "<h3 style=\"color:black;\"><b>Program 6</b></h3>\n",
    "<h4 style=\"color:black;\"><b>Write a Python program to convert kilometers to miles.</b></h4>"
   ]
  },
  {
   "cell_type": "code",
   "execution_count": 10,
   "metadata": {},
   "outputs": [
    {
     "name": "stdout",
     "output_type": "stream",
     "text": [
      "Enter distance in kilometers:100.0\n",
      "100.0 km is equal to 62.137100000000004 miles.\n"
     ]
    }
   ],
   "source": [
    "kilometers = float(input(\"Enter distance in kilometers: \"))\n",
    "print(f\"Enter distance in kilometers:{kilometers}\")\n",
    "# conversion factor: 1 km = 0.621371 mile\n",
    "conversion_factor = 0.621371\n",
    "miles = conversion_factor * kilometers\n",
    "print(f\"{kilometers} km is equal to {miles} miles.\")"
   ]
  },
  {
   "cell_type": "markdown",
   "metadata": {},
   "source": [
    "<h3 style=\"color:black;\"><b>Program 7 </b></h3>\n",
    "<h4 style=\"color:black;\"><b>Write a Python program to convert Celsius to Fahrenheit.</b></h4>"
   ]
  },
  {
   "cell_type": "code",
   "execution_count": 13,
   "metadata": {},
   "outputs": [
    {
     "name": "stdout",
     "output_type": "stream",
     "text": [
      "The temaperature in celsius is:37.0\n",
      "37.0 degrees Celsius is equal to 98.6degrees\n"
     ]
    }
   ],
   "source": [
    "celsius = float(input(\"Enter the temperature in celsius: \"))\n",
    "print(f\"The temaperature in celsius is:{celsius}\")\n",
    "\n",
    "# Conversion formula : Fahrenheit = (Celsius * 9/5) + 32\n",
    "Fahrenheit = (celsius * 9/5) + 32\n",
    "\n",
    "print(f\"{celsius} degrees Celsius is equal to {Fahrenheit} degrees\")"
   ]
  },
  {
   "cell_type": "markdown",
   "metadata": {},
   "source": [
    "<h3 style=\"color:black;\"><b>Program 8</b></h3>\n",
    "<h4 style=\"color:black;\"><b>Write a Python program to display calender.</b></h4>"
   ]
  },
  {
   "cell_type": "code",
   "execution_count": 17,
   "metadata": {},
   "outputs": [
    {
     "name": "stdout",
     "output_type": "stream",
     "text": [
      "Year:2024\n",
      "Month:6\n",
      "     June 2024\n",
      "Mo Tu We Th Fr Sa Su\n",
      "                1  2\n",
      " 3  4  5  6  7  8  9\n",
      "10 11 12 13 14 15 16\n",
      "17 18 19 20 21 22 23\n",
      "24 25 26 27 28 29 30\n",
      "\n"
     ]
    }
   ],
   "source": [
    "import calendar\n",
    "\n",
    "year = int(input(\"Enter Year: \"))\n",
    "month = int(input(\"Enter month: \"))\n",
    "print(f\"Year:{year}\")\n",
    "print(f\"Month:{month}\")\n",
    "cal = calendar.month(year, month)\n",
    "print(cal)"
   ]
  },
  {
   "cell_type": "markdown",
   "metadata": {},
   "source": [
    "<h3 style=\"color:black;\"><b>Program 9</b></h3>\n",
    "<h4 style=\"color:black;\"><b>Write a Python program to solve quadratic equation.</b></h4>"
   ]
  },
  {
   "cell_type": "code",
   "execution_count": 19,
   "metadata": {},
   "outputs": [
    {
     "name": "stdout",
     "output_type": "stream",
     "text": [
      "Enter coefficient a:1.0\n",
      "Enter coefficient b:4.0\n",
      "Enter coefficient c:8.0\n",
      "Discriminant : -16.0\n",
      "Root 1: -2.0 + 2.0i\n",
      "Root 2: -2.0 - 2.0i\n"
     ]
    }
   ],
   "source": [
    "import math\n",
    "\n",
    "# Input coefficients\n",
    "a = float(input(\"Enter coefficient a: \"))\n",
    "b = float(input(\"Enter coefficient b: \"))\n",
    "c = float(input(\"Enter coefficient c: \"))\n",
    "print(f\"Enter coefficient a:{a}\")\n",
    "print(f\"Enter coefficient b:{b}\")\n",
    "print(f\"Enter coefficient c:{c}\")\n",
    "# Calculate the discriminant\n",
    "discriminant = b**2 - 4 * a * c\n",
    "print(f\"Discriminant : {discriminant}\")\n",
    "\n",
    "# Check if the discriminant is positive, negative or zero\n",
    "\n",
    "if discriminant > 0:\n",
    "    # Two real and distinct roots\n",
    "    root1 = (-b + math.sqrt(discriminant)) / (2*a)\n",
    "    root2 = (-b - math.sqrt(discriminant)) / (2*a)\n",
    "    print(f\"Root 1:{root1}\")\n",
    "    print(f\"Root 2:{root2}\")\n",
    "elif discriminant == 0:\n",
    "    # one real root \n",
    "    root = -b / (2*a)\n",
    "    print(f\"Root:{root}\")\n",
    "else:\n",
    "    # complex roots\n",
    "    real_part = -b/(2*a)\n",
    "    imaginary_part = math.sqrt(abs(discriminant)) / (2*a)\n",
    "    print(f\"Root 1: {real_part} + {imaginary_part}i\")\n",
    "    print(f\"Root 2: {real_part} - {imaginary_part}i\")"
   ]
  },
  {
   "cell_type": "code",
   "execution_count": null,
   "metadata": {},
   "outputs": [],
   "source": []
  }
 ],
 "metadata": {
  "kernelspec": {
   "display_name": "Python 3",
   "language": "python",
   "name": "python3"
  },
  "language_info": {
   "codemirror_mode": {
    "name": "ipython",
    "version": 3
   },
   "file_extension": ".py",
   "mimetype": "text/x-python",
   "name": "python",
   "nbconvert_exporter": "python",
   "pygments_lexer": "ipython3",
   "version": "3.8.18"
  }
 },
 "nbformat": 4,
 "nbformat_minor": 2
}

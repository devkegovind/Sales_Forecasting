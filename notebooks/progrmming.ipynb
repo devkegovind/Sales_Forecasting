{
 "cells": [
  {
   "cell_type": "markdown",
   "metadata": {},
   "source": [
    "<h1 style=\"color:black; text-align:center;\"><b>140+ BASIC PYTHON PROGRAMS</b></h1>"
   ]
  },
  {
   "cell_type": "markdown",
   "metadata": {},
   "source": [
    "<h3 style=\"color:black;\"><b>Program 1</b></h3>\n",
    "\n",
    "<h4 style=\"color:black;\"><b>Write a Python program to print \"Hello Python\"</b></h4> "
   ]
  },
  {
   "cell_type": "code",
   "execution_count": 1,
   "metadata": {},
   "outputs": [
    {
     "name": "stdout",
     "output_type": "stream",
     "text": [
      "Hello Python\n"
     ]
    }
   ],
   "source": [
    "print(\"Hello Python\")"
   ]
  },
  {
   "cell_type": "markdown",
   "metadata": {},
   "source": [
    "<h3 style=\"color:black;\"><b>Program 2</b></h3>\n",
    "<h4 style=\"color:black;\"><b>Write a Python program to do arithmetical operations addition and division.</b></h4>"
   ]
  },
  {
   "cell_type": "code",
   "execution_count": 5,
   "metadata": {},
   "outputs": [
    {
     "name": "stdout",
     "output_type": "stream",
     "text": [
      "Enter the first Number:3.5\n",
      "Enter the second Number:2.5\n",
      "Sum: 3.5 + 2.5 = 6.0\n"
     ]
    }
   ],
   "source": [
    "# Addition\n",
    "\n",
    "num1 = float(input(\"Enter the first Number: \"))\n",
    "num2 = float(input(\"Enter the second Number: \"))\n",
    "print(f\"Enter the first Number:{num1}\")\n",
    "print(f\"Enter the second Number:{num2}\")\n",
    "sum_result = num1 + num2\n",
    "print(f\"Sum: {num1} + {num2} = {sum_result}\")"
   ]
  },
  {
   "cell_type": "code",
   "execution_count": 6,
   "metadata": {},
   "outputs": [
    {
     "name": "stdout",
     "output_type": "stream",
     "text": [
      "Enter the dividend for division:25.0\n",
      "Enter the divisor for division:5.0\n",
      "Division: 25.0 / 5.0 = 5.0\n"
     ]
    }
   ],
   "source": [
    "# Division\n",
    "\n",
    "num3 = float(input(\"Enter the dividend for division: \"))\n",
    "num4 = float(input(\"Enter the divisor for division: \"))\n",
    "print(f\"Enter the dividend for division:{num3}\")\n",
    "print(f\"Enter the divisor for division:{num4}\")\n",
    "if num4 == 0:\n",
    "    print(f\"Error: Division By Zero is not allowed\")\n",
    "else:\n",
    "    div_result = num3 / num4\n",
    "    print(f\"Division: {num3} / {num4} = {div_result}\")\n"
   ]
  },
  {
   "cell_type": "markdown",
   "metadata": {},
   "source": [
    "<h3 style=\"color:black;\"><b>Program 3</b></h3>\n",
    "<h4 style=\"color:black;\"><b>Write a Python program to find the area of a triangle.</b></h4>"
   ]
  },
  {
   "cell_type": "code",
   "execution_count": 7,
   "metadata": {},
   "outputs": [
    {
     "name": "stdout",
     "output_type": "stream",
     "text": [
      "Enter the base of triangle:15.0\n",
      "Enter the height of triangle:10.0\n",
      "The Area of triangle is: 75.0\n"
     ]
    }
   ],
   "source": [
    "# Input the base and height from the user\n",
    "a = float(input(\"Enter the base of triangle: \"))\n",
    "b = float(input(\"Enter the height of triangle: \"))\n",
    "print(f\"Enter the base of triangle:{a}\")\n",
    "print(f\"Enter the height of triangle:{b}\")\n",
    "area = 0.5 * a * b\n",
    "print(f\"The Area of triangle is: {area}\")"
   ]
  },
  {
   "cell_type": "markdown",
   "metadata": {},
   "source": [
    "<h3 style=\"color:black;\"><b>Program 4</b></h3>\n",
    "<h4 style=\"color:black;\"><b>Write a Python to swap two variables Using temp.</b></h4>"
   ]
  },
  {
   "cell_type": "code",
   "execution_count": 8,
   "metadata": {},
   "outputs": [
    {
     "name": "stdout",
     "output_type": "stream",
     "text": [
      "Enter the value of the first variable(a):5\n",
      "Enter the value of second variable(b):9\n",
      "Swapped Values: a = 9, b = 5\n"
     ]
    }
   ],
   "source": [
    "# Input two variables from user\n",
    "a = input(\"Enter the value of the first variable(a): \")\n",
    "b = input(\"Enter the value of second variable(b): \")\n",
    "\n",
    "# Display the original values\n",
    "print(f\"Enter the value of the first variable(a):{a}\")\n",
    "print(f\"Enter the value of second variable(b):{b}\")\n",
    "\n",
    "# Swap the values using a temporary variable\n",
    "temp = a\n",
    "a = b\n",
    "b = temp\n",
    "\n",
    "# Display the swapped values \n",
    "print(f\"Swapped Values: a = {a}, b = {b}\")"
   ]
  },
  {
   "cell_type": "markdown",
   "metadata": {},
   "source": [
    "<h3 style=\"color:black;\"><b> Program 5</b></h3>\n",
    "<h4 style = \"color:black;\"><b>Write a Python program to generate a random number.</b></h4>"
   ]
  },
  {
   "cell_type": "code",
   "execution_count": 9,
   "metadata": {},
   "outputs": [
    {
     "name": "stdout",
     "output_type": "stream",
     "text": [
      "Random Number : 14\n"
     ]
    }
   ],
   "source": [
    "import random\n",
    "print(f\"Random Number : {random.randint(1,100)}\")"
   ]
  },
  {
   "cell_type": "markdown",
   "metadata": {},
   "source": [
    "<h3 style=\"color:black;\"><b>Program 6</b></h3>\n",
    "<h4 style=\"color:black;\"><b>Write a Python program to convert kilometers to miles.</b></h4>"
   ]
  },
  {
   "cell_type": "code",
   "execution_count": 10,
   "metadata": {},
   "outputs": [
    {
     "name": "stdout",
     "output_type": "stream",
     "text": [
      "Enter distance in kilometers:100.0\n",
      "100.0 km is equal to 62.137100000000004 miles.\n"
     ]
    }
   ],
   "source": [
    "kilometers = float(input(\"Enter distance in kilometers: \"))\n",
    "print(f\"Enter distance in kilometers:{kilometers}\")\n",
    "# conversion factor: 1 km = 0.621371 mile\n",
    "conversion_factor = 0.621371\n",
    "miles = conversion_factor * kilometers\n",
    "print(f\"{kilometers} km is equal to {miles} miles.\")"
   ]
  },
  {
   "cell_type": "markdown",
   "metadata": {},
   "source": [
    "<h3 style=\"color:black;\"><b>Program 7 </b></h3>\n",
    "<h4 style=\"color:black;\"><b>Write a Python program to convert Celsius to Fahrenheit.</b></h4>"
   ]
  },
  {
   "cell_type": "code",
   "execution_count": 13,
   "metadata": {},
   "outputs": [
    {
     "name": "stdout",
     "output_type": "stream",
     "text": [
      "The temaperature in celsius is:37.0\n",
      "37.0 degrees Celsius is equal to 98.6degrees\n"
     ]
    }
   ],
   "source": [
    "celsius = float(input(\"Enter the temperature in celsius: \"))\n",
    "print(f\"The temaperature in celsius is:{celsius}\")\n",
    "\n",
    "# Conversion formula : Fahrenheit = (Celsius * 9/5) + 32\n",
    "Fahrenheit = (celsius * 9/5) + 32\n",
    "\n",
    "print(f\"{celsius} degrees Celsius is equal to {Fahrenheit} degrees\")"
   ]
  },
  {
   "cell_type": "markdown",
   "metadata": {},
   "source": [
    "<h3 style=\"color:black;\"><b>Program 8</b></h3>\n",
    "<h4 style=\"color:black;\"><b>Write a Python program to display calender.</b></h4>"
   ]
  },
  {
   "cell_type": "code",
   "execution_count": 17,
   "metadata": {},
   "outputs": [
    {
     "name": "stdout",
     "output_type": "stream",
     "text": [
      "Year:2024\n",
      "Month:6\n",
      "     June 2024\n",
      "Mo Tu We Th Fr Sa Su\n",
      "                1  2\n",
      " 3  4  5  6  7  8  9\n",
      "10 11 12 13 14 15 16\n",
      "17 18 19 20 21 22 23\n",
      "24 25 26 27 28 29 30\n",
      "\n"
     ]
    }
   ],
   "source": [
    "import calendar\n",
    "\n",
    "year = int(input(\"Enter Year: \"))\n",
    "month = int(input(\"Enter month: \"))\n",
    "print(f\"Year:{year}\")\n",
    "print(f\"Month:{month}\")\n",
    "cal = calendar.month(year, month)\n",
    "print(cal)"
   ]
  },
  {
   "cell_type": "markdown",
   "metadata": {},
   "source": [
    "<h3 style=\"color:black;\"><b>Program 9</b></h3>\n",
    "<h4 style=\"color:black;\"><b>Write a Python program to solve quadratic equation.</b></h4>"
   ]
  },
  {
   "cell_type": "code",
   "execution_count": 19,
   "metadata": {},
   "outputs": [
    {
     "name": "stdout",
     "output_type": "stream",
     "text": [
      "Enter coefficient a:1.0\n",
      "Enter coefficient b:4.0\n",
      "Enter coefficient c:8.0\n",
      "Discriminant : -16.0\n",
      "Root 1: -2.0 + 2.0i\n",
      "Root 2: -2.0 - 2.0i\n"
     ]
    }
   ],
   "source": [
    "import math\n",
    "\n",
    "# Input coefficients\n",
    "a = float(input(\"Enter coefficient a: \"))\n",
    "b = float(input(\"Enter coefficient b: \"))\n",
    "c = float(input(\"Enter coefficient c: \"))\n",
    "print(f\"Enter coefficient a:{a}\")\n",
    "print(f\"Enter coefficient b:{b}\")\n",
    "print(f\"Enter coefficient c:{c}\")\n",
    "# Calculate the discriminant\n",
    "discriminant = b**2 - 4 * a * c\n",
    "print(f\"Discriminant : {discriminant}\")\n",
    "\n",
    "# Check if the discriminant is positive, negative or zero\n",
    "\n",
    "if discriminant > 0:\n",
    "    # Two real and distinct roots\n",
    "    root1 = (-b + math.sqrt(discriminant)) / (2*a)\n",
    "    root2 = (-b - math.sqrt(discriminant)) / (2*a)\n",
    "    print(f\"Root 1:{root1}\")\n",
    "    print(f\"Root 2:{root2}\")\n",
    "elif discriminant == 0:\n",
    "    # one real root \n",
    "    root = -b / (2*a)\n",
    "    print(f\"Root:{root}\")\n",
    "else:\n",
    "    # complex roots\n",
    "    real_part = -b/(2*a)\n",
    "    imaginary_part = math.sqrt(abs(discriminant)) / (2*a)\n",
    "    print(f\"Root 1: {real_part} + {imaginary_part}i\")\n",
    "    print(f\"Root 2: {real_part} - {imaginary_part}i\")"
   ]
  },
  {
   "cell_type": "markdown",
   "metadata": {},
   "source": [
    "<h3 style=\"color:black;\"><b>Program 10</b></h3>\n",
    "<h4 style=\"color:black;\"><b>Write a Python program to swap two variables without temp variable.</b></h4>"
   ]
  },
  {
   "cell_type": "code",
   "execution_count": 1,
   "metadata": {},
   "outputs": [
    {
     "name": "stdout",
     "output_type": "stream",
     "text": [
      "Enter the value of (a):5\n",
      "Enter the value of (b):10\n",
      "After Swapping:\n",
      "The value of a after swapping:10\n",
      "The value of b after swapping:5\n"
     ]
    }
   ],
   "source": [
    "a = int(input(\"Enter the value of (a): \"))\n",
    "b = int(input(\"Enter the value of (b): \"))\n",
    "print(f\"Enter the value of (a):{a}\")\n",
    "print(f\"Enter the value of (b):{b}\")\n",
    "\n",
    "# Swapping without a temporary variables\n",
    "a, b = b, a\n",
    "\n",
    "print(\"After Swapping:\")\n",
    "print(f\"The value of a after swapping:{a}\")\n",
    "print(f\"The value of b after swapping:{b}\")"
   ]
  },
  {
   "cell_type": "markdown",
   "metadata": {},
   "source": [
    "### **Program 11**\n",
    "#### **Write a Python Program to Check if a Number is Positive, Negative or Zero.**"
   ]
  },
  {
   "cell_type": "code",
   "execution_count": 3,
   "metadata": {},
   "outputs": [
    {
     "name": "stdout",
     "output_type": "stream",
     "text": [
      "The given number is:3\n",
      "The given number 3 is Positive number.\n"
     ]
    }
   ],
   "source": [
    "num = int(input(\"Enter the number: \"))\n",
    "print(f\"The given number is:{num}\")\n",
    "if num > 0:\n",
    "    print(f\"The given number {num} is Positive number.\")\n",
    "elif num == 0:\n",
    "    print(f\"The given number {num} is zero.\")\n",
    "else:\n",
    "    print(f\"The given number {num} is Negative number.\")"
   ]
  },
  {
   "cell_type": "markdown",
   "metadata": {},
   "source": [
    "### **Program 12**\n",
    "#### **Write a Python Program to Check if a Number is Odd or Even.**"
   ]
  },
  {
   "cell_type": "code",
   "execution_count": 4,
   "metadata": {},
   "outputs": [
    {
     "name": "stdout",
     "output_type": "stream",
     "text": [
      "The given number is 3\n",
      "The given number 3 is odd.\n"
     ]
    }
   ],
   "source": [
    "num= int(input(\"Enter a number: \"))\n",
    "print(f\"The given number is {num}\")\n",
    "\n",
    "if num % 2 == 0:\n",
    "    print(f\"The given number {num} is even.\")\n",
    "else:\n",
    "    print(f\"The given number {num} is odd.\")"
   ]
  },
  {
   "cell_type": "markdown",
   "metadata": {},
   "source": [
    "### **Program 13**\n",
    "#### **Write a Python Program to Check Leap Year.**"
   ]
  },
  {
   "cell_type": "code",
   "execution_count": 6,
   "metadata": {},
   "outputs": [
    {
     "name": "stdout",
     "output_type": "stream",
     "text": [
      "The given Year is:2024\n",
      "The given Year 2024 is Leap Year.\n"
     ]
    }
   ],
   "source": [
    "year = int(input(\"Enter the Year: \"))\n",
    "print(f\"The given Year is:{year}\")\n",
    "\n",
    "# Divided by 100 means century year(ending with 00)\n",
    "# Century Year divided by 400 is Leap Year\n",
    "if (year % 400 == 0) and (year % 100 == 0):\n",
    "    print(f\"The given Year {year} is Leap Year.\")\n",
    "    \n",
    "# not divided by 100 means not a century year\n",
    "# year divided by 4 is Leap Year\n",
    "elif (year % 4 == 0) and (year % 100 != 0):\n",
    "    print(f\"The given Year {year} is Leap Year.\")\n",
    "\n",
    "# if not divided by both 400(century year) and 4 (not century year)\n",
    "# year is not a leap year\n",
    "else:\n",
    "    print(f\"The given Year {year} is not Leap Year.\")"
   ]
  },
  {
   "cell_type": "markdown",
   "metadata": {},
   "source": [
    "### **Program 14**\n",
    "#### **Write a Python Program to Check Prime Number**\n",
    "**Prime Numbers:**\n",
    "\n",
    "- *A prime number is a whole number that cannot be evenly divided by any other number except for 1 and itself. For example 2, 3, 5, 7, 11 and 13 are prime numbers because they cannot be divided by any other positive integer except for a and their own value.* "
   ]
  },
  {
   "cell_type": "code",
   "execution_count": 8,
   "metadata": {},
   "outputs": [
    {
     "name": "stdout",
     "output_type": "stream",
     "text": [
      "Enter a number:5\n",
      "5 is a prime number\n"
     ]
    }
   ],
   "source": [
    "num = int(input(\"Enter a number: \"))\n",
    "print(f\"Enter a number:{num}\")\n",
    "\n",
    "# Define flag variable\n",
    "flag = False\n",
    "\n",
    "if num == 1:\n",
    "    print(f\"{num}, is not a prime number\")\n",
    "elif num > 1:\n",
    "    # check for factors\n",
    "    for i in range(2, num):\n",
    "        if (num % i) == 0:\n",
    "            flag = True # if factor is found, set flag to True\n",
    "            # break out of loop\n",
    "            break\n",
    "    # Check if flag is True\n",
    "if flag:\n",
    "    print(f\"{num} is not a prime number.\")\n",
    "else:\n",
    "    print(f\"{num} is a prime number\")"
   ]
  },
  {
   "cell_type": "markdown",
   "metadata": {},
   "source": [
    "### **Program 15**\n",
    "#### **Write a Python Program to Print all Prime Numbers in an interval of 1-10**"
   ]
  },
  {
   "cell_type": "code",
   "execution_count": 3,
   "metadata": {},
   "outputs": [
    {
     "name": "stdout",
     "output_type": "stream",
     "text": [
      "Prime Numbers Between, 1 and 10 are:\n",
      "2\n",
      "3\n",
      "5\n",
      "7\n"
     ]
    }
   ],
   "source": [
    "lower = 1\n",
    "upper = 10\n",
    "\n",
    "print(f\"Prime Numbers Between, {lower} and {upper} are:\")\n",
    "\n",
    "for num in range(lower, upper + 1):\n",
    "    # All prime numbesr are greater than 1\n",
    "    if num > 1:\n",
    "        for i in range(2, num):\n",
    "            if (num % i) == 0:\n",
    "                break\n",
    "        else:\n",
    "            print(num)"
   ]
  },
  {
   "cell_type": "markdown",
   "metadata": {},
   "source": [
    "### **Program 16**\n",
    "#### **Write a Python program to find the factorial of a Number.**"
   ]
  },
  {
   "cell_type": "code",
   "execution_count": 4,
   "metadata": {},
   "outputs": [
    {
     "name": "stdout",
     "output_type": "stream",
     "text": [
      "The given number is:4\n",
      "The Factorial of given number 4 is 24\n"
     ]
    }
   ],
   "source": [
    "num = int(input(\"Enter a number: \"))\n",
    "print(f\"The given number is:{num}\")\n",
    "\n",
    "factorial = 1\n",
    "\n",
    "if num < 0:\n",
    "    print(\"Factorial does not exist for negative numbers\")\n",
    "elif num == 0:\n",
    "    print(f\"Factorial of given number {num} is 1\")\n",
    "else:\n",
    "    for i in range(1, num+1):\n",
    "        factorial = factorial*i\n",
    "    print(f\"The Factorial of given number {num} is {factorial}\")"
   ]
  },
  {
   "cell_type": "markdown",
   "metadata": {},
   "source": [
    "### **Program 17**\n",
    "#### **Write a Python Program to Display the Multiplication Table**"
   ]
  },
  {
   "cell_type": "code",
   "execution_count": 5,
   "metadata": {},
   "outputs": [
    {
     "name": "stdout",
     "output_type": "stream",
     "text": [
      "Enter the number:11\n",
      "11 * 1 = 11\n",
      "11 * 2 = 22\n",
      "11 * 3 = 33\n",
      "11 * 4 = 44\n",
      "11 * 5 = 55\n",
      "11 * 6 = 66\n",
      "11 * 7 = 77\n",
      "11 * 8 = 88\n",
      "11 * 9 = 99\n",
      "11 * 10 = 110\n"
     ]
    }
   ],
   "source": [
    "num = int(input(\"Enter the number: \"))\n",
    "print(f\"Enter the number:{num}\")\n",
    "\n",
    "for i in range(1, 11):\n",
    "    print(f\"{num} * {i} = {num*i}\")"
   ]
  },
  {
   "cell_type": "markdown",
   "metadata": {},
   "source": [
    "### **Program 18**\n",
    "#### **Write a Python Program to print the Fibonacci sequence**\n",
    "\n",
    " **Fibonacci Sequence:**\n",
    " \n",
    " *The Fibonacci sequence is a series of numbers where each number is the sum of the two preceding ones, typicaaly starting with 0 and 1. So the sequence begins with 0 and 1, and the next number is obtained by adding the previous two numbers. This pattern continues indefinitely, generating a sequence that looks like this:*\n",
    " \n",
    " $0,1,1,2,3,5,8,13,21,34,55,89,144, and  so on.$\n",
    "\n",
    "*Mathematically the Fibonacci sequence can be defined using the following relation:*\n",
    "\n",
    "$F(0) = 0 F(1) = 1 F(n) = F(n - 1) + f(n -2) for n > 1$"
   ]
  },
  {
   "cell_type": "code",
   "execution_count": 7,
   "metadata": {},
   "outputs": [
    {
     "name": "stdout",
     "output_type": "stream",
     "text": [
      "How many terms? 10\n",
      "Fibonacci Sequence:\n",
      "0\n",
      "1\n",
      "1\n",
      "2\n",
      "3\n",
      "5\n",
      "8\n",
      "13\n",
      "21\n",
      "34\n"
     ]
    }
   ],
   "source": [
    "nterms = int(input(\"How many terms? \"))\n",
    "print(f\"How many terms? {nterms}\")\n",
    "\n",
    "# first two terms\n",
    "n1, n2 = 0, 1\n",
    "count = 0\n",
    "\n",
    "# Check if the number of terms is valid\n",
    "if nterms <= 0:\n",
    "    print(\"Enter a positive integer\")\n",
    "# if there is only one term, return n1\n",
    "elif nterms == 1:\n",
    "    print(f\"Fibonacci Sequence upto {nterms}\")\n",
    "    print(n1)\n",
    "# generate fibonacci sequence\n",
    "else:\n",
    "    print(\"Fibonacci Sequence:\")\n",
    "    while count < nterms:\n",
    "        print(n1)\n",
    "        nth = n1 + n2\n",
    "        # update values\n",
    "        n1 = n2\n",
    "        n2 = nth\n",
    "        count += 1"
   ]
  },
  {
   "cell_type": "markdown",
   "metadata": {},
   "source": [
    "### **Program 19**\n",
    "#### **Write a Python Program to Check Armstrong Number**\n",
    "\n",
    "**Armstrong Number:**\n",
    "- *It is a number that is equal to the sum of its own digits, each raised to a power equal to the number of digits in the number.*\n",
    "\n",
    "*For example, let's consider the number 153:*\n",
    "\n",
    "- It has three digits(1, 5, 3)\n",
    "- if we calculate 1^3 + 5^3 + 3^3, we get 1 + 125 + 27, which is equal to 153.\n",
    "*so it is armstrong number.*"
   ]
  },
  {
   "cell_type": "code",
   "execution_count": 8,
   "metadata": {},
   "outputs": [
    {
     "name": "stdout",
     "output_type": "stream",
     "text": [
      "Enter a Number:153\n",
      "The given number 153 is Armstrong Number.\n"
     ]
    }
   ],
   "source": [
    "num = int(input(\"Enter a Number: \"))\n",
    "print(f\"Enter a Number:{num}\")\n",
    "\n",
    "# calculate the number of digits in number\n",
    "num_str = str(num)\n",
    "num_digits = len(num_str)\n",
    "\n",
    "# Initiate variables\n",
    "sum_of_powers = 0\n",
    "temp_num = num\n",
    "\n",
    "# Calculate the sum of digits raised to the power of num_digits\n",
    "\n",
    "while temp_num > 0:\n",
    "    digit = temp_num % 10\n",
    "    sum_of_powers  += digit ** num_digits\n",
    "    temp_num //= 10\n",
    "\n",
    "# Check if it's an Armstrong number\n",
    "if sum_of_powers == num:\n",
    "    print(f\"The given number {num} is Armstrong Number.\")\n",
    "else:\n",
    "    print(f\"The given number {num} is not Armstrong Number.\")"
   ]
  },
  {
   "cell_type": "markdown",
   "metadata": {},
   "source": [
    "### **Program 20**\n",
    "#### **Write a Python Program to Find Armstrong Number in an Interval.** "
   ]
  },
  {
   "cell_type": "code",
   "execution_count": 11,
   "metadata": {},
   "outputs": [
    {
     "name": "stdout",
     "output_type": "stream",
     "text": [
      "Enter the lower limit of the interval:10\n",
      "Enter the upper limit of the interval:1000\n",
      "153\n",
      "370\n",
      "371\n",
      "407\n"
     ]
    }
   ],
   "source": [
    "# Input the Interval from the user\n",
    "lower = int(input(\"Enter the lower limit of the interval: \"))\n",
    "upper = int(input(\"Enter the upper limit of the interval: \"))\n",
    "print(f\"Enter the lower limit of the interval:{lower}\")\n",
    "print(f\"Enter the upper limit of the interval:{upper}\")\n",
    "\n",
    "for num in range(lower, upper+1):\n",
    "    num_digits = len(str(num)) # Find the number of digits in number\n",
    "    temp_num = num\n",
    "    sum_of_powers = 0 \n",
    "\n",
    "    while temp_num > 0:\n",
    "        digit = temp_num % 10\n",
    "        sum_of_powers += digit ** num_digits\n",
    "        temp_num //= 10\n",
    "\n",
    "    # Check if num is an armstrong number\n",
    "    if num == sum_of_powers:\n",
    "        print(num)"
   ]
  },
  {
   "cell_type": "markdown",
   "metadata": {},
   "source": [
    "### **Program 21**\n",
    "#### **Write a Python Program to find the sum of Natural Numbers.**\n",
    "\n",
    "**Natural Numbers** *are a set of positive integers that are used to count and order objects. They are the numbers that typically start from 1 and continue indefinitely, including all the whole numbers greater than 0. In mathematical the set of natural numbers is often denoted as \"N\" and can be expressed as:*\n",
    " $N = 1, 2, 3, 4, 5,6, 7, 8....$"
   ]
  },
  {
   "cell_type": "code",
   "execution_count": 12,
   "metadata": {},
   "outputs": [
    {
     "name": "stdout",
     "output_type": "stream",
     "text": [
      "Enter the limit:10\n",
      "The sum of nautral numbers uo to 10 is: 55\n"
     ]
    }
   ],
   "source": [
    "limit = int(input(\"Enter the limit: \"))\n",
    "print(f\"Enter the limit:{limit}\")\n",
    "\n",
    "# Initialize the sum\n",
    "sum = 0\n",
    "\n",
    "# Use a for loop to calculate the sum of natural numbers\n",
    "for i in range(1, limit+1):\n",
    "    sum += i\n",
    "print(f\"The sum of nautral numbers uo to {limit} is: {sum}\")"
   ]
  },
  {
   "cell_type": "markdown",
   "metadata": {},
   "source": [
    "### **Program 22**\n",
    "#### **Write a Python Program to find LCM.**\n",
    "\n",
    "**Least Common Multiple(LCM)**:\n",
    "\n",
    "*LCM, or Least Common Multiple, is the smallest multiple that is exactly divisible by two or more numbers.*\n",
    "\n",
    "*formula:*\n",
    "for two numbers a and b, the LCM can be found using the formula:\n",
    "\n",
    "$LCM(a, b)$ = $|a.b|$/$GCD(a,b)$\n",
    "\n",
    "For more than two numbers, you can find the LCM step by step, taking LCM of pairs of numbers at a time until you reach the last pair.\n",
    "\n",
    "**Note:** GCD stands for Greatest Common Divisior."
   ]
  },
  {
   "cell_type": "code",
   "execution_count": 13,
   "metadata": {},
   "outputs": [
    {
     "name": "stdout",
     "output_type": "stream",
     "text": [
      "Enter the number:54\n",
      "Enter the number:24\n",
      "The L.C.M. is 216\n"
     ]
    }
   ],
   "source": [
    "def compute_lcm(x, y):\n",
    "    if x > y :\n",
    "        greater = x\n",
    "    else:\n",
    "        greater = y\n",
    "\n",
    "    while(True):\n",
    "        if ((greater % x == 0) and (greater % y == 0)):\n",
    "            lcm = greater\n",
    "            break\n",
    "        greater += 1\n",
    "    return lcm\n",
    "\n",
    "num1 = int(input(\"Enter the number: \"))\n",
    "num2 = int(input(\"Enter the number: \"))\n",
    "\n",
    "print(f\"Enter the number:{num1}\")\n",
    "print(f\"Enter the number:{num2}\")\n",
    "\n",
    "print(f\"The L.C.M. is {compute_lcm(num1, num2)}\")"
   ]
  },
  {
   "cell_type": "markdown",
   "metadata": {},
   "source": [
    "### **Program 23**\n",
    "#### **Write a Python Program to find HCF**\n",
    "\n",
    "**Highest Common Factor(HCF):**\n",
    "HCF, or Highest Common Factor, is the largest positive integer that divides two or more numbesr without leaving a reminder.\n",
    "\n",
    "Formula:\n",
    "\n",
    "For two numbesr a and b, the HCF can be found using the formula:\n",
    "\n",
    "$HCF(a,b)$ = $GCD(a,b)$\n",
    "\n",
    "For more than two numbesr, you can find the HCF by taking the GCD of pairs of numbers at a time until you reach the last pair."
   ]
  },
  {
   "cell_type": "code",
   "execution_count": 14,
   "metadata": {},
   "outputs": [
    {
     "name": "stdout",
     "output_type": "stream",
     "text": [
      "Enter the number:54\n",
      "Enter the number:24\n",
      "The H.C.F. is 6\n"
     ]
    }
   ],
   "source": [
    "def compute_hcf(x, y):\n",
    "#choose the smaller number\n",
    "    if x > y :\n",
    "        smaller = y\n",
    "    else:\n",
    "        smaller = x\n",
    "    for i in range(1, smaller+1):\n",
    "        if((x % i == 0) and (y % i == 0)):\n",
    "            hcf = i\n",
    "    return hcf\n",
    "\n",
    "num1 = int(input(\"Enter the number: \"))\n",
    "num2 = int(input(\"Enter the number: \"))\n",
    "print(f\"Enter the number:{num1}\")\n",
    "print(f\"Enter the number:{num2}\")\n",
    "print(f\"The H.C.F. is {compute_hcf(num1, num2)}\")"
   ]
  },
  {
   "cell_type": "markdown",
   "metadata": {},
   "source": [
    "### **Program 24**\n",
    "#### **Write a Python Program to convert Decimal to Binary, Octal, and Hexadecimal**\n",
    "\n",
    "**How can we manually convert a decimal number to binary, octal and hexadecimal?**\n",
    "\n",
    "- Converting a decimal number to binary, octal, and hexadecimal involves dividing the decimal number by the base repeatedly and noting the remainders at each step. Here's a simple example:\n",
    "\n",
    "Let's convert the decimal number 27 to binary, octal and hexadecimal.\n",
    "\n",
    "**1. Binary:**\n",
    "\n",
    "- Divide 27 by 2. Quotient is 13, remainder is 1. Note the remainder.\n",
    "- Divide 13 by 2. Quotient is 6, remainder is 1. Note the remainder.\n",
    "- Divide 6 by 2. Quotient is 3, remainder is 0. Note the remainder.\n",
    "- Divide 3 by 2. Quotient is 1, remainder is 1. Note the remainder.\n",
    "- Divide 1 by 2. Quotient is 0, remainder is 1.Note the remainder.\n",
    "\n",
    "Reading the remainders from botteom to top, the binary representation of 27 is 11011.\n",
    "\n",
    "**2. Octal:**\n",
    "\n",
    "- Divide 27 by 8. Quotient is 3, remainder is 3. Note the remainder.\n",
    "- Divide 3 by 8. Quotient is 0, remainder is 3. Note the remainder.\n",
    "\n",
    "Reading the remainders from bottom to top, the octal representation of 27 is 33.\n",
    "\n",
    "**3. Hexadecimal:**\n",
    "\n",
    "- Divide 27 by 16. Quotient is 1, remainder is 11(B in hexadecimal). Note the remainder.\n",
    "\n",
    "Reading the remainders, the hexadecimal representation of 27 is 1B.\n",
    "\n",
    "So, in Summary:\n",
    "- Binary:27 in decimal is 11011 in binary.\n",
    "- Octal:27 in decimal is 33 in octal.\n",
    "- Hexadecimal:27 in decimal is 1B in hexadecimal."
   ]
  },
  {
   "cell_type": "code",
   "execution_count": 15,
   "metadata": {},
   "outputs": [
    {
     "name": "stdout",
     "output_type": "stream",
     "text": [
      "Enter a decimal number:27\n",
      "The decimal value of 27 is:\n",
      "0b11011, in binary.\n",
      "0o33, in octal.\n",
      "0x1b, in hexadecimal.\n"
     ]
    }
   ],
   "source": [
    "dec_num = int(input(\"Enter a decimal number: \"))\n",
    "print(f\"Enter a decimal number:{dec_num}\")\n",
    "\n",
    "print(f\"The decimal value of {dec_num} is:\")\n",
    "print(f\"{bin(dec_num)}, in binary.\")\n",
    "print(f\"{oct(dec_num)}, in octal.\")\n",
    "print(f\"{hex(dec_num)}, in hexadecimal.\")"
   ]
  },
  {
   "cell_type": "markdown",
   "metadata": {},
   "source": [
    "### **Program 25**\n",
    "**Write a Python Program To Find ACII Value of a character.**\n",
    "\n",
    "**ASCII Value:**\n",
    "ASCII, or American Standard Code for Information Interchange, is a character encoding standard that uses values to represent characters. Each ASCII character is assigned a unique 7-bit or 8-bit binary number, allowing computers to exchange information and display text in a consistent way. The ASCII values range from 0 to 127 (for 7-bit ASCII) or 0 to 255(for 8-bit ASCII), with each value corresponding to a specific character, such as letters, digits, punctuation marks, and control characters."
   ]
  },
  {
   "cell_type": "code",
   "execution_count": 16,
   "metadata": {},
   "outputs": [
    {
     "name": "stdout",
     "output_type": "stream",
     "text": [
      "Enter the character:P\n",
      "The ASCII value of P is, 80\n"
     ]
    }
   ],
   "source": [
    "char = str(input(\"Enter the character: \"))\n",
    "print(f\"Enter the character:{char}\")\n",
    "print(f\"The ASCII value of {char} is, {ord(char)}\")"
   ]
  },
  {
   "cell_type": "markdown",
   "metadata": {},
   "source": [
    "### **Program 26**\n",
    "#### **Write a Python Program to Make a Simple Calculator with 4 basic mathematical operations.**"
   ]
  },
  {
   "cell_type": "code",
   "execution_count": 20,
   "metadata": {},
   "outputs": [
    {
     "name": "stdout",
     "output_type": "stream",
     "text": [
      "Select Operations:\n",
      "1.Add\n",
      "2.Subtract\n",
      "3.Multiply\n",
      "4.Divide\n",
      "10.0 + 20.0 = 30.0\n",
      "35.0 - 45.0 = -10.0\n",
      "100.0 * 10.0 = 1000.0\n",
      "90.0 / 10.0 =  9.0\n"
     ]
    }
   ],
   "source": [
    "def add(x, y):\n",
    "    return x + y\n",
    "def subtract(x, y):\n",
    "    return x - y\n",
    "def multiply(x, y):\n",
    "    return x * y\n",
    "def divide(x, y):\n",
    "    return x / y\n",
    "\n",
    "print(\"Select Operations:\")\n",
    "print(\"1.Add\")\n",
    "print(\"2.Subtract\")\n",
    "print(\"3.Multiply\")\n",
    "print(\"4.Divide\")\n",
    "\n",
    "while True:\n",
    "    choice = input(\"Enter choice(1/2/3/4): \")\n",
    "\n",
    "    if choice in ('1', '2', '3', '4'):\n",
    "        try:\n",
    "            num1 = float(input(\"Enter first number: \"))\n",
    "            num2 = float(input(\"Enter second number: \"))\n",
    "\n",
    "        except ValueError:\n",
    "            print(\"Invalid input. Please enter a number.\") \n",
    "            continue\n",
    "\n",
    "        if choice == '1':\n",
    "            print(f\"{num1} + {num2} = {add(num1, num2)}\")\n",
    "        \n",
    "        elif choice == '2':\n",
    "            print(f\"{num1} - {num2} = {subtract(num1, num2)}\")\n",
    "        \n",
    "        elif choice == '3':\n",
    "            print(f\"{num1} * {num2} = {multiply(num1, num2)}\")\n",
    "\n",
    "        elif choice == '4':\n",
    "            print(f\"{num1} / {num2} =  {divide(num1, num2)}\")\n",
    "\n",
    "\n",
    "        next_calculation = input(\"Let's do next calculation? (yes/no)\")\n",
    "        if next_calculation == \"no\":\n",
    "            break\n",
    "    else:\n",
    "        print(\"Invalid Input\")"
   ]
  },
  {
   "cell_type": "markdown",
   "metadata": {},
   "source": [
    "### **Program 27**\n",
    "#### **Write a Python Program to Display Fibonacci Sequence Using Recursion.**"
   ]
  },
  {
   "cell_type": "code",
   "execution_count": 22,
   "metadata": {},
   "outputs": [
    {
     "name": "stdout",
     "output_type": "stream",
     "text": [
      "Enter the number of terms(greater than 0):8\n",
      "Fibonacci Sequence:\n",
      "0\n",
      "1\n",
      "1\n",
      "2\n",
      "3\n",
      "5\n",
      "8\n",
      "13\n"
     ]
    }
   ],
   "source": [
    "def recur_fibo(n):\n",
    "    if n <= 1:\n",
    "        return n\n",
    "    else:\n",
    "        return(recur_fibo(n-1) + recur_fibo(n-2))\n",
    "    \n",
    "nterms = int(input(\"Enter the number of terms (greater than 0): \"))\n",
    "print(f\"Enter the number of terms(greater than 0):{nterms}\")\n",
    "if nterms <= 0:\n",
    "    print(\"please enter a positive integer\")\n",
    "else:\n",
    "    print(\"Fibonacci Sequence:\")\n",
    "    for i in range(nterms):\n",
    "        print(recur_fibo(i))"
   ]
  },
  {
   "cell_type": "markdown",
   "metadata": {},
   "source": [
    "### **Program 28**\n",
    "#### **Write a Python Program to Find Factorial of Number Using Recrusion**"
   ]
  },
  {
   "cell_type": "code",
   "execution_count": 23,
   "metadata": {},
   "outputs": [
    {
     "name": "stdout",
     "output_type": "stream",
     "text": [
      "Enter the number:7\n",
      "The factorial of 7 is 5040\n"
     ]
    }
   ],
   "source": [
    "def recur_factorial(n):\n",
    "    if n == 1:\n",
    "        return n\n",
    "    else:\n",
    "        return n*recur_factorial(n-1)\n",
    "    \n",
    "num = int(input(\"Enter the number: \"))\n",
    "print(f\"Enter the number:{num}\")\n",
    "\n",
    "# check if the number is negative\n",
    "if num < 0:\n",
    "    print(\"Factorial does not exist\")\n",
    "elif num == 0:\n",
    "    print(\"The factorial of 0 is 1\")\n",
    "else:\n",
    "    print(f\"The factorial of {num} is {recur_factorial(num)}\")"
   ]
  },
  {
   "cell_type": "markdown",
   "metadata": {},
   "source": [
    "### **Program 29**\n",
    "#### **Write a Python Program to calculate your Body Mass Index.**\n",
    "\n",
    "**Body Mass Index(BMI)** is a measure of body fat based on an individual's weight and height. It is uesd as screening tool to categorize individuals into different weight status categories, such as underweight, normal weight, overweight, and obesity.\n",
    "\n",
    "The BMI is calculated using the following formula:\n",
    "\n",
    "$BMI$ = $Weight(Kg)$ / $Height(m)2$ \n",
    "\n",
    "Alternatively, in the imperial system:\n",
    "\n",
    "$BMI$ = $Weight(lb)$ / $Height(in)2$ * $703$\n",
    "\n",
    "*BMI provides a general indication of body fatness but does not directly measure body fat or distribution. It is widely used in public health and clinical settings as a quick and simple tool to assess potential health risks associated with weight. Different BMI ranges are associated with different health categories, but it's important to note that BMI has limitations and does not account for factors such as muscle mass or distribution of fat.*"
   ]
  },
  {
   "cell_type": "code",
   "execution_count": 24,
   "metadata": {},
   "outputs": [
    {
     "name": "stdout",
     "output_type": "stream",
     "text": [
      "Enter your height in meters:1.8\n",
      "Enter your weight in kg:70.0\n",
      "Welcome to the BMI Calculator\n",
      "Your BMI is 21.6\n",
      "your weight is normal\n"
     ]
    }
   ],
   "source": [
    "def bodymassindex(height, weight):\n",
    "    return round((weight / height**2),2)\n",
    "\n",
    "h = float(input(\"Enter your height in meters: \"))\n",
    "w = float(input(\"Enter your weight in kg: \"))\n",
    "\n",
    "print(f\"Enter your height in meters:{h}\")\n",
    "print(f\"Enter your weight in kg:{w}\")\n",
    "\n",
    "print(\"Welcome to the BMI Calculator\")\n",
    "\n",
    "BMI = bodymassindex(h, w)\n",
    "print(f\"Your BMI is {BMI}\")\n",
    "\n",
    "if BMI <= 18.5:\n",
    "    print(\"you are underweight\")\n",
    "elif 18.5 < BMI <= 24.9:\n",
    "    print(\"your weight is normal\")\n",
    "elif 25 < BMI <= 29.29:\n",
    "    print(\"You are overweight\")\n",
    "else:\n",
    "    print(\"You are obese\")"
   ]
  },
  {
   "cell_type": "markdown",
   "metadata": {},
   "source": [
    "### **Program 30**\n",
    "#### **Write a Python Program to Calculate the Natural logarithm of any number.**"
   ]
  },
  {
   "cell_type": "code",
   "execution_count": 25,
   "metadata": {},
   "outputs": [
    {
     "name": "stdout",
     "output_type": "stream",
     "text": [
      "Enter a number :1.4\n",
      "The natural logarithm of 1.4 is :0.3364722366212129\n"
     ]
    }
   ],
   "source": [
    "import math\n",
    "\n",
    "num = float(input(\"Enter a number: \"))\n",
    "print(f\"Enter a number :{num}\")\n",
    "\n",
    "if num <= 0:\n",
    "    print(\"please enter a positive number.\")\n",
    "else:\n",
    "    result = math.log(num)\n",
    "    print(f\"The natural logarithm of {num} is :{result}\")"
   ]
  },
  {
   "cell_type": "markdown",
   "metadata": {},
   "source": [
    "### **Program 31**\n",
    "#### **Write a Python Program for cube sum of first n natural numbers?**"
   ]
  },
  {
   "cell_type": "code",
   "execution_count": 30,
   "metadata": {},
   "outputs": [
    {
     "name": "stdout",
     "output_type": "stream",
     "text": [
      "Enter the value of n:7\n",
      "The cube sum of the first 7 natural numbers is: 784\n"
     ]
    }
   ],
   "source": [
    "def cube_sum_of_natural_numbers(n):\n",
    "    if n <= 0:\n",
    "        return 0\n",
    "    else:\n",
    "        total = 0\n",
    "        for i in range(1, n+1):\n",
    "            total += i**3\n",
    "        return total\n",
    "\n",
    "n = int(input(\"Enter the value of n: \"))\n",
    "print(f\"Enter the value of n:{n}\")\n",
    "\n",
    "if n <= 0:\n",
    "    print(\"Please enter a positive integer.\")\n",
    "else:\n",
    "    result = cube_sum_of_natural_numbers(n)\n",
    "    print(f\"The cube sum of the first {n} natural numbers is: {result}\")"
   ]
  },
  {
   "cell_type": "markdown",
   "metadata": {},
   "source": [
    "### **Program 32**\n",
    "#### **Write a Python Program to find sum of array.**"
   ]
  },
  {
   "cell_type": "code",
   "execution_count": 1,
   "metadata": {},
   "outputs": [
    {
     "name": "stdout",
     "output_type": "stream",
     "text": [
      "The sum of array is:6\n"
     ]
    }
   ],
   "source": [
    "arr = [1, 2, 3]\n",
    "ans = sum(arr)\n",
    "print(f\"The sum of array is:{ans}\")"
   ]
  },
  {
   "cell_type": "code",
   "execution_count": 2,
   "metadata": {},
   "outputs": [
    {
     "name": "stdout",
     "output_type": "stream",
     "text": [
      "The array is:[1, 2, 3]\n",
      "The sum of array is:6\n"
     ]
    }
   ],
   "source": [
    "def sum_of_array(arr):\n",
    "    total = 0\n",
    "\n",
    "    for element in arr:\n",
    "        total += element\n",
    "    return total\n",
    "\n",
    "array = [1, 2, 3]\n",
    "print(f\"The array is:{array}\")\n",
    "print(f\"The sum of array is:{sum_of_array(array)}\")"
   ]
  },
  {
   "cell_type": "markdown",
   "metadata": {},
   "source": [
    "### **Program 33**\n",
    "#### **Write a Python Program to find largest element in an array**"
   ]
  },
  {
   "cell_type": "code",
   "execution_count": 3,
   "metadata": {},
   "outputs": [
    {
     "name": "stdout",
     "output_type": "stream",
     "text": [
      "The array is:[10, 20, 30, 99]\n",
      "The largest element in array is:99\n"
     ]
    }
   ],
   "source": [
    "def find_largest_element(arr):\n",
    "    if not arr:\n",
    "        return \"Array is empty\"\n",
    "    # Initialize the first element as the largest\n",
    "    largest_element = arr[0]\n",
    "\n",
    "    # Iterate through the array to find the largest element\n",
    "    for element in arr:\n",
    "        if element > largest_element:\n",
    "            largest_element = element\n",
    "    return largest_element\n",
    "\n",
    "my_array = [10, 20, 30, 99]\n",
    "print(f\"The array is:{my_array}\")\n",
    "print(f\"The largest element in array is:{find_largest_element(my_array)}\")"
   ]
  },
  {
   "cell_type": "markdown",
   "metadata": {},
   "source": [
    "### **Program 34**\n",
    "#### **Write a Python Program to Split the array and the first part to the end?**"
   ]
  },
  {
   "cell_type": "code",
   "execution_count": 4,
   "metadata": {},
   "outputs": [
    {
     "name": "stdout",
     "output_type": "stream",
     "text": [
      "The original array is:[1, 2, 3, 4, 5]\n",
      "Array after splitting and adding:[4, 5, 1, 2, 3]\n"
     ]
    }
   ],
   "source": [
    "def split_and_add(arr, k):\n",
    "    if k <= 0 or k>= len(arr):\n",
    "        return arr\n",
    "    \n",
    "    # split the array into two parts\n",
    "    first_part = arr[:k]\n",
    "    second_part = arr[k:]\n",
    "\n",
    "    # Add the first part to end of the second part\n",
    "    result = second_part + first_part\n",
    "\n",
    "    return result\n",
    "\n",
    "arr = [1, 2, 3, 4, 5]\n",
    "k = 3\n",
    "\n",
    "print(f\"The original array is:{arr}\")\n",
    "print(f\"Array after splitting and adding:{split_and_add(arr, k)}\")\n"
   ]
  },
  {
   "cell_type": "markdown",
   "metadata": {},
   "source": [
    "### **Program 35**\n",
    "#### **Write a Python Program to check if given array is Monotonic.**\n",
    "- A monotonic array is one that is entirely non-increasing or non-decreasing."
   ]
  },
  {
   "cell_type": "code",
   "execution_count": 5,
   "metadata": {},
   "outputs": [
    {
     "name": "stdout",
     "output_type": "stream",
     "text": [
      "arr1 is monotonic:True\n",
      "arr2 is monotonic:True\n",
      "arr3 is monotonic:False\n"
     ]
    }
   ],
   "source": [
    "def is_monotonic(arr):\n",
    "    increasing = decreasing = True\n",
    "\n",
    "    for i in range(1, len(arr)):\n",
    "        if arr[i] > arr[i-1]:\n",
    "            decreasing = False\n",
    "        elif arr[i] < arr[i -1]:\n",
    "            increasing = False\n",
    "    return increasing or decreasing\n",
    "\n",
    "# Test the function\n",
    "arr1 = [1, 2, 3, 4]\n",
    "arr2 = [3, 2, 1]\n",
    "arr3 = [1, 3, 2, 4]\n",
    "print(f\"arr1 is monotonic:{is_monotonic(arr1)}\")\n",
    "print(f\"arr2 is monotonic:{is_monotonic(arr2)}\")\n",
    "print(f\"arr3 is monotonic:{is_monotonic(arr3)}\")\n",
    "    "
   ]
  },
  {
   "cell_type": "markdown",
   "metadata": {},
   "source": [
    "### **Program 37**\n",
    "#### **Write a Python Program to Add Two Matrices.**"
   ]
  },
  {
   "cell_type": "code",
   "execution_count": 3,
   "metadata": {},
   "outputs": [
    {
     "name": "stdout",
     "output_type": "stream",
     "text": [
      "Sum of Matrices:\n",
      "[10, 10, 10]\n",
      "[10, 10, 10]\n",
      "[10, 10, 10]\n"
     ]
    }
   ],
   "source": [
    "def add_matrices(mat1, mat2):\n",
    "    # Check if the matrices have the same dimensions\n",
    "    if len(mat1) != len(mat2) or len(mat1[0]) != len(mat2[0]):\n",
    "        return \"Matrices must have the same dimensions\"\n",
    "    \n",
    "    # Initiate an empty result matrix with the same dimensions\n",
    "    result = []\n",
    "    for i in range(len(mat1)):\n",
    "        row = []\n",
    "        for j in range(len(mat1[0])):\n",
    "            row.append(mat1[i][j] + mat2[i][j])\n",
    "        result.append(row)\n",
    "\n",
    "    return result\n",
    "\n",
    "\n",
    "# Input matrices\n",
    "mat1 = [[1, 2, 3],\n",
    "        [4, 5, 6],\n",
    "        [7, 8, 9]\n",
    "        ]\n",
    "mat2 = [[9, 8, 7],\n",
    "        [6, 5, 4],\n",
    "        [3, 2, 1]]\n",
    "\n",
    "# call the add matrices function\n",
    "result_mat = add_matrices(mat1, mat2)\n",
    "\n",
    "# Dislay the result\n",
    "if isinstance(result_mat, str):\n",
    "    print(result_mat)\n",
    "else:\n",
    "    print(\"Sum of Matrices:\")\n",
    "    for row in result_mat:\n",
    "        print(row)"
   ]
  },
  {
   "cell_type": "markdown",
   "metadata": {},
   "source": [
    "### **Program 37**\n",
    "#### **Write a Python to multiply Two Matrices.**"
   ]
  },
  {
   "cell_type": "code",
   "execution_count": 4,
   "metadata": {},
   "outputs": [
    {
     "name": "stdout",
     "output_type": "stream",
     "text": [
      "Result of matrix multiplication:\n",
      "[58, 64]\n",
      "[139, 154]\n"
     ]
    }
   ],
   "source": [
    "# function to multiply two matrices\n",
    "\n",
    "def multiply_matrices(mat, mat2):\n",
    "    # Determine the dimensions of the input matrices\n",
    "    rows1 = len(mat1)\n",
    "    cols1 = len(mat1[0])\n",
    "    rows2 = len(mat2)\n",
    "    cols2 = len(mat2[0])\n",
    "\n",
    "    # Check if multiplication is possible\n",
    "    if cols1 != rows2:\n",
    "        return \"Matrix multiplication is not possible\"\n",
    "    \n",
    "    # Initiate the result matrix with zeros\n",
    "    result = [[0 for _ in range(cols2)] for _ in range(rows1)]\n",
    "\n",
    "    # perform matrix multiplication\n",
    "    for i in range(rows1):\n",
    "        for j in range(cols2):\n",
    "            for k in range(cols1):\n",
    "                result[i][j] += mat1[i][k] * mat2[k][j]\n",
    "    return result\n",
    "\n",
    "# Example matrices\n",
    "mat1 = [[1, 2, 3],\n",
    "        [4, 5, 6]]\n",
    "\n",
    "mat2 = [[7, 8],\n",
    "        [9, 10],\n",
    "        [11, 12]\n",
    "        ]\n",
    "\n",
    "# Multiple the matrices\n",
    "result_mat = multiply_matrices(mat1, mat2)\n",
    "\n",
    "# Display the result\n",
    "if isinstance(result_mat, str):\n",
    "    print(result_mat)\n",
    "else:\n",
    "    print(\"Result of matrix multiplication:\")\n",
    "    for row in result_mat:\n",
    "        print(row)"
   ]
  },
  {
   "cell_type": "markdown",
   "metadata": {},
   "source": [
    "### **Program 38**\n",
    "#### **Write a Python Program to Transpose a Matrix.**"
   ]
  },
  {
   "cell_type": "code",
   "execution_count": 5,
   "metadata": {},
   "outputs": [
    {
     "name": "stdout",
     "output_type": "stream",
     "text": [
      "[1, 4]\n",
      "[2, 5]\n",
      "[3, 6]\n"
     ]
    }
   ],
   "source": [
    "# Function to transpose a matrix\n",
    "\n",
    "def transpose_matrix(matrix):\n",
    "    rows = len(matrix)\n",
    "    cols = len(matrix[0])\n",
    "\n",
    "    # create an empty matrix to store the transpose data\n",
    "    result = [[0 for _ in range(rows)] for _ in range(cols)]\n",
    "\n",
    "    for i in range(rows):\n",
    "        for j in range(cols):\n",
    "            result[j][i] = matrix[i][j]\n",
    "\n",
    "    return result\n",
    "\n",
    "# Input matrix\n",
    "\n",
    "matrix = [[1, 2, 3],\n",
    "          [4, 5, 6]]\n",
    "\n",
    "# Transpose the matrix\n",
    "transpose_matrix = transpose_matrix(matrix)\n",
    "\n",
    "# print the transpose matrix\n",
    "for row in transpose_matrix:\n",
    "    print(row)"
   ]
  },
  {
   "cell_type": "markdown",
   "metadata": {},
   "source": [
    "### **Program 40**\n",
    "#### **Write a Python to sort Words in Alphabetic Order.** "
   ]
  },
  {
   "cell_type": "code",
   "execution_count": 7,
   "metadata": {},
   "outputs": [
    {
     "name": "stdout",
     "output_type": "stream",
     "text": [
      "The given string is:suresh ramesh vibhuti gulgule raji ram shyam ajay\n",
      "The sorted words are:\n",
      "Ajay\n",
      "Gulgule\n",
      "Raji\n",
      "Ram\n",
      "Ramesh\n",
      "Shyam\n",
      "Suresh\n",
      "Vibhuti\n"
     ]
    }
   ],
   "source": [
    "my_str = input(\"Enter a string: \")\n",
    "print(f\"The given string is:{my_str}\")\n",
    "\n",
    "# Breakdown the string into a list of words\n",
    "words = [word.capitalize() for word in my_str.split()]\n",
    "\n",
    "# sort the list\n",
    "words.sort()\n",
    "\n",
    "# Display the sorted words\n",
    "\n",
    "print(\"The sorted words are:\")\n",
    "for word in words:\n",
    "    print(word)"
   ]
  },
  {
   "cell_type": "markdown",
   "metadata": {},
   "source": [
    "### **Program 41**\n",
    "#### **write a Python program to Remove Punctuation From a String.** "
   ]
  },
  {
   "cell_type": "code",
   "execution_count": 3,
   "metadata": {},
   "outputs": [
    {
     "name": "stdout",
     "output_type": "stream",
     "text": [
      "My string:Hello!!!, he said ---and went\n",
      "Hello he said and went\n"
     ]
    }
   ],
   "source": [
    "# define punctuations\n",
    "\n",
    "punctuations = '''!()-[]{};:'\"\\,<>./?@#$%^&*_~'''\n",
    "\n",
    "# To take input from the user\n",
    "my_str = input(\"Enter a string: \")\n",
    "print(f\"My string:{my_str}\")\n",
    "\n",
    "# remove punctuation from the string\n",
    "no_punct = \"\"\n",
    "for char in my_str:\n",
    "    if char not in punctuations:\n",
    "        no_punct = no_punct + char\n",
    "\n",
    "# Display the final string\n",
    "print(no_punct)\n"
   ]
  },
  {
   "cell_type": "markdown",
   "metadata": {},
   "source": [
    "### **Program 42**\n",
    "#### **Write a Python program to find the sum of element in list**"
   ]
  },
  {
   "cell_type": "code",
   "execution_count": 4,
   "metadata": {},
   "outputs": [
    {
     "name": "stdout",
     "output_type": "stream",
     "text": [
      "The list is:[10, 20, 30, 40, 50]\n",
      "The sum of element in List is:150\n"
     ]
    }
   ],
   "source": [
    "list1 = [10, 20, 30, 40, 50]\n",
    "print(f\"The list is:{list1}\")\n",
    "\n",
    "sum_of_element = 0\n",
    "\n",
    "for element in list1:\n",
    "    sum_of_element += element\n",
    "\n",
    "print(f\"The sum of element in List is:{sum_of_element}\")"
   ]
  },
  {
   "cell_type": "markdown",
   "metadata": {},
   "source": [
    "### **Program 43**\n",
    "#### **Write a Python Program to Multiply all numbers in the list.**"
   ]
  },
  {
   "cell_type": "code",
   "execution_count": 6,
   "metadata": {},
   "outputs": [
    {
     "name": "stdout",
     "output_type": "stream",
     "text": [
      "The list is:[10, 20, 30, 40, 50]\n",
      "The product of element is list is :12000000\n"
     ]
    }
   ],
   "source": [
    "list1 = [10, 20, 30, 40, 50]\n",
    "print(f\"The list is:{list1}\")\n",
    "\n",
    "product_of_element = 1\n",
    "\n",
    "for i in list1:\n",
    "    product_of_element *= i\n",
    "\n",
    "print(f\"The product of element is list is :{product_of_element}\")"
   ]
  },
  {
   "cell_type": "markdown",
   "metadata": {},
   "source": [
    "### **Program 44**\n",
    "#### **Write a Python program to find smallest number in a list.**"
   ]
  },
  {
   "cell_type": "code",
   "execution_count": 8,
   "metadata": {},
   "outputs": [
    {
     "name": "stdout",
     "output_type": "stream",
     "text": [
      "The list is:[30, 10, -45, 5, 20]\n",
      "The minimum element in list is:-45\n"
     ]
    }
   ],
   "source": [
    "list1 = [30, 10, -45, 5, 20]\n",
    "print(f\"The list is:{list1}\")\n",
    "\n",
    "minimum = list1[0]\n",
    "\n",
    "for i in list1:\n",
    "    if i < minimum:\n",
    "        minimum = i\n",
    "\n",
    "print(f\"The minimum element in list is:{minimum}\")"
   ]
  },
  {
   "cell_type": "markdown",
   "metadata": {},
   "source": [
    "### **Program 45**\n",
    "#### **Write a Python program to find largest number in list.**"
   ]
  },
  {
   "cell_type": "code",
   "execution_count": 9,
   "metadata": {},
   "outputs": [
    {
     "name": "stdout",
     "output_type": "stream",
     "text": [
      "The List is:[30, 10, -45, 5, 20]\n",
      "The maximum element in list is:30\n"
     ]
    }
   ],
   "source": [
    "list1 = [30, 10, -45, 5, 20]\n",
    "print(f\"The List is:{list1}\")\n",
    "\n",
    "maximum = list1[0]\n",
    "\n",
    "for i in list1:\n",
    "    if i > maximum:\n",
    "        maximum = i\n",
    "\n",
    "print(f\"The maximum element in list is:{maximum}\")"
   ]
  },
  {
   "cell_type": "markdown",
   "metadata": {},
   "source": [
    "### **Program 46**\n",
    "#### **Write a Python to find second largest number in a list.**"
   ]
  },
  {
   "cell_type": "code",
   "execution_count": 15,
   "metadata": {},
   "outputs": [
    {
     "name": "stdout",
     "output_type": "stream",
     "text": [
      "The list is:[30, 10, 45, 5, 20]\n",
      "The Reverse list is:[45, 30, 20, 10, 5]\n",
      "The second largest number in the list is:30\n"
     ]
    }
   ],
   "source": [
    "list1 = [30, 10, 45, 5, 20]\n",
    "print(f\"The list is:{list1}\")\n",
    "# sort the list in descending order\n",
    "list1.sort(reverse=True)\n",
    "print(f\"The Reverse list is:{list1}\")\n",
    "\n",
    "if len(list1) >= 2:\n",
    "    second_largest = list1[1]\n",
    "    print(f\"The second largest number in the list is:{second_largest}\")\n",
    "else:\n",
    "    print(\"The list does not contain a second largest number.\")\n",
    "\n"
   ]
  },
  {
   "cell_type": "markdown",
   "metadata": {},
   "source": [
    "### **Program 47**\n",
    "#### **Write a Python program to find N largest elements from a list.**"
   ]
  },
  {
   "cell_type": "code",
   "execution_count": 17,
   "metadata": {},
   "outputs": [
    {
     "name": "stdout",
     "output_type": "stream",
     "text": [
      "The list is :[30, 10, 45, 5, 20, 50, 15, 3, 345, 54, 67, 87, 98, 100, 34]\n",
      "Number of largest elements to find:3\n",
      "The 3 largest elements in the list are:[345, 100, 98]\n"
     ]
    }
   ],
   "source": [
    "def find_n_largest_elements(lst, n):\n",
    "    #sort the list in descending order\n",
    "    sorted_lst = sorted(lst, reverse=True)\n",
    "\n",
    "    # Get the first N elements\n",
    "    largest_elements = sorted_lst[:n]\n",
    "\n",
    "    return largest_elements\n",
    "\n",
    "# smaple list of elements\n",
    "numbers = [30, 10, 45, 5, 20, 50, 15, 3, 345, 54, 67, 87, 98, 100, 34]\n",
    "\n",
    "print(f\"The list is :{numbers}\")\n",
    "\n",
    "# Number of largest elements to find\n",
    "N = int(input(\"N = \"))\n",
    "print(f\"Number of largest elements to find:{N}\")\n",
    "\n",
    "# find the N largest elements from the list\n",
    "result = find_n_largest_elements(numbers, N)\n",
    "\n",
    "# print the N largest elements\n",
    "print(f\"The {N} largest elements in the list are:{result}\")"
   ]
  },
  {
   "cell_type": "markdown",
   "metadata": {},
   "source": [
    "### **Program 48**\n",
    "#### **Write a Python Program to print numbers in a list**"
   ]
  },
  {
   "cell_type": "code",
   "execution_count": 18,
   "metadata": {},
   "outputs": [
    {
     "name": "stdout",
     "output_type": "stream",
     "text": [
      "The numbers are in list is:[1, 2, 3, 4, 5, 6, 7, 8, 9, 10] \n",
      "The even numbers in lists is:[2, 4, 6, 8, 10]\n"
     ]
    }
   ],
   "source": [
    "numbers = [1, 2, 3, 4, 5, 6, 7, 8, 9, 10]\n",
    "print(f\"The numbers are in list is:{numbers} \")\n",
    "\n",
    "# Using a list comprehension to filter even numbers\n",
    "even_numbers = [num for num in numbers if num % 2 == 0]\n",
    "\n",
    "# print the even numbers\n",
    "print(f\"The even numbers in lists is:{even_numbers}\")"
   ]
  },
  {
   "cell_type": "markdown",
   "metadata": {},
   "source": [
    "### **Program 49**\n",
    "#### **Write a Python program to print odd numbers in a List.**   "
   ]
  },
  {
   "cell_type": "code",
   "execution_count": 19,
   "metadata": {},
   "outputs": [
    {
     "name": "stdout",
     "output_type": "stream",
     "text": [
      "The given numbers are:[1, 2, 3, 4, 5, 6, 7, 8, 9, 10]\n",
      "The odd numbers are:[1, 3, 5, 7, 9]\n"
     ]
    }
   ],
   "source": [
    "numbers = [1, 2, 3, 4, 5, 6, 7, 8, 9, 10]\n",
    "print(f\"The given numbers are:{numbers}\")\n",
    "\n",
    "odd_numbers = [num for num in numbers if num%2 != 0]\n",
    "print(f\"The odd numbers are:{odd_numbers}\")"
   ]
  },
  {
   "cell_type": "markdown",
   "metadata": {},
   "source": [
    "### **Program 50**\n",
    "#### **Write a Python Program to Remove empty List from list**"
   ]
  },
  {
   "cell_type": "code",
   "execution_count": 20,
   "metadata": {},
   "outputs": [
    {
     "name": "stdout",
     "output_type": "stream",
     "text": [
      "The given list is:[[1, 2, 3], [], [4, 5], [], [6, 7, 8], []]\n",
      "List after removing empty lists:[[1, 2, 3], [4, 5], [6, 7, 8]]\n"
     ]
    }
   ],
   "source": [
    "list_of_lists = [[1, 2, 3], [], [4, 5], [], [6, 7, 8], []]\n",
    "print(f\"The given list is:{list_of_lists}\")\n",
    "\n",
    "filtered_list = [i for i in list_of_lists if i]\n",
    "\n",
    "print(f\"List after removing empty lists:{filtered_list}\")"
   ]
  },
  {
   "cell_type": "markdown",
   "metadata": {},
   "source": [
    "### **Program 51**\n",
    "#### **Write a Python Program to Cloning or Copying a List.**"
   ]
  },
  {
   "cell_type": "code",
   "execution_count": 23,
   "metadata": {},
   "outputs": [
    {
     "name": "stdout",
     "output_type": "stream",
     "text": [
      "Original List:[1, 2, 3, 4, 5]\n",
      "Cloned_List:[1, 2, 3, 4, 5]\n"
     ]
    }
   ],
   "source": [
    "# 1. Using the slice opertaor\n",
    "original_list = [1, 2, 3, 4, 5]\n",
    "cloned_list = original_list[:]\n",
    "print(f\"Original List:{original_list}\")\n",
    "print(f\"Cloned_List:{cloned_list}\")"
   ]
  },
  {
   "cell_type": "code",
   "execution_count": 24,
   "metadata": {},
   "outputs": [
    {
     "name": "stdout",
     "output_type": "stream",
     "text": [
      "Original List:[1, 2, 3, 4, 5]\n",
      "Cloned List:[1, 2, 3, 4, 5]\n"
     ]
    }
   ],
   "source": [
    "# 2. Using the list()Operator\n",
    "original_list = [1, 2, 3, 4, 5]\n",
    "cloned_list = list(original_list)\n",
    "print(f\"Original List:{original_list}\")\n",
    "print(f\"Cloned List:{cloned_list}\")"
   ]
  },
  {
   "cell_type": "code",
   "execution_count": 25,
   "metadata": {},
   "outputs": [
    {
     "name": "stdout",
     "output_type": "stream",
     "text": [
      "Original List:[1, 2, 3, 4, 5]\n",
      "Cloned List:[1, 2, 3, 4, 5]\n"
     ]
    }
   ],
   "source": [
    "# 3.List comprehension\n",
    "original_list = [1, 2, 3, 4, 5]\n",
    "print(f\"Original List:{original_list}\")\n",
    "cloned_list = [i for i in original_list]\n",
    "print(f\"Cloned List:{cloned_list}\")"
   ]
  },
  {
   "cell_type": "code",
   "execution_count": 26,
   "metadata": {},
   "outputs": [
    {
     "name": "stdout",
     "output_type": "stream",
     "text": [
      "Original List:[1, 2, 3, 4, 5]\n",
      "Cloned List:[1, 2, 3, 4, 5]\n"
     ]
    }
   ],
   "source": [
    "# 4. Using copy()\n",
    "original_list = [1, 2, 3, 4, 5]\n",
    "print(f\"Original List:{original_list}\")\n",
    "cloned_list = original_list.copy()\n",
    "print(f\"Cloned List:{cloned_list}\")"
   ]
  },
  {
   "cell_type": "markdown",
   "metadata": {},
   "source": [
    "### **Program 52**\n",
    "#### **Write a Python Program to count occurrences of an element in a list.**"
   ]
  },
  {
   "cell_type": "code",
   "execution_count": 27,
   "metadata": {},
   "outputs": [
    {
     "name": "stdout",
     "output_type": "stream",
     "text": [
      "The given List is:[1, 2, 3, 4, 2, 5, 2, 3, 4, 6, 5]\n",
      "Element to count:2\n",
      "The element2 appears 3 times in list.\n"
     ]
    }
   ],
   "source": [
    "def count_occurences(l, element):\n",
    "    count = l.count(element)\n",
    "    return count\n",
    "\n",
    "my_list = [1, 2, 3, 4, 2, 5, 2, 3, 4, 6, 5]\n",
    "print(f\"The given List is:{my_list}\")\n",
    "element_to_count = 2\n",
    "print(f\"Element to count:{element_to_count}\")\n",
    "\n",
    "print(f\"The element{element_to_count} appears {count_occurences(my_list, element_to_count)} times in list.\")"
   ]
  },
  {
   "cell_type": "code",
   "execution_count": 30,
   "metadata": {},
   "outputs": [
    {
     "name": "stdout",
     "output_type": "stream",
     "text": [
      "The element 2 appears 3 times in list.\n"
     ]
    }
   ],
   "source": [
    "count = []\n",
    "for i in my_list:\n",
    "    if i == element_to_count:\n",
    "        count.append(element_to_count)\n",
    "print(f\"The element {element_to_count} appears {len(count)} times in list.\")\n"
   ]
  },
  {
   "cell_type": "markdown",
   "metadata": {},
   "source": [
    "### **Program 53**\n",
    "#### **Write a Python program to find words which are greater than given length k.**"
   ]
  },
  {
   "cell_type": "code",
   "execution_count": 31,
   "metadata": {},
   "outputs": [
    {
     "name": "stdout",
     "output_type": "stream",
     "text": [
      "The given word list is:['apple', 'banana', 'cherry', 'date', 'elderberry', 'dragon', 'fruit']\n",
      "Length of words is:5\n",
      "Long words are:['banana', 'cherry', 'elderberry', 'dragon']\n"
     ]
    }
   ],
   "source": [
    "def find_words(words, k):\n",
    "    # create an empty list to store words greater than k\n",
    "    result = []\n",
    "\n",
    "    # Iterate through each word in the list\n",
    "    for i in words:\n",
    "        if len(i) > k:\n",
    "            result.append(i)\n",
    "    return result\n",
    "\n",
    "word_list = ['apple', 'banana', 'cherry', 'date', 'elderberry', 'dragon', 'fruit']\n",
    "print(f\"The given word list is:{word_list}\")\n",
    "k = 5\n",
    "print(f\"Length of words is:{k}\")\n",
    "print(f\"Long words are:{find_words(word_list, k)}\")"
   ]
  },
  {
   "cell_type": "markdown",
   "metadata": {},
   "source": [
    "### **Program 54**\n",
    "#### **Write a Python Program for removing ith character from as string.**"
   ]
  },
  {
   "cell_type": "code",
   "execution_count": 32,
   "metadata": {},
   "outputs": [
    {
     "name": "stdout",
     "output_type": "stream",
     "text": [
      "The given input string is: Hello, wWorld!\n",
      "Index of the character to remove: 7\n",
      "String after removing 7th character: Hello, World!\n"
     ]
    }
   ],
   "source": [
    "def remove_char(input_str, i):\n",
    "    # check if i is a valid index\n",
    "    if i < 0 or i >= len(input_str):\n",
    "        print(f\"Invalid index {i}. The string remains unchanged.\")\n",
    "        return input_str\n",
    "    \n",
    "    result_str = input_str[:i] + input_str[i+1:]\n",
    "\n",
    "    return result_str\n",
    "\n",
    "input_str = \"Hello, wWorld!\"\n",
    "i = 7 \n",
    "print(f\"The given input string is: {input_str}\")\n",
    "print(f\"Index of the character to remove: {i}\")\n",
    "print(f\"String after removing {i}th character: {remove_char(input_str, i)}\")"
   ]
  },
  {
   "cell_type": "markdown",
   "metadata": {},
   "source": [
    "### **Program 55**\n",
    "#### **Write a Python Program to split and join a string.**"
   ]
  },
  {
   "cell_type": "code",
   "execution_count": 35,
   "metadata": {},
   "outputs": [
    {
     "name": "stdout",
     "output_type": "stream",
     "text": [
      "The given string is: \n",
      "Python Program to split and join a string.\n",
      "The word list of string: \n",
      "['Python', 'Program', 'to', 'split', 'and', 'join', 'a', 'string.']\n",
      "Specify the seperator between words:  \n",
      "The output string is: Python Program to split and join a string.\n"
     ]
    }
   ],
   "source": [
    "# split a string into a list of words\n",
    "input_str = \"Python Program to split and join a string.\"\n",
    "print(f\"The given string is: \\n{input_str}\")\n",
    "\n",
    "word_list = input_str.split()\n",
    "print(f\"The word list of string: \\n{word_list}\")\n",
    "\n",
    "# join the list of words into a string\n",
    "seperator = \" \"\n",
    "print(f\"Specify the seperator between words: {seperator}\")\n",
    "\n",
    "output_str = seperator.join(word_list)\n",
    "print(f\"The output string is: {output_str}\")"
   ]
  },
  {
   "cell_type": "markdown",
   "metadata": {},
   "source": [
    "### **Program 56**\n",
    "#### **Write a Python program to check if a given string is binary or not.**"
   ]
  },
  {
   "cell_type": "code",
   "execution_count": 36,
   "metadata": {},
   "outputs": [
    {
     "name": "stdout",
     "output_type": "stream",
     "text": [
      "The given string is:1001110\n",
      "1001110 is a binary string.\n"
     ]
    }
   ],
   "source": [
    "def is_binary_str(input_str):\n",
    "    for i in input_str:\n",
    "        if i not in '01':\n",
    "            return False\n",
    "    return True\n",
    "\n",
    "input_str = \"1001110\"\n",
    "print(f\"The given string is:{input_str}\")\n",
    "\n",
    "if is_binary_str(input_str):\n",
    "    print(f\"{input_str} is a binary string.\")\n",
    "else:\n",
    "    print(f\"{input_str} is not a binary string.\")"
   ]
  },
  {
   "cell_type": "markdown",
   "metadata": {},
   "source": [
    "### **Program 57**\n",
    "#### **Write a Python program to find uncommon words from two string.**"
   ]
  },
  {
   "cell_type": "code",
   "execution_count": 38,
   "metadata": {},
   "outputs": [
    {
     "name": "stdout",
     "output_type": "stream",
     "text": [
      "First string: This is the first string.\n",
      "Second string: This is the second string.\n",
      "Uncommon words: ['second', 'first']\n"
     ]
    }
   ],
   "source": [
    "def uncommon_words(str1, str2):\n",
    "\n",
    "    # split the strings into words and convert them to sets\n",
    "    words1 = set(str1.split())\n",
    "    words2 = set(str2.split())\n",
    "\n",
    "    # Find uncommon words by taking the set difference\n",
    "    uncommon_words_set = words1.symmetric_difference(words2)\n",
    "\n",
    "    # convert the set of uncommon words back to a list\n",
    "    uncommon_words_list = list(uncommon_words_set)\n",
    "\n",
    "    return uncommon_words_list\n",
    "\n",
    "string1 = \"This is the first string.\"\n",
    "string2 = \"This is the second string.\"\n",
    "\n",
    "print(f\"First string: {string1}\")\n",
    "print(f\"Second string: {string2}\")\n",
    "\n",
    "# find uncommon words between two strings\n",
    "print(f\"Uncommon words: {uncommon_words(string1, string2)}\")"
   ]
  },
  {
   "cell_type": "markdown",
   "metadata": {},
   "source": [
    "### **Program 58**\n",
    "#### **Write a Python program to find all duplicate characters in string.**"
   ]
  },
  {
   "cell_type": "code",
   "execution_count": 40,
   "metadata": {},
   "outputs": [
    {
     "name": "stdout",
     "output_type": "stream",
     "text": [
      "The given string is: devke govind\n",
      "Duplicate characters: ['d', 'e', 'v']\n"
     ]
    }
   ],
   "source": [
    "def find_duplicates(input_str):\n",
    "\n",
    "    # create an empty dictionary to store character counts\n",
    "    char_count = {}\n",
    "\n",
    "    # Initialize a list to store duplicate characters\n",
    "    duplicates = []\n",
    "\n",
    "    for i in input_str:\n",
    "\n",
    "        # If the character is already in the dictionary, increment its\n",
    "        if i in char_count:\n",
    "            char_count[i] += 1\n",
    "        else:\n",
    "            char_count[i] = 1\n",
    "\n",
    "\n",
    "    for i, count in char_count.items():\n",
    "        if count > 1:\n",
    "            duplicates.append(i)\n",
    "\n",
    "    return duplicates\n",
    "\n",
    "\n",
    "input_string = \"devke govind\"\n",
    "print(f\"The given string is: {input_string}\")\n",
    "\n",
    "print(f\"Duplicate characters: {find_duplicates(input_string)}\")"
   ]
  },
  {
   "cell_type": "markdown",
   "metadata": {},
   "source": [
    "### **Program 59**\n",
    "#### **Write a Python program to check if a string contains any special character.**"
   ]
  },
  {
   "cell_type": "code",
   "execution_count": 43,
   "metadata": {},
   "outputs": [
    {
     "name": "stdout",
     "output_type": "stream",
     "text": [
      "Enter a string:  \"Hello, World!\"\n",
      "The given string  \"Hello, World!\" contains special character.\n"
     ]
    }
   ],
   "source": [
    "import re\n",
    "\n",
    "def check_special_char(in_str):\n",
    "\n",
    "    # Define a regular expression pattern to match special characters\n",
    "    pattern = r'[!@#$%^&*()_+{}\\[\\]:;<>,.?~\\\\\\/\\'\"-=]'\n",
    "\n",
    "    # Use re.search to find a match in the input string\n",
    "    if re.search(pattern, in_str):\n",
    "        return True\n",
    "    else:\n",
    "        return False\n",
    "    \n",
    "input_string = str(input(\"Enter a string: \"))\n",
    "print(f\"Enter a string: {input_string}\")\n",
    "\n",
    "# Check if the string contains any special charater\n",
    "contains_special = check_special_char(input_string)\n",
    "\n",
    "if contains_special:\n",
    "    print(f\"The given string {input_string} contains special character.\")\n",
    "else:\n",
    "    print(f\"The given string {input_string} is not contains any special characters.\")"
   ]
  },
  {
   "cell_type": "markdown",
   "metadata": {},
   "source": [
    "### **Program 60**\n",
    "#### **Write a Python Program to Extract Unique dictionary values.**"
   ]
  },
  {
   "cell_type": "code",
   "execution_count": 44,
   "metadata": {},
   "outputs": [
    {
     "name": "stdout",
     "output_type": "stream",
     "text": [
      "The given dictionary is: {'a': 10, 'b': 20, 'c': 10, 'd': 30, 'e': 20}\n",
      "Unique Values in the dictionary is: [10, 20, 30]\n"
     ]
    }
   ],
   "source": [
    "my_dict = {\n",
    "    'a':10,\n",
    "    'b':20,\n",
    "    'c':10,\n",
    "    'd':30,\n",
    "    'e':20\n",
    "}\n",
    "print(f\"The given dictionary is: {my_dict}\")\n",
    "uni_val = set()\n",
    "\n",
    "for i in my_dict.values():\n",
    "    uni_val.add(i)\n",
    "\n",
    "# convert the set of unique values back to a list\n",
    "unique_values_list = list(uni_val)\n",
    "\n",
    "print(f\"Unique Values in the dictionary is: {unique_values_list}\")\n"
   ]
  },
  {
   "cell_type": "markdown",
   "metadata": {},
   "source": [
    "### **Program 61**\n",
    "#### **Write a Python program to find the sum of all items in a dictionary**"
   ]
  },
  {
   "cell_type": "code",
   "execution_count": 45,
   "metadata": {},
   "outputs": [
    {
     "name": "stdout",
     "output_type": "stream",
     "text": [
      "The dictionary: {'a': 10, 'b': 20, 'c': 30, 'd': 40, 'e': 50}\n",
      "Sum of all items in the dictionary: 150\n"
     ]
    }
   ],
   "source": [
    "my_dict = {\n",
    "    'a':10,\n",
    "    'b':20,\n",
    "    'c':30,\n",
    "    'd':40,\n",
    "    'e':50\n",
    "}\n",
    "print(f\"The dictionary: {my_dict}\")\n",
    "\n",
    "total_sum = 0\n",
    "\n",
    "for i in my_dict.values():\n",
    "    total_sum += i\n",
    "\n",
    "print(f\"Sum of all items in the dictionary: {total_sum}\")"
   ]
  },
  {
   "cell_type": "markdown",
   "metadata": {},
   "source": [
    "### **Program 62**\n",
    "#### **Write a Python program to Merging two dictionaries**"
   ]
  },
  {
   "cell_type": "code",
   "execution_count": 46,
   "metadata": {},
   "outputs": [
    {
     "name": "stdout",
     "output_type": "stream",
     "text": [
      "First dictionary: {'a': 1, 'b': 2}\n",
      "Second dictionary:{'c': 3, 'd': 4}\n",
      "Merged Dictionary: {'a': 1, 'b': 2, 'c': 3, 'd': 4}\n"
     ]
    }
   ],
   "source": [
    "# 1. Using the update() method\n",
    "\n",
    "dict1 = {'a':1, 'b':2}\n",
    "dict2 = {'c':3, 'd':4}\n",
    "\n",
    "print(f\"First dictionary: {dict1}\")\n",
    "print(f\"Second dictionary:{dict2}\")\n",
    "\n",
    "dict1.update(dict2)\n",
    "\n",
    "print(f\"Merged Dictionary: {dict1}\")"
   ]
  },
  {
   "cell_type": "code",
   "execution_count": 47,
   "metadata": {},
   "outputs": [
    {
     "name": "stdout",
     "output_type": "stream",
     "text": [
      "First Dictionary: {'a': 1, 'b': 2}\n",
      "Second Dictionary: {'c': 3, 'd': 4}\n",
      "Merged Dictionary: {'a': 1, 'b': 2, 'c': 3, 'd': 4}\n"
     ]
    }
   ],
   "source": [
    "# 2. Using dictionary unpacking\\\n",
    "\n",
    "dict1 = {'a':1, \"b\":2}\n",
    "dict2 = {'c':3, 'd':4}\n",
    "\n",
    "print(f\"First Dictionary: {dict1}\")\n",
    "print(f\"Second Dictionary: {dict2}\")\n",
    "\n",
    "merged_dict = {**dict1, **dict2}\n",
    "\n",
    "print(f\"Merged Dictionary: {merged_dict}\")"
   ]
  },
  {
   "cell_type": "markdown",
   "metadata": {},
   "source": [
    "### **Program 63**\n",
    "#### **Write a Python program to convert key-values list to flat dictionary.**"
   ]
  },
  {
   "cell_type": "code",
   "execution_count": 49,
   "metadata": {},
   "outputs": [
    {
     "name": "stdout",
     "output_type": "stream",
     "text": [
      "The given key_values_list: [('a', 1), ('b', 2), ('c', 3), ('d', 4)]\n",
      "Flat Dictionary: {'a': 1, 'b': 2, 'c': 3, 'd': 4}\n"
     ]
    }
   ],
   "source": [
    "key_values_list = [('a', 1), ('b', 2), ('c', 3), ('d', 4)]\n",
    "print(f\"The given key_values_list: {key_values_list}\")\n",
    "flat_dict = {}\n",
    "\n",
    "for key, value in key_values_list:\n",
    "    flat_dict[key] = value\n",
    "\n",
    "print(f\"Flat Dictionary: {flat_dict}\")"
   ]
  },
  {
   "cell_type": "markdown",
   "metadata": {},
   "source": [
    "### **Program 64**\n",
    "#### **Write a Python program to insertion at the begining in OrderedDict.**"
   ]
  },
  {
   "cell_type": "code",
   "execution_count": 50,
   "metadata": {},
   "outputs": [
    {
     "name": "stdout",
     "output_type": "stream",
     "text": [
      "Updated Orderdict: OrderedDict([('a', 1), ('b', 2), ('c', 3), ('d', 4)])\n"
     ]
    }
   ],
   "source": [
    "from collections import OrderedDict\n",
    "\n",
    "#create an orderedDict\n",
    "ordered_dict = OrderedDict([('b',2),('c',3),('d',4)])\n",
    "\n",
    "# Item to insert at the begining\n",
    "new_item = ('a', 1)\n",
    "\n",
    "new_ordered_dict = OrderedDict([new_item])\n",
    "\n",
    "new_ordered_dict.update(ordered_dict)\n",
    "\n",
    "print(f\"Updated Orderdict: {new_ordered_dict}\")\n"
   ]
  },
  {
   "cell_type": "markdown",
   "metadata": {},
   "source": [
    "### **Program 65**\n",
    "#### **Write a Python program to sort Python Dictionaries by key or value.**"
   ]
  },
  {
   "cell_type": "code",
   "execution_count": 65,
   "metadata": {},
   "outputs": [
    {
     "name": "stdout",
     "output_type": "stream",
     "text": [
      "Sample Dict: {'apple': 3, 'banana': 1, 'cherry': 2, 'date': 4}\n",
      "Sorted Dictionary: {'apple': 3, 'banana': 1, 'cherry': 2, 'date': 4}\n",
      "apple:3\n",
      "banana:1\n",
      "cherry:2\n",
      "date:4\n"
     ]
    }
   ],
   "source": [
    "# Sorted By Keys\n",
    "\n",
    "sample_dict = {'apple':3, 'banana':1, 'cherry':2, 'date':4}\n",
    "print(f\"Sample Dict: {sample_dict}\")\n",
    "\n",
    "sorted_dict_by_keys = dict(sorted(sample_dict.items()))\n",
    "print(f\"Sorted Dictionary: {sorted_dict_by_keys}\")\n",
    "\n",
    "for key, value in sorted_dict_by_keys.items():\n",
    "    print(f\"{key}:{value}\")"
   ]
  },
  {
   "cell_type": "code",
   "execution_count": 67,
   "metadata": {},
   "outputs": [
    {
     "name": "stdout",
     "output_type": "stream",
     "text": [
      "\n",
      "Sorted by Value:\n",
      "{'banana': 1, 'cherry': 2, 'apple': 3, 'date': 4}\n"
     ]
    }
   ],
   "source": [
    "# Sorted By Values\n",
    "# Sample dictionary\n",
    "sample_dict = {'apple': 3, 'banana': 1, 'cherry': 2, 'date': 4}\n",
    "\n",
    "# Sorting by value\n",
    "sorted_dict_by_value = dict(sorted(sample_dict.items(), key=lambda item: item[1]))\n",
    "\n",
    "# Display the sorted dictionary by value\n",
    "print(\"\\nSorted by Value:\")\n",
    "print(sorted_dict_by_value)\n"
   ]
  },
  {
   "cell_type": "markdown",
   "metadata": {},
   "source": [
    "### **Program 66**\n",
    "#### **Write a Python program that calculates and prints the value according to the given formula:**\n",
    "\n",
    "$Q$ = $Square root of$ $2 X C X D / H$\n",
    "\n",
    "Following are the fixed values of C and H:\n",
    "C = 50\n",
    "H = 30\n",
    "D is variable whose values should be input to your program in a comma-seperated sequence.\n",
    "\n",
    "-Ex: Let us assume the following comma seperated input sequence is given to the program: 100, 150, 180\n",
    "\n",
    "The output of the program should be:\n",
    "18, 22, 24"
   ]
  },
  {
   "cell_type": "code",
   "execution_count": 72,
   "metadata": {},
   "outputs": [
    {
     "name": "stdout",
     "output_type": "stream",
     "text": [
      "The output is: [18, 22, 24]\n"
     ]
    }
   ],
   "source": [
    "import math\n",
    "\n",
    "def calculate_(C, H, lst):\n",
    "\n",
    "    output = []\n",
    "\n",
    "    for i in lst:\n",
    "        q = int(math.sqrt((2 * C * i)/ (H)))\n",
    "        output.append(q)\n",
    "\n",
    "    return output\n",
    "\n",
    "\n",
    "C = 50\n",
    "H = 30\n",
    "lst = [100, 150, 180]\n",
    "\n",
    "print(f\"The output is: {calculate_(C, H, lst)}\")"
   ]
  },
  {
   "cell_type": "code",
   "execution_count": 81,
   "metadata": {},
   "outputs": [
    {
     "name": "stdout",
     "output_type": "stream",
     "text": [
      "18,22,24\n"
     ]
    }
   ],
   "source": [
    "import math\n",
    "\n",
    "# fixed values\n",
    "\n",
    "C = 50\n",
    "H = 30\n",
    "\n",
    "# function to calculate Q\n",
    "def calculate_Q(D):\n",
    "    return int(math.sqrt((2*C*D)/H))\n",
    "\n",
    "# Input comma-separated sequence of D values\n",
    "input_sequence = input(\"Enter comma-separated values of D: \")\n",
    "D_values = [int(value) for value in input_sequence.split(',')]\n",
    "\n",
    "# calculate and print Q for each D values\n",
    "result = [calculate_Q(D) for D in D_values]\n",
    "print(','.join(map(str, result)))\n",
    "\n"
   ]
  },
  {
   "cell_type": "markdown",
   "metadata": {},
   "source": [
    "### **Program 67**\n",
    "#### **Write a program which takes 2 digits, X,Y as input and generates a 2-dimensional array. The element value in the i-th row and j-th column of the array should be i*j.**\n",
    "\n",
    "*Note: i=0,1.., X-1; j=0,1,¡Y-1.*\n",
    "\n",
    "Example\n",
    "Suppose the following inputs are given to the program:\n",
    "3,5\n",
    "Then, the output of the program should be:\n",
    "[[0, 0, 0, 0, 0], [0, 1, 2, 3, 4], [0, 2, 4, 6, 8]]"
   ]
  },
  {
   "cell_type": "code",
   "execution_count": 89,
   "metadata": {},
   "outputs": [
    {
     "name": "stdout",
     "output_type": "stream",
     "text": [
      "Enter two digits(X, Y).split(','): (3, 5)\n",
      "Array: \n",
      "[[0, 0, 0, 0, 0], [0, 0, 0, 0, 0], [0, 0, 0, 0, 0]]\n",
      "[0, 0, 0, 0, 0]\n",
      "[0, 1, 2, 3, 4]\n",
      "[0, 2, 4, 6, 8]\n"
     ]
    }
   ],
   "source": [
    "# Input two digits, X and Y\n",
    "X, Y = map(int, input(\"Enter two digits(X, Y): \").split(','))\n",
    "print(f\"Enter two digits(X, Y).split(','): {X, Y}\")\n",
    "\n",
    "# Initiate a 2D array filled with zeros\n",
    "array = [[0 for j in range(Y)] for i in range(X)]\n",
    "print(f\"Array: \\n{array}\")\n",
    "\n",
    "# Fill the array with values i*j\n",
    "for i in range(X):\n",
    "    for j in range(Y):\n",
    "        array[i][j] = i * j\n",
    "\n",
    "for row in array:\n",
    "    print(row)"
   ]
  },
  {
   "cell_type": "markdown",
   "metadata": {},
   "source": [
    "### **Program 68**\n",
    "#### **Write a program that accepts a comma separated sequence of words as input and prints the words in a comma-separated sequence after sorting them alphabetically. Suppose the following input is supplied to the program:**\n",
    "\n",
    "without, hello, bag, world\n",
    "\n",
    "then, the output should be:\n",
    "\n",
    "bag, hello, without, world"
   ]
  },
  {
   "cell_type": "code",
   "execution_count": 90,
   "metadata": {},
   "outputs": [
    {
     "name": "stdout",
     "output_type": "stream",
     "text": [
      "Enter a comma-separated sequence of words:  without, hello, bag, world\n",
      "After splitting input: [' without', ' hello', ' bag', ' world']\n",
      "Sorted Words: [' bag', ' hello', ' without', ' world']\n",
      "Sorted Words:  bag, hello, without, world\n"
     ]
    }
   ],
   "source": [
    "# Accept input from the user\n",
    "input_sequence = input(\"Enter a comma-separated sequence of words: \")\n",
    "print(f\"Enter a comma-separated sequence of words: {input_sequence}\")\n",
    "\n",
    "# split the input into a list of words\n",
    "words = input_sequence.split(',')\n",
    "print(f\"After splitting input: {words}\")\n",
    "\n",
    "# sorts the words alphabetically\n",
    "sorted_words = sorted(words)\n",
    "print(f\"Sorted Words: {sorted_words}\")\n",
    "\n",
    "# Join the sorted words into a comma-separated sequence\n",
    "sorted_sequence = ','.join(sorted_words)\n",
    "print(f\"Sorted Words: {sorted_sequence}\")\n",
    "\n"
   ]
  },
  {
   "cell_type": "code",
   "execution_count": null,
   "metadata": {},
   "outputs": [],
   "source": []
  }
 ],
 "metadata": {
  "kernelspec": {
   "display_name": "Python 3",
   "language": "python",
   "name": "python3"
  },
  "language_info": {
   "codemirror_mode": {
    "name": "ipython",
    "version": 3
   },
   "file_extension": ".py",
   "mimetype": "text/x-python",
   "name": "python",
   "nbconvert_exporter": "python",
   "pygments_lexer": "ipython3",
   "version": "3.8.18"
  }
 },
 "nbformat": 4,
 "nbformat_minor": 2
}

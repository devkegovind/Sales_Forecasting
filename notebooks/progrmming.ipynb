{
 "cells": [
  {
   "cell_type": "markdown",
   "metadata": {},
   "source": [
    "<h1 style=\"color:black; text-align:center;\"><b>140+ BASIC PYTHON PROGRAMS</b></h1>"
   ]
  },
  {
   "cell_type": "markdown",
   "metadata": {},
   "source": [
    "<h3 style=\"color:black;\"><b>Program 1</b></h3>\n",
    "\n",
    "<h4 style=\"color:black;\"><b>Write a Python program to print \"Hello Python\"</b></h4> "
   ]
  },
  {
   "cell_type": "code",
   "execution_count": 1,
   "metadata": {},
   "outputs": [
    {
     "name": "stdout",
     "output_type": "stream",
     "text": [
      "Hello Python\n"
     ]
    }
   ],
   "source": [
    "print(\"Hello Python\")"
   ]
  },
  {
   "cell_type": "markdown",
   "metadata": {},
   "source": [
    "<h3 style=\"color:black;\"><b>Program 2</b></h3>\n",
    "<h4 style=\"color:black;\"><b>Write a Python program to do arithmetical operations addition and division.</b></h4>"
   ]
  },
  {
   "cell_type": "code",
   "execution_count": 5,
   "metadata": {},
   "outputs": [
    {
     "name": "stdout",
     "output_type": "stream",
     "text": [
      "Enter the first Number:3.5\n",
      "Enter the second Number:2.5\n",
      "Sum: 3.5 + 2.5 = 6.0\n"
     ]
    }
   ],
   "source": [
    "# Addition\n",
    "\n",
    "num1 = float(input(\"Enter the first Number: \"))\n",
    "num2 = float(input(\"Enter the second Number: \"))\n",
    "print(f\"Enter the first Number:{num1}\")\n",
    "print(f\"Enter the second Number:{num2}\")\n",
    "sum_result = num1 + num2\n",
    "print(f\"Sum: {num1} + {num2} = {sum_result}\")"
   ]
  },
  {
   "cell_type": "code",
   "execution_count": 6,
   "metadata": {},
   "outputs": [
    {
     "name": "stdout",
     "output_type": "stream",
     "text": [
      "Enter the dividend for division:25.0\n",
      "Enter the divisor for division:5.0\n",
      "Division: 25.0 / 5.0 = 5.0\n"
     ]
    }
   ],
   "source": [
    "# Division\n",
    "\n",
    "num3 = float(input(\"Enter the dividend for division: \"))\n",
    "num4 = float(input(\"Enter the divisor for division: \"))\n",
    "print(f\"Enter the dividend for division:{num3}\")\n",
    "print(f\"Enter the divisor for division:{num4}\")\n",
    "if num4 == 0:\n",
    "    print(f\"Error: Division By Zero is not allowed\")\n",
    "else:\n",
    "    div_result = num3 / num4\n",
    "    print(f\"Division: {num3} / {num4} = {div_result}\")\n"
   ]
  },
  {
   "cell_type": "markdown",
   "metadata": {},
   "source": [
    "<h3 style=\"color:black;\"><b>Program 3</b></h3>\n",
    "<h4 style=\"color:black;\"><b>Write a Python program to find the area of a triangle.</b></h4>"
   ]
  },
  {
   "cell_type": "code",
   "execution_count": 7,
   "metadata": {},
   "outputs": [
    {
     "name": "stdout",
     "output_type": "stream",
     "text": [
      "Enter the base of triangle:15.0\n",
      "Enter the height of triangle:10.0\n",
      "The Area of triangle is: 75.0\n"
     ]
    }
   ],
   "source": [
    "# Input the base and height from the user\n",
    "a = float(input(\"Enter the base of triangle: \"))\n",
    "b = float(input(\"Enter the height of triangle: \"))\n",
    "print(f\"Enter the base of triangle:{a}\")\n",
    "print(f\"Enter the height of triangle:{b}\")\n",
    "area = 0.5 * a * b\n",
    "print(f\"The Area of triangle is: {area}\")"
   ]
  },
  {
   "cell_type": "markdown",
   "metadata": {},
   "source": [
    "<h3 style=\"color:black;\"><b>Program 4</b></h3>\n",
    "<h4 style=\"color:black;\"><b>Write a Python to swap two variables Using temp.</b></h4>"
   ]
  },
  {
   "cell_type": "code",
   "execution_count": 8,
   "metadata": {},
   "outputs": [
    {
     "name": "stdout",
     "output_type": "stream",
     "text": [
      "Enter the value of the first variable(a):5\n",
      "Enter the value of second variable(b):9\n",
      "Swapped Values: a = 9, b = 5\n"
     ]
    }
   ],
   "source": [
    "# Input two variables from user\n",
    "a = input(\"Enter the value of the first variable(a): \")\n",
    "b = input(\"Enter the value of second variable(b): \")\n",
    "\n",
    "# Display the original values\n",
    "print(f\"Enter the value of the first variable(a):{a}\")\n",
    "print(f\"Enter the value of second variable(b):{b}\")\n",
    "\n",
    "# Swap the values using a temporary variable\n",
    "temp = a\n",
    "a = b\n",
    "b = temp\n",
    "\n",
    "# Display the swapped values \n",
    "print(f\"Swapped Values: a = {a}, b = {b}\")"
   ]
  },
  {
   "cell_type": "markdown",
   "metadata": {},
   "source": [
    "<h3 style=\"color:black;\"><b> Program 5</b></h3>\n",
    "<h4 style = \"color:black;\"><b>Write a Python program to generate a random number.</b></h4>"
   ]
  },
  {
   "cell_type": "code",
   "execution_count": 9,
   "metadata": {},
   "outputs": [
    {
     "name": "stdout",
     "output_type": "stream",
     "text": [
      "Random Number : 14\n"
     ]
    }
   ],
   "source": [
    "import random\n",
    "print(f\"Random Number : {random.randint(1,100)}\")"
   ]
  },
  {
   "cell_type": "markdown",
   "metadata": {},
   "source": [
    "<h3 style=\"color:black;\"><b>Program 6</b></h3>\n",
    "<h4 style=\"color:black;\"><b>Write a Python program to convert kilometers to miles.</b></h4>"
   ]
  },
  {
   "cell_type": "code",
   "execution_count": 10,
   "metadata": {},
   "outputs": [
    {
     "name": "stdout",
     "output_type": "stream",
     "text": [
      "Enter distance in kilometers:100.0\n",
      "100.0 km is equal to 62.137100000000004 miles.\n"
     ]
    }
   ],
   "source": [
    "kilometers = float(input(\"Enter distance in kilometers: \"))\n",
    "print(f\"Enter distance in kilometers:{kilometers}\")\n",
    "# conversion factor: 1 km = 0.621371 mile\n",
    "conversion_factor = 0.621371\n",
    "miles = conversion_factor * kilometers\n",
    "print(f\"{kilometers} km is equal to {miles} miles.\")"
   ]
  },
  {
   "cell_type": "markdown",
   "metadata": {},
   "source": [
    "<h3 style=\"color:black;\"><b>Program 7 </b></h3>\n",
    "<h4 style=\"color:black;\"><b>Write a Python program to convert Celsius to Fahrenheit.</b></h4>"
   ]
  },
  {
   "cell_type": "code",
   "execution_count": 13,
   "metadata": {},
   "outputs": [
    {
     "name": "stdout",
     "output_type": "stream",
     "text": [
      "The temaperature in celsius is:37.0\n",
      "37.0 degrees Celsius is equal to 98.6degrees\n"
     ]
    }
   ],
   "source": [
    "celsius = float(input(\"Enter the temperature in celsius: \"))\n",
    "print(f\"The temaperature in celsius is:{celsius}\")\n",
    "\n",
    "# Conversion formula : Fahrenheit = (Celsius * 9/5) + 32\n",
    "Fahrenheit = (celsius * 9/5) + 32\n",
    "\n",
    "print(f\"{celsius} degrees Celsius is equal to {Fahrenheit} degrees\")"
   ]
  },
  {
   "cell_type": "markdown",
   "metadata": {},
   "source": [
    "<h3 style=\"color:black;\"><b>Program 8</b></h3>\n",
    "<h4 style=\"color:black;\"><b>Write a Python program to display calender.</b></h4>"
   ]
  },
  {
   "cell_type": "code",
   "execution_count": 17,
   "metadata": {},
   "outputs": [
    {
     "name": "stdout",
     "output_type": "stream",
     "text": [
      "Year:2024\n",
      "Month:6\n",
      "     June 2024\n",
      "Mo Tu We Th Fr Sa Su\n",
      "                1  2\n",
      " 3  4  5  6  7  8  9\n",
      "10 11 12 13 14 15 16\n",
      "17 18 19 20 21 22 23\n",
      "24 25 26 27 28 29 30\n",
      "\n"
     ]
    }
   ],
   "source": [
    "import calendar\n",
    "\n",
    "year = int(input(\"Enter Year: \"))\n",
    "month = int(input(\"Enter month: \"))\n",
    "print(f\"Year:{year}\")\n",
    "print(f\"Month:{month}\")\n",
    "cal = calendar.month(year, month)\n",
    "print(cal)"
   ]
  },
  {
   "cell_type": "markdown",
   "metadata": {},
   "source": [
    "<h3 style=\"color:black;\"><b>Program 9</b></h3>\n",
    "<h4 style=\"color:black;\"><b>Write a Python program to solve quadratic equation.</b></h4>"
   ]
  },
  {
   "cell_type": "code",
   "execution_count": 19,
   "metadata": {},
   "outputs": [
    {
     "name": "stdout",
     "output_type": "stream",
     "text": [
      "Enter coefficient a:1.0\n",
      "Enter coefficient b:4.0\n",
      "Enter coefficient c:8.0\n",
      "Discriminant : -16.0\n",
      "Root 1: -2.0 + 2.0i\n",
      "Root 2: -2.0 - 2.0i\n"
     ]
    }
   ],
   "source": [
    "import math\n",
    "\n",
    "# Input coefficients\n",
    "a = float(input(\"Enter coefficient a: \"))\n",
    "b = float(input(\"Enter coefficient b: \"))\n",
    "c = float(input(\"Enter coefficient c: \"))\n",
    "print(f\"Enter coefficient a:{a}\")\n",
    "print(f\"Enter coefficient b:{b}\")\n",
    "print(f\"Enter coefficient c:{c}\")\n",
    "# Calculate the discriminant\n",
    "discriminant = b**2 - 4 * a * c\n",
    "print(f\"Discriminant : {discriminant}\")\n",
    "\n",
    "# Check if the discriminant is positive, negative or zero\n",
    "\n",
    "if discriminant > 0:\n",
    "    # Two real and distinct roots\n",
    "    root1 = (-b + math.sqrt(discriminant)) / (2*a)\n",
    "    root2 = (-b - math.sqrt(discriminant)) / (2*a)\n",
    "    print(f\"Root 1:{root1}\")\n",
    "    print(f\"Root 2:{root2}\")\n",
    "elif discriminant == 0:\n",
    "    # one real root \n",
    "    root = -b / (2*a)\n",
    "    print(f\"Root:{root}\")\n",
    "else:\n",
    "    # complex roots\n",
    "    real_part = -b/(2*a)\n",
    "    imaginary_part = math.sqrt(abs(discriminant)) / (2*a)\n",
    "    print(f\"Root 1: {real_part} + {imaginary_part}i\")\n",
    "    print(f\"Root 2: {real_part} - {imaginary_part}i\")"
   ]
  },
  {
   "cell_type": "markdown",
   "metadata": {},
   "source": [
    "<h3 style=\"color:black;\"><b>Program 10</b></h3>\n",
    "<h4 style=\"color:black;\"><b>Write a Python program to swap two variables without temp variable.</b></h4>"
   ]
  },
  {
   "cell_type": "code",
   "execution_count": 1,
   "metadata": {},
   "outputs": [
    {
     "name": "stdout",
     "output_type": "stream",
     "text": [
      "Enter the value of (a):5\n",
      "Enter the value of (b):10\n",
      "After Swapping:\n",
      "The value of a after swapping:10\n",
      "The value of b after swapping:5\n"
     ]
    }
   ],
   "source": [
    "a = int(input(\"Enter the value of (a): \"))\n",
    "b = int(input(\"Enter the value of (b): \"))\n",
    "print(f\"Enter the value of (a):{a}\")\n",
    "print(f\"Enter the value of (b):{b}\")\n",
    "\n",
    "# Swapping without a temporary variables\n",
    "a, b = b, a\n",
    "\n",
    "print(\"After Swapping:\")\n",
    "print(f\"The value of a after swapping:{a}\")\n",
    "print(f\"The value of b after swapping:{b}\")"
   ]
  },
  {
   "cell_type": "markdown",
   "metadata": {},
   "source": [
    "### **Program 11**\n",
    "#### **Write a Python Program to Check if a Number is Positive, Negative or Zero.**"
   ]
  },
  {
   "cell_type": "code",
   "execution_count": 3,
   "metadata": {},
   "outputs": [
    {
     "name": "stdout",
     "output_type": "stream",
     "text": [
      "The given number is:3\n",
      "The given number 3 is Positive number.\n"
     ]
    }
   ],
   "source": [
    "num = int(input(\"Enter the number: \"))\n",
    "print(f\"The given number is:{num}\")\n",
    "if num > 0:\n",
    "    print(f\"The given number {num} is Positive number.\")\n",
    "elif num == 0:\n",
    "    print(f\"The given number {num} is zero.\")\n",
    "else:\n",
    "    print(f\"The given number {num} is Negative number.\")"
   ]
  },
  {
   "cell_type": "markdown",
   "metadata": {},
   "source": [
    "### **Program 12**\n",
    "#### **Write a Python Program to Check if a Number is Odd or Even.**"
   ]
  },
  {
   "cell_type": "code",
   "execution_count": 4,
   "metadata": {},
   "outputs": [
    {
     "name": "stdout",
     "output_type": "stream",
     "text": [
      "The given number is 3\n",
      "The given number 3 is odd.\n"
     ]
    }
   ],
   "source": [
    "num= int(input(\"Enter a number: \"))\n",
    "print(f\"The given number is {num}\")\n",
    "\n",
    "if num % 2 == 0:\n",
    "    print(f\"The given number {num} is even.\")\n",
    "else:\n",
    "    print(f\"The given number {num} is odd.\")"
   ]
  },
  {
   "cell_type": "markdown",
   "metadata": {},
   "source": [
    "### **Program 13**\n",
    "#### **Write a Python Program to Check Leap Year.**"
   ]
  },
  {
   "cell_type": "code",
   "execution_count": 6,
   "metadata": {},
   "outputs": [
    {
     "name": "stdout",
     "output_type": "stream",
     "text": [
      "The given Year is:2024\n",
      "The given Year 2024 is Leap Year.\n"
     ]
    }
   ],
   "source": [
    "year = int(input(\"Enter the Year: \"))\n",
    "print(f\"The given Year is:{year}\")\n",
    "\n",
    "# Divided by 100 means century year(ending with 00)\n",
    "# Century Year divided by 400 is Leap Year\n",
    "if (year % 400 == 0) and (year % 100 == 0):\n",
    "    print(f\"The given Year {year} is Leap Year.\")\n",
    "    \n",
    "# not divided by 100 means not a century year\n",
    "# year divided by 4 is Leap Year\n",
    "elif (year % 4 == 0) and (year % 100 != 0):\n",
    "    print(f\"The given Year {year} is Leap Year.\")\n",
    "\n",
    "# if not divided by both 400(century year) and 4 (not century year)\n",
    "# year is not a leap year\n",
    "else:\n",
    "    print(f\"The given Year {year} is not Leap Year.\")"
   ]
  },
  {
   "cell_type": "markdown",
   "metadata": {},
   "source": [
    "### **Program 14**\n",
    "#### **Write a Python Program to Check Prime Number**\n",
    "**Prime Numbers:**\n",
    "\n",
    "- *A prime number is a whole number that cannot be evenly divided by any other number except for 1 and itself. For example 2, 3, 5, 7, 11 and 13 are prime numbers because they cannot be divided by any other positive integer except for a and their own value.* "
   ]
  },
  {
   "cell_type": "code",
   "execution_count": 8,
   "metadata": {},
   "outputs": [
    {
     "name": "stdout",
     "output_type": "stream",
     "text": [
      "Enter a number:5\n",
      "5 is a prime number\n"
     ]
    }
   ],
   "source": [
    "num = int(input(\"Enter a number: \"))\n",
    "print(f\"Enter a number:{num}\")\n",
    "\n",
    "# Define flag variable\n",
    "flag = False\n",
    "\n",
    "if num == 1:\n",
    "    print(f\"{num}, is not a prime number\")\n",
    "elif num > 1:\n",
    "    # check for factors\n",
    "    for i in range(2, num):\n",
    "        if (num % i) == 0:\n",
    "            flag = True # if factor is found, set flag to True\n",
    "            # break out of loop\n",
    "            break\n",
    "    # Check if flag is True\n",
    "if flag:\n",
    "    print(f\"{num} is not a prime number.\")\n",
    "else:\n",
    "    print(f\"{num} is a prime number\")"
   ]
  },
  {
   "cell_type": "markdown",
   "metadata": {},
   "source": [
    "### **Program 15**\n",
    "#### **Write a Python Program to Print all Prime Numbers in an interval of 1-10**"
   ]
  },
  {
   "cell_type": "code",
   "execution_count": 3,
   "metadata": {},
   "outputs": [
    {
     "name": "stdout",
     "output_type": "stream",
     "text": [
      "Prime Numbers Between, 1 and 10 are:\n",
      "2\n",
      "3\n",
      "5\n",
      "7\n"
     ]
    }
   ],
   "source": [
    "lower = 1\n",
    "upper = 10\n",
    "\n",
    "print(f\"Prime Numbers Between, {lower} and {upper} are:\")\n",
    "\n",
    "for num in range(lower, upper + 1):\n",
    "    # All prime numbesr are greater than 1\n",
    "    if num > 1:\n",
    "        for i in range(2, num):\n",
    "            if (num % i) == 0:\n",
    "                break\n",
    "        else:\n",
    "            print(num)"
   ]
  },
  {
   "cell_type": "markdown",
   "metadata": {},
   "source": [
    "### **Program 16**\n",
    "#### **Write a Python program to find the factorial of a Number.**"
   ]
  },
  {
   "cell_type": "code",
   "execution_count": 4,
   "metadata": {},
   "outputs": [
    {
     "name": "stdout",
     "output_type": "stream",
     "text": [
      "The given number is:4\n",
      "The Factorial of given number 4 is 24\n"
     ]
    }
   ],
   "source": [
    "num = int(input(\"Enter a number: \"))\n",
    "print(f\"The given number is:{num}\")\n",
    "\n",
    "factorial = 1\n",
    "\n",
    "if num < 0:\n",
    "    print(\"Factorial does not exist for negative numbers\")\n",
    "elif num == 0:\n",
    "    print(f\"Factorial of given number {num} is 1\")\n",
    "else:\n",
    "    for i in range(1, num+1):\n",
    "        factorial = factorial*i\n",
    "    print(f\"The Factorial of given number {num} is {factorial}\")"
   ]
  },
  {
   "cell_type": "markdown",
   "metadata": {},
   "source": [
    "### **Program 17**\n",
    "#### **Write a Python Program to Display the Multiplication Table**"
   ]
  },
  {
   "cell_type": "code",
   "execution_count": 5,
   "metadata": {},
   "outputs": [
    {
     "name": "stdout",
     "output_type": "stream",
     "text": [
      "Enter the number:11\n",
      "11 * 1 = 11\n",
      "11 * 2 = 22\n",
      "11 * 3 = 33\n",
      "11 * 4 = 44\n",
      "11 * 5 = 55\n",
      "11 * 6 = 66\n",
      "11 * 7 = 77\n",
      "11 * 8 = 88\n",
      "11 * 9 = 99\n",
      "11 * 10 = 110\n"
     ]
    }
   ],
   "source": [
    "num = int(input(\"Enter the number: \"))\n",
    "print(f\"Enter the number:{num}\")\n",
    "\n",
    "for i in range(1, 11):\n",
    "    print(f\"{num} * {i} = {num*i}\")"
   ]
  },
  {
   "cell_type": "markdown",
   "metadata": {},
   "source": [
    "### **Program 18**\n",
    "#### **Write a Python Program to print the Fibonacci sequence**\n",
    "\n",
    " **Fibonacci Sequence:**\n",
    " \n",
    " *The Fibonacci sequence is a series of numbers where each number is the sum of the two preceding ones, typicaaly starting with 0 and 1. So the sequence begins with 0 and 1, and the next number is obtained by adding the previous two numbers. This pattern continues indefinitely, generating a sequence that looks like this:*\n",
    " \n",
    " $0,1,1,2,3,5,8,13,21,34,55,89,144, and  so on.$\n",
    "\n",
    "*Mathematically the Fibonacci sequence can be defined using the following relation:*\n",
    "\n",
    "$F(0) = 0 F(1) = 1 F(n) = F(n - 1) + f(n -2) for n > 1$"
   ]
  },
  {
   "cell_type": "code",
   "execution_count": 7,
   "metadata": {},
   "outputs": [
    {
     "name": "stdout",
     "output_type": "stream",
     "text": [
      "How many terms? 10\n",
      "Fibonacci Sequence:\n",
      "0\n",
      "1\n",
      "1\n",
      "2\n",
      "3\n",
      "5\n",
      "8\n",
      "13\n",
      "21\n",
      "34\n"
     ]
    }
   ],
   "source": [
    "nterms = int(input(\"How many terms? \"))\n",
    "print(f\"How many terms? {nterms}\")\n",
    "\n",
    "# first two terms\n",
    "n1, n2 = 0, 1\n",
    "count = 0\n",
    "\n",
    "# Check if the number of terms is valid\n",
    "if nterms <= 0:\n",
    "    print(\"Enter a positive integer\")\n",
    "# if there is only one term, return n1\n",
    "elif nterms == 1:\n",
    "    print(f\"Fibonacci Sequence upto {nterms}\")\n",
    "    print(n1)\n",
    "# generate fibonacci sequence\n",
    "else:\n",
    "    print(\"Fibonacci Sequence:\")\n",
    "    while count < nterms:\n",
    "        print(n1)\n",
    "        nth = n1 + n2\n",
    "        # update values\n",
    "        n1 = n2\n",
    "        n2 = nth\n",
    "        count += 1"
   ]
  },
  {
   "cell_type": "markdown",
   "metadata": {},
   "source": [
    "### **Program 19**\n",
    "#### **Write a Python Program to Check Armstrong Number**\n",
    "\n",
    "**Armstrong Number:**\n",
    "- *It is a number that is equal to the sum of its own digits, each raised to a power equal to the number of digits in the number.*\n",
    "\n",
    "*For example, let's consider the number 153:*\n",
    "\n",
    "- It has three digits(1, 5, 3)\n",
    "- if we calculate 1^3 + 5^3 + 3^3, we get 1 + 125 + 27, which is equal to 153.\n",
    "*so it is armstrong number.*"
   ]
  },
  {
   "cell_type": "code",
   "execution_count": 8,
   "metadata": {},
   "outputs": [
    {
     "name": "stdout",
     "output_type": "stream",
     "text": [
      "Enter a Number:153\n",
      "The given number 153 is Armstrong Number.\n"
     ]
    }
   ],
   "source": [
    "num = int(input(\"Enter a Number: \"))\n",
    "print(f\"Enter a Number:{num}\")\n",
    "\n",
    "# calculate the number of digits in number\n",
    "num_str = str(num)\n",
    "num_digits = len(num_str)\n",
    "\n",
    "# Initiate variables\n",
    "sum_of_powers = 0\n",
    "temp_num = num\n",
    "\n",
    "# Calculate the sum of digits raised to the power of num_digits\n",
    "\n",
    "while temp_num > 0:\n",
    "    digit = temp_num % 10\n",
    "    sum_of_powers  += digit ** num_digits\n",
    "    temp_num //= 10\n",
    "\n",
    "# Check if it's an Armstrong number\n",
    "if sum_of_powers == num:\n",
    "    print(f\"The given number {num} is Armstrong Number.\")\n",
    "else:\n",
    "    print(f\"The given number {num} is not Armstrong Number.\")"
   ]
  },
  {
   "cell_type": "markdown",
   "metadata": {},
   "source": [
    "### **Program 20**\n",
    "#### **Write a Python Program to Find Armstrong Number in an Interval.** "
   ]
  },
  {
   "cell_type": "code",
   "execution_count": 11,
   "metadata": {},
   "outputs": [
    {
     "name": "stdout",
     "output_type": "stream",
     "text": [
      "Enter the lower limit of the interval:10\n",
      "Enter the upper limit of the interval:1000\n",
      "153\n",
      "370\n",
      "371\n",
      "407\n"
     ]
    }
   ],
   "source": [
    "# Input the Interval from the user\n",
    "lower = int(input(\"Enter the lower limit of the interval: \"))\n",
    "upper = int(input(\"Enter the upper limit of the interval: \"))\n",
    "print(f\"Enter the lower limit of the interval:{lower}\")\n",
    "print(f\"Enter the upper limit of the interval:{upper}\")\n",
    "\n",
    "for num in range(lower, upper+1):\n",
    "    num_digits = len(str(num)) # Find the number of digits in number\n",
    "    temp_num = num\n",
    "    sum_of_powers = 0 \n",
    "\n",
    "    while temp_num > 0:\n",
    "        digit = temp_num % 10\n",
    "        sum_of_powers += digit ** num_digits\n",
    "        temp_num //= 10\n",
    "\n",
    "    # Check if num is an armstrong number\n",
    "    if num == sum_of_powers:\n",
    "        print(num)"
   ]
  },
  {
   "cell_type": "markdown",
   "metadata": {},
   "source": [
    "### **Program 21**\n",
    "#### **Write a Python Program to find the sum of Natural Numbers.**\n",
    "\n",
    "**Natural Numbers** *are a set of positive integers that are used to count and order objects. They are the numbers that typically start from 1 and continue indefinitely, including all the whole numbers greater than 0. In mathematical the set of natural numbers is often denoted as \"N\" and can be expressed as:*\n",
    " $N = 1, 2, 3, 4, 5,6, 7, 8....$"
   ]
  },
  {
   "cell_type": "code",
   "execution_count": 12,
   "metadata": {},
   "outputs": [
    {
     "name": "stdout",
     "output_type": "stream",
     "text": [
      "Enter the limit:10\n",
      "The sum of nautral numbers uo to 10 is: 55\n"
     ]
    }
   ],
   "source": [
    "limit = int(input(\"Enter the limit: \"))\n",
    "print(f\"Enter the limit:{limit}\")\n",
    "\n",
    "# Initialize the sum\n",
    "sum = 0\n",
    "\n",
    "# Use a for loop to calculate the sum of natural numbers\n",
    "for i in range(1, limit+1):\n",
    "    sum += i\n",
    "print(f\"The sum of nautral numbers uo to {limit} is: {sum}\")"
   ]
  },
  {
   "cell_type": "markdown",
   "metadata": {},
   "source": [
    "### **Program 22**\n",
    "#### **Write a Python Program to find LCM.**\n",
    "\n",
    "**Least Common Multiple(LCM)**:\n",
    "\n",
    "*LCM, or Least Common Multiple, is the smallest multiple that is exactly divisible by two or more numbers.*\n",
    "\n",
    "*formula:*\n",
    "for two numbers a and b, the LCM can be found using the formula:\n",
    "\n",
    "$LCM(a, b)$ = $|a.b|$/$GCD(a,b)$\n",
    "\n",
    "For more than two numbers, you can find the LCM step by step, taking LCM of pairs of numbers at a time until you reach the last pair.\n",
    "\n",
    "**Note:** GCD stands for Greatest Common Divisior."
   ]
  },
  {
   "cell_type": "code",
   "execution_count": 13,
   "metadata": {},
   "outputs": [
    {
     "name": "stdout",
     "output_type": "stream",
     "text": [
      "Enter the number:54\n",
      "Enter the number:24\n",
      "The L.C.M. is 216\n"
     ]
    }
   ],
   "source": [
    "def compute_lcm(x, y):\n",
    "    if x > y :\n",
    "        greater = x\n",
    "    else:\n",
    "        greater = y\n",
    "\n",
    "    while(True):\n",
    "        if ((greater % x == 0) and (greater % y == 0)):\n",
    "            lcm = greater\n",
    "            break\n",
    "        greater += 1\n",
    "    return lcm\n",
    "\n",
    "num1 = int(input(\"Enter the number: \"))\n",
    "num2 = int(input(\"Enter the number: \"))\n",
    "\n",
    "print(f\"Enter the number:{num1}\")\n",
    "print(f\"Enter the number:{num2}\")\n",
    "\n",
    "print(f\"The L.C.M. is {compute_lcm(num1, num2)}\")"
   ]
  },
  {
   "cell_type": "markdown",
   "metadata": {},
   "source": [
    "### **Program 23**\n",
    "#### **Write a Python Program to find HCF**\n",
    "\n",
    "**Highest Common Factor(HCF):**\n",
    "HCF, or Highest Common Factor, is the largest positive integer that divides two or more numbesr without leaving a reminder.\n",
    "\n",
    "Formula:\n",
    "\n",
    "For two numbesr a and b, the HCF can be found using the formula:\n",
    "\n",
    "$HCF(a,b)$ = $GCD(a,b)$\n",
    "\n",
    "For more than two numbesr, you can find the HCF by taking the GCD of pairs of numbers at a time until you reach the last pair."
   ]
  },
  {
   "cell_type": "code",
   "execution_count": 14,
   "metadata": {},
   "outputs": [
    {
     "name": "stdout",
     "output_type": "stream",
     "text": [
      "Enter the number:54\n",
      "Enter the number:24\n",
      "The H.C.F. is 6\n"
     ]
    }
   ],
   "source": [
    "def compute_hcf(x, y):\n",
    "#choose the smaller number\n",
    "    if x > y :\n",
    "        smaller = y\n",
    "    else:\n",
    "        smaller = x\n",
    "    for i in range(1, smaller+1):\n",
    "        if((x % i == 0) and (y % i == 0)):\n",
    "            hcf = i\n",
    "    return hcf\n",
    "\n",
    "num1 = int(input(\"Enter the number: \"))\n",
    "num2 = int(input(\"Enter the number: \"))\n",
    "print(f\"Enter the number:{num1}\")\n",
    "print(f\"Enter the number:{num2}\")\n",
    "print(f\"The H.C.F. is {compute_hcf(num1, num2)}\")"
   ]
  },
  {
   "cell_type": "markdown",
   "metadata": {},
   "source": [
    "### **Program 24**\n",
    "#### **Write a Python Program to convert Decimal to Binary, Octal, and Hexadecimal**\n",
    "\n",
    "**How can we manually convert a decimal number to binary, octal and hexadecimal?**\n",
    "\n",
    "- Converting a decimal number to binary, octal, and hexadecimal involves dividing the decimal number by the base repeatedly and noting the remainders at each step. Here's a simple example:\n",
    "\n",
    "Let's convert the decimal number 27 to binary, octal and hexadecimal.\n",
    "\n",
    "**1. Binary:**\n",
    "\n",
    "- Divide 27 by 2. Quotient is 13, remainder is 1. Note the remainder.\n",
    "- Divide 13 by 2. Quotient is 6, remainder is 1. Note the remainder.\n",
    "- Divide 6 by 2. Quotient is 3, remainder is 0. Note the remainder.\n",
    "- Divide 3 by 2. Quotient is 1, remainder is 1. Note the remainder.\n",
    "- Divide 1 by 2. Quotient is 0, remainder is 1.Note the remainder.\n",
    "\n",
    "Reading the remainders from botteom to top, the binary representation of 27 is 11011.\n",
    "\n",
    "**2. Octal:**\n",
    "\n",
    "- Divide 27 by 8. Quotient is 3, remainder is 3. Note the remainder.\n",
    "- Divide 3 by 8. Quotient is 0, remainder is 3. Note the remainder.\n",
    "\n",
    "Reading the remainders from bottom to top, the octal representation of 27 is 33.\n",
    "\n",
    "**3. Hexadecimal:**\n",
    "\n",
    "- Divide 27 by 16. Quotient is 1, remainder is 11(B in hexadecimal). Note the remainder.\n",
    "\n",
    "Reading the remainders, the hexadecimal representation of 27 is 1B.\n",
    "\n",
    "So, in Summary:\n",
    "- Binary:27 in decimal is 11011 in binary.\n",
    "- Octal:27 in decimal is 33 in octal.\n",
    "- Hexadecimal:27 in decimal is 1B in hexadecimal."
   ]
  },
  {
   "cell_type": "code",
   "execution_count": 15,
   "metadata": {},
   "outputs": [
    {
     "name": "stdout",
     "output_type": "stream",
     "text": [
      "Enter a decimal number:27\n",
      "The decimal value of 27 is:\n",
      "0b11011, in binary.\n",
      "0o33, in octal.\n",
      "0x1b, in hexadecimal.\n"
     ]
    }
   ],
   "source": [
    "dec_num = int(input(\"Enter a decimal number: \"))\n",
    "print(f\"Enter a decimal number:{dec_num}\")\n",
    "\n",
    "print(f\"The decimal value of {dec_num} is:\")\n",
    "print(f\"{bin(dec_num)}, in binary.\")\n",
    "print(f\"{oct(dec_num)}, in octal.\")\n",
    "print(f\"{hex(dec_num)}, in hexadecimal.\")"
   ]
  },
  {
   "cell_type": "markdown",
   "metadata": {},
   "source": [
    "### **Program 25**\n",
    "**Write a Python Program To Find ACII Value of a character.**\n",
    "\n",
    "**ASCII Value:**\n",
    "ASCII, or American Standard Code for Information Interchange, is a character encoding standard that uses values to represent characters. Each ASCII character is assigned a unique 7-bit or 8-bit binary number, allowing computers to exchange information and display text in a consistent way. The ASCII values range from 0 to 127 (for 7-bit ASCII) or 0 to 255(for 8-bit ASCII), with each value corresponding to a specific character, such as letters, digits, punctuation marks, and control characters."
   ]
  },
  {
   "cell_type": "code",
   "execution_count": 16,
   "metadata": {},
   "outputs": [
    {
     "name": "stdout",
     "output_type": "stream",
     "text": [
      "Enter the character:P\n",
      "The ASCII value of P is, 80\n"
     ]
    }
   ],
   "source": [
    "char = str(input(\"Enter the character: \"))\n",
    "print(f\"Enter the character:{char}\")\n",
    "print(f\"The ASCII value of {char} is, {ord(char)}\")"
   ]
  },
  {
   "cell_type": "markdown",
   "metadata": {},
   "source": [
    "### **Program 26**\n",
    "#### **Write a Python Program to Make a Simple Calculator with 4 basic mathematical operations.**"
   ]
  },
  {
   "cell_type": "code",
   "execution_count": 20,
   "metadata": {},
   "outputs": [
    {
     "name": "stdout",
     "output_type": "stream",
     "text": [
      "Select Operations:\n",
      "1.Add\n",
      "2.Subtract\n",
      "3.Multiply\n",
      "4.Divide\n",
      "10.0 + 20.0 = 30.0\n",
      "35.0 - 45.0 = -10.0\n",
      "100.0 * 10.0 = 1000.0\n",
      "90.0 / 10.0 =  9.0\n"
     ]
    }
   ],
   "source": [
    "def add(x, y):\n",
    "    return x + y\n",
    "def subtract(x, y):\n",
    "    return x - y\n",
    "def multiply(x, y):\n",
    "    return x * y\n",
    "def divide(x, y):\n",
    "    return x / y\n",
    "\n",
    "print(\"Select Operations:\")\n",
    "print(\"1.Add\")\n",
    "print(\"2.Subtract\")\n",
    "print(\"3.Multiply\")\n",
    "print(\"4.Divide\")\n",
    "\n",
    "while True:\n",
    "    choice = input(\"Enter choice(1/2/3/4): \")\n",
    "\n",
    "    if choice in ('1', '2', '3', '4'):\n",
    "        try:\n",
    "            num1 = float(input(\"Enter first number: \"))\n",
    "            num2 = float(input(\"Enter second number: \"))\n",
    "\n",
    "        except ValueError:\n",
    "            print(\"Invalid input. Please enter a number.\") \n",
    "            continue\n",
    "\n",
    "        if choice == '1':\n",
    "            print(f\"{num1} + {num2} = {add(num1, num2)}\")\n",
    "        \n",
    "        elif choice == '2':\n",
    "            print(f\"{num1} - {num2} = {subtract(num1, num2)}\")\n",
    "        \n",
    "        elif choice == '3':\n",
    "            print(f\"{num1} * {num2} = {multiply(num1, num2)}\")\n",
    "\n",
    "        elif choice == '4':\n",
    "            print(f\"{num1} / {num2} =  {divide(num1, num2)}\")\n",
    "\n",
    "\n",
    "        next_calculation = input(\"Let's do next calculation? (yes/no)\")\n",
    "        if next_calculation == \"no\":\n",
    "            break\n",
    "    else:\n",
    "        print(\"Invalid Input\")"
   ]
  },
  {
   "cell_type": "markdown",
   "metadata": {},
   "source": [
    "### **Program 27**\n",
    "#### **Write a Python Program to Display Fibonacci Sequence Using Recursion.**"
   ]
  },
  {
   "cell_type": "code",
   "execution_count": 22,
   "metadata": {},
   "outputs": [
    {
     "name": "stdout",
     "output_type": "stream",
     "text": [
      "Enter the number of terms(greater than 0):8\n",
      "Fibonacci Sequence:\n",
      "0\n",
      "1\n",
      "1\n",
      "2\n",
      "3\n",
      "5\n",
      "8\n",
      "13\n"
     ]
    }
   ],
   "source": [
    "def recur_fibo(n):\n",
    "    if n <= 1:\n",
    "        return n\n",
    "    else:\n",
    "        return(recur_fibo(n-1) + recur_fibo(n-2))\n",
    "    \n",
    "nterms = int(input(\"Enter the number of terms (greater than 0): \"))\n",
    "print(f\"Enter the number of terms(greater than 0):{nterms}\")\n",
    "if nterms <= 0:\n",
    "    print(\"please enter a positive integer\")\n",
    "else:\n",
    "    print(\"Fibonacci Sequence:\")\n",
    "    for i in range(nterms):\n",
    "        print(recur_fibo(i))"
   ]
  },
  {
   "cell_type": "markdown",
   "metadata": {},
   "source": [
    "### **Program 28**\n",
    "#### **Write a Python Program to Find Factorial of Number Using Recrusion**"
   ]
  },
  {
   "cell_type": "code",
   "execution_count": 23,
   "metadata": {},
   "outputs": [
    {
     "name": "stdout",
     "output_type": "stream",
     "text": [
      "Enter the number:7\n",
      "The factorial of 7 is 5040\n"
     ]
    }
   ],
   "source": [
    "def recur_factorial(n):\n",
    "    if n == 1:\n",
    "        return n\n",
    "    else:\n",
    "        return n*recur_factorial(n-1)\n",
    "    \n",
    "num = int(input(\"Enter the number: \"))\n",
    "print(f\"Enter the number:{num}\")\n",
    "\n",
    "# check if the number is negative\n",
    "if num < 0:\n",
    "    print(\"Factorial does not exist\")\n",
    "elif num == 0:\n",
    "    print(\"The factorial of 0 is 1\")\n",
    "else:\n",
    "    print(f\"The factorial of {num} is {recur_factorial(num)}\")"
   ]
  },
  {
   "cell_type": "markdown",
   "metadata": {},
   "source": [
    "### **Program 29**\n",
    "#### **Write a Python Program to calculate your Body Mass Index.**\n",
    "\n",
    "**Body Mass Index(BMI)** is a measure of body fat based on an individual's weight and height. It is uesd as screening tool to categorize individuals into different weight status categories, such as underweight, normal weight, overweight, and obesity.\n",
    "\n",
    "The BMI is calculated using the following formula:\n",
    "\n",
    "$BMI$ = $Weight(Kg)$ / $Height(m)2$ \n",
    "\n",
    "Alternatively, in the imperial system:\n",
    "\n",
    "$BMI$ = $Weight(lb)$ / $Height(in)2$ * $703$\n",
    "\n",
    "*BMI provides a general indication of body fatness but does not directly measure body fat or distribution. It is widely used in public health and clinical settings as a quick and simple tool to assess potential health risks associated with weight. Different BMI ranges are associated with different health categories, but it's important to note that BMI has limitations and does not account for factors such as muscle mass or distribution of fat.*"
   ]
  },
  {
   "cell_type": "code",
   "execution_count": 24,
   "metadata": {},
   "outputs": [
    {
     "name": "stdout",
     "output_type": "stream",
     "text": [
      "Enter your height in meters:1.8\n",
      "Enter your weight in kg:70.0\n",
      "Welcome to the BMI Calculator\n",
      "Your BMI is 21.6\n",
      "your weight is normal\n"
     ]
    }
   ],
   "source": [
    "def bodymassindex(height, weight):\n",
    "    return round((weight / height**2),2)\n",
    "\n",
    "h = float(input(\"Enter your height in meters: \"))\n",
    "w = float(input(\"Enter your weight in kg: \"))\n",
    "\n",
    "print(f\"Enter your height in meters:{h}\")\n",
    "print(f\"Enter your weight in kg:{w}\")\n",
    "\n",
    "print(\"Welcome to the BMI Calculator\")\n",
    "\n",
    "BMI = bodymassindex(h, w)\n",
    "print(f\"Your BMI is {BMI}\")\n",
    "\n",
    "if BMI <= 18.5:\n",
    "    print(\"you are underweight\")\n",
    "elif 18.5 < BMI <= 24.9:\n",
    "    print(\"your weight is normal\")\n",
    "elif 25 < BMI <= 29.29:\n",
    "    print(\"You are overweight\")\n",
    "else:\n",
    "    print(\"You are obese\")"
   ]
  },
  {
   "cell_type": "markdown",
   "metadata": {},
   "source": [
    "### **Program 30**\n",
    "#### **Write a Python Program to Calculate the Natural logarithm of any number.**"
   ]
  },
  {
   "cell_type": "code",
   "execution_count": 25,
   "metadata": {},
   "outputs": [
    {
     "name": "stdout",
     "output_type": "stream",
     "text": [
      "Enter a number :1.4\n",
      "The natural logarithm of 1.4 is :0.3364722366212129\n"
     ]
    }
   ],
   "source": [
    "import math\n",
    "\n",
    "num = float(input(\"Enter a number: \"))\n",
    "print(f\"Enter a number :{num}\")\n",
    "\n",
    "if num <= 0:\n",
    "    print(\"please enter a positive number.\")\n",
    "else:\n",
    "    result = math.log(num)\n",
    "    print(f\"The natural logarithm of {num} is :{result}\")"
   ]
  },
  {
   "cell_type": "markdown",
   "metadata": {},
   "source": [
    "### **Program 31**\n",
    "#### **Write a Python Program for cube sum of first n natural numbers?**"
   ]
  },
  {
   "cell_type": "code",
   "execution_count": 30,
   "metadata": {},
   "outputs": [
    {
     "name": "stdout",
     "output_type": "stream",
     "text": [
      "Enter the value of n:7\n",
      "The cube sum of the first 7 natural numbers is: 784\n"
     ]
    }
   ],
   "source": [
    "def cube_sum_of_natural_numbers(n):\n",
    "    if n <= 0:\n",
    "        return 0\n",
    "    else:\n",
    "        total = 0\n",
    "        for i in range(1, n+1):\n",
    "            total += i**3\n",
    "        return total\n",
    "\n",
    "n = int(input(\"Enter the value of n: \"))\n",
    "print(f\"Enter the value of n:{n}\")\n",
    "\n",
    "if n <= 0:\n",
    "    print(\"Please enter a positive integer.\")\n",
    "else:\n",
    "    result = cube_sum_of_natural_numbers(n)\n",
    "    print(f\"The cube sum of the first {n} natural numbers is: {result}\")"
   ]
  },
  {
   "cell_type": "markdown",
   "metadata": {},
   "source": [
    "### **Program 32**\n",
    "#### **Write a Python Program to find sum of array.**"
   ]
  },
  {
   "cell_type": "code",
   "execution_count": 1,
   "metadata": {},
   "outputs": [
    {
     "name": "stdout",
     "output_type": "stream",
     "text": [
      "The sum of array is:6\n"
     ]
    }
   ],
   "source": [
    "arr = [1, 2, 3]\n",
    "ans = sum(arr)\n",
    "print(f\"The sum of array is:{ans}\")"
   ]
  },
  {
   "cell_type": "code",
   "execution_count": 2,
   "metadata": {},
   "outputs": [
    {
     "name": "stdout",
     "output_type": "stream",
     "text": [
      "The array is:[1, 2, 3]\n",
      "The sum of array is:6\n"
     ]
    }
   ],
   "source": [
    "def sum_of_array(arr):\n",
    "    total = 0\n",
    "\n",
    "    for element in arr:\n",
    "        total += element\n",
    "    return total\n",
    "\n",
    "array = [1, 2, 3]\n",
    "print(f\"The array is:{array}\")\n",
    "print(f\"The sum of array is:{sum_of_array(array)}\")"
   ]
  },
  {
   "cell_type": "markdown",
   "metadata": {},
   "source": [
    "### **Program 33**\n",
    "#### **Write a Python Program to find largest element in an array**"
   ]
  },
  {
   "cell_type": "code",
   "execution_count": 3,
   "metadata": {},
   "outputs": [
    {
     "name": "stdout",
     "output_type": "stream",
     "text": [
      "The array is:[10, 20, 30, 99]\n",
      "The largest element in array is:99\n"
     ]
    }
   ],
   "source": [
    "def find_largest_element(arr):\n",
    "    if not arr:\n",
    "        return \"Array is empty\"\n",
    "    # Initialize the first element as the largest\n",
    "    largest_element = arr[0]\n",
    "\n",
    "    # Iterate through the array to find the largest element\n",
    "    for element in arr:\n",
    "        if element > largest_element:\n",
    "            largest_element = element\n",
    "    return largest_element\n",
    "\n",
    "my_array = [10, 20, 30, 99]\n",
    "print(f\"The array is:{my_array}\")\n",
    "print(f\"The largest element in array is:{find_largest_element(my_array)}\")"
   ]
  },
  {
   "cell_type": "markdown",
   "metadata": {},
   "source": [
    "### **Program 34**\n",
    "#### **Write a Python Program to Split the array and the first part to the end?**"
   ]
  },
  {
   "cell_type": "code",
   "execution_count": 4,
   "metadata": {},
   "outputs": [
    {
     "name": "stdout",
     "output_type": "stream",
     "text": [
      "The original array is:[1, 2, 3, 4, 5]\n",
      "Array after splitting and adding:[4, 5, 1, 2, 3]\n"
     ]
    }
   ],
   "source": [
    "def split_and_add(arr, k):\n",
    "    if k <= 0 or k>= len(arr):\n",
    "        return arr\n",
    "    \n",
    "    # split the array into two parts\n",
    "    first_part = arr[:k]\n",
    "    second_part = arr[k:]\n",
    "\n",
    "    # Add the first part to end of the second part\n",
    "    result = second_part + first_part\n",
    "\n",
    "    return result\n",
    "\n",
    "arr = [1, 2, 3, 4, 5]\n",
    "k = 3\n",
    "\n",
    "print(f\"The original array is:{arr}\")\n",
    "print(f\"Array after splitting and adding:{split_and_add(arr, k)}\")\n"
   ]
  },
  {
   "cell_type": "markdown",
   "metadata": {},
   "source": [
    "### **Program 35**\n",
    "#### **Write a Python Program to check if given array is Monotonic.**\n",
    "- A monotonic array is one that is entirely non-increasing or non-decreasing."
   ]
  },
  {
   "cell_type": "code",
   "execution_count": 5,
   "metadata": {},
   "outputs": [
    {
     "name": "stdout",
     "output_type": "stream",
     "text": [
      "arr1 is monotonic:True\n",
      "arr2 is monotonic:True\n",
      "arr3 is monotonic:False\n"
     ]
    }
   ],
   "source": [
    "def is_monotonic(arr):\n",
    "    increasing = decreasing = True\n",
    "\n",
    "    for i in range(1, len(arr)):\n",
    "        if arr[i] > arr[i-1]:\n",
    "            decreasing = False\n",
    "        elif arr[i] < arr[i -1]:\n",
    "            increasing = False\n",
    "    return increasing or decreasing\n",
    "\n",
    "# Test the function\n",
    "arr1 = [1, 2, 3, 4]\n",
    "arr2 = [3, 2, 1]\n",
    "arr3 = [1, 3, 2, 4]\n",
    "print(f\"arr1 is monotonic:{is_monotonic(arr1)}\")\n",
    "print(f\"arr2 is monotonic:{is_monotonic(arr2)}\")\n",
    "print(f\"arr3 is monotonic:{is_monotonic(arr3)}\")\n",
    "    "
   ]
  },
  {
   "cell_type": "markdown",
   "metadata": {},
   "source": [
    "### **Program 37**\n",
    "#### **Write a Python Program to Add Two Matrices.**"
   ]
  },
  {
   "cell_type": "code",
   "execution_count": 3,
   "metadata": {},
   "outputs": [
    {
     "name": "stdout",
     "output_type": "stream",
     "text": [
      "Sum of Matrices:\n",
      "[10, 10, 10]\n",
      "[10, 10, 10]\n",
      "[10, 10, 10]\n"
     ]
    }
   ],
   "source": [
    "def add_matrices(mat1, mat2):\n",
    "    # Check if the matrices have the same dimensions\n",
    "    if len(mat1) != len(mat2) or len(mat1[0]) != len(mat2[0]):\n",
    "        return \"Matrices must have the same dimensions\"\n",
    "    \n",
    "    # Initiate an empty result matrix with the same dimensions\n",
    "    result = []\n",
    "    for i in range(len(mat1)):\n",
    "        row = []\n",
    "        for j in range(len(mat1[0])):\n",
    "            row.append(mat1[i][j] + mat2[i][j])\n",
    "        result.append(row)\n",
    "\n",
    "    return result\n",
    "\n",
    "\n",
    "# Input matrices\n",
    "mat1 = [[1, 2, 3],\n",
    "        [4, 5, 6],\n",
    "        [7, 8, 9]\n",
    "        ]\n",
    "mat2 = [[9, 8, 7],\n",
    "        [6, 5, 4],\n",
    "        [3, 2, 1]]\n",
    "\n",
    "# call the add matrices function\n",
    "result_mat = add_matrices(mat1, mat2)\n",
    "\n",
    "# Dislay the result\n",
    "if isinstance(result_mat, str):\n",
    "    print(result_mat)\n",
    "else:\n",
    "    print(\"Sum of Matrices:\")\n",
    "    for row in result_mat:\n",
    "        print(row)"
   ]
  },
  {
   "cell_type": "markdown",
   "metadata": {},
   "source": [
    "### **Program 37**\n",
    "#### **Write a Python to multiply Two Matrices.**"
   ]
  },
  {
   "cell_type": "code",
   "execution_count": 4,
   "metadata": {},
   "outputs": [
    {
     "name": "stdout",
     "output_type": "stream",
     "text": [
      "Result of matrix multiplication:\n",
      "[58, 64]\n",
      "[139, 154]\n"
     ]
    }
   ],
   "source": [
    "# function to multiply two matrices\n",
    "\n",
    "def multiply_matrices(mat, mat2):\n",
    "    # Determine the dimensions of the input matrices\n",
    "    rows1 = len(mat1)\n",
    "    cols1 = len(mat1[0])\n",
    "    rows2 = len(mat2)\n",
    "    cols2 = len(mat2[0])\n",
    "\n",
    "    # Check if multiplication is possible\n",
    "    if cols1 != rows2:\n",
    "        return \"Matrix multiplication is not possible\"\n",
    "    \n",
    "    # Initiate the result matrix with zeros\n",
    "    result = [[0 for _ in range(cols2)] for _ in range(rows1)]\n",
    "\n",
    "    # perform matrix multiplication\n",
    "    for i in range(rows1):\n",
    "        for j in range(cols2):\n",
    "            for k in range(cols1):\n",
    "                result[i][j] += mat1[i][k] * mat2[k][j]\n",
    "    return result\n",
    "\n",
    "# Example matrices\n",
    "mat1 = [[1, 2, 3],\n",
    "        [4, 5, 6]]\n",
    "\n",
    "mat2 = [[7, 8],\n",
    "        [9, 10],\n",
    "        [11, 12]\n",
    "        ]\n",
    "\n",
    "# Multiple the matrices\n",
    "result_mat = multiply_matrices(mat1, mat2)\n",
    "\n",
    "# Display the result\n",
    "if isinstance(result_mat, str):\n",
    "    print(result_mat)\n",
    "else:\n",
    "    print(\"Result of matrix multiplication:\")\n",
    "    for row in result_mat:\n",
    "        print(row)"
   ]
  },
  {
   "cell_type": "markdown",
   "metadata": {},
   "source": [
    "### **Program 38**\n",
    "#### **Write a Python Program to Transpose a Matrix.**"
   ]
  },
  {
   "cell_type": "code",
   "execution_count": 5,
   "metadata": {},
   "outputs": [
    {
     "name": "stdout",
     "output_type": "stream",
     "text": [
      "[1, 4]\n",
      "[2, 5]\n",
      "[3, 6]\n"
     ]
    }
   ],
   "source": [
    "# Function to transpose a matrix\n",
    "\n",
    "def transpose_matrix(matrix):\n",
    "    rows = len(matrix)\n",
    "    cols = len(matrix[0])\n",
    "\n",
    "    # create an empty matrix to store the transpose data\n",
    "    result = [[0 for _ in range(rows)] for _ in range(cols)]\n",
    "\n",
    "    for i in range(rows):\n",
    "        for j in range(cols):\n",
    "            result[j][i] = matrix[i][j]\n",
    "\n",
    "    return result\n",
    "\n",
    "# Input matrix\n",
    "\n",
    "matrix = [[1, 2, 3],\n",
    "          [4, 5, 6]]\n",
    "\n",
    "# Transpose the matrix\n",
    "transpose_matrix = transpose_matrix(matrix)\n",
    "\n",
    "# print the transpose matrix\n",
    "for row in transpose_matrix:\n",
    "    print(row)"
   ]
  },
  {
   "cell_type": "markdown",
   "metadata": {},
   "source": [
    "### **Program 40**\n",
    "#### **Write a Python to sort Words in Alphabetic Order.** "
   ]
  },
  {
   "cell_type": "code",
   "execution_count": 7,
   "metadata": {},
   "outputs": [
    {
     "name": "stdout",
     "output_type": "stream",
     "text": [
      "The given string is:suresh ramesh vibhuti gulgule raji ram shyam ajay\n",
      "The sorted words are:\n",
      "Ajay\n",
      "Gulgule\n",
      "Raji\n",
      "Ram\n",
      "Ramesh\n",
      "Shyam\n",
      "Suresh\n",
      "Vibhuti\n"
     ]
    }
   ],
   "source": [
    "my_str = input(\"Enter a string: \")\n",
    "print(f\"The given string is:{my_str}\")\n",
    "\n",
    "# Breakdown the string into a list of words\n",
    "words = [word.capitalize() for word in my_str.split()]\n",
    "\n",
    "# sort the list\n",
    "words.sort()\n",
    "\n",
    "# Display the sorted words\n",
    "\n",
    "print(\"The sorted words are:\")\n",
    "for word in words:\n",
    "    print(word)"
   ]
  },
  {
   "cell_type": "markdown",
   "metadata": {},
   "source": [
    "### **Program 41**\n",
    "#### **write a Python program to Remove Punctuation From a String.** "
   ]
  },
  {
   "cell_type": "code",
   "execution_count": 3,
   "metadata": {},
   "outputs": [
    {
     "name": "stdout",
     "output_type": "stream",
     "text": [
      "My string:Hello!!!, he said ---and went\n",
      "Hello he said and went\n"
     ]
    }
   ],
   "source": [
    "# define punctuations\n",
    "\n",
    "punctuations = '''!()-[]{};:'\"\\,<>./?@#$%^&*_~'''\n",
    "\n",
    "# To take input from the user\n",
    "my_str = input(\"Enter a string: \")\n",
    "print(f\"My string:{my_str}\")\n",
    "\n",
    "# remove punctuation from the string\n",
    "no_punct = \"\"\n",
    "for char in my_str:\n",
    "    if char not in punctuations:\n",
    "        no_punct = no_punct + char\n",
    "\n",
    "# Display the final string\n",
    "print(no_punct)\n"
   ]
  },
  {
   "cell_type": "markdown",
   "metadata": {},
   "source": [
    "### **Program 42**\n",
    "#### **Write a Python program to find the sum of element in list**"
   ]
  },
  {
   "cell_type": "code",
   "execution_count": 4,
   "metadata": {},
   "outputs": [
    {
     "name": "stdout",
     "output_type": "stream",
     "text": [
      "The list is:[10, 20, 30, 40, 50]\n",
      "The sum of element in List is:150\n"
     ]
    }
   ],
   "source": [
    "list1 = [10, 20, 30, 40, 50]\n",
    "print(f\"The list is:{list1}\")\n",
    "\n",
    "sum_of_element = 0\n",
    "\n",
    "for element in list1:\n",
    "    sum_of_element += element\n",
    "\n",
    "print(f\"The sum of element in List is:{sum_of_element}\")"
   ]
  },
  {
   "cell_type": "markdown",
   "metadata": {},
   "source": [
    "### **Program 43**\n",
    "#### **Write a Python Program to Multiply all numbers in the list.**"
   ]
  },
  {
   "cell_type": "code",
   "execution_count": 6,
   "metadata": {},
   "outputs": [
    {
     "name": "stdout",
     "output_type": "stream",
     "text": [
      "The list is:[10, 20, 30, 40, 50]\n",
      "The product of element is list is :12000000\n"
     ]
    }
   ],
   "source": [
    "list1 = [10, 20, 30, 40, 50]\n",
    "print(f\"The list is:{list1}\")\n",
    "\n",
    "product_of_element = 1\n",
    "\n",
    "for i in list1:\n",
    "    product_of_element *= i\n",
    "\n",
    "print(f\"The product of element is list is :{product_of_element}\")"
   ]
  },
  {
   "cell_type": "markdown",
   "metadata": {},
   "source": [
    "### **Program 44**\n",
    "#### **Write a Python program to find smallest number in a list.**"
   ]
  },
  {
   "cell_type": "code",
   "execution_count": 8,
   "metadata": {},
   "outputs": [
    {
     "name": "stdout",
     "output_type": "stream",
     "text": [
      "The list is:[30, 10, -45, 5, 20]\n",
      "The minimum element in list is:-45\n"
     ]
    }
   ],
   "source": [
    "list1 = [30, 10, -45, 5, 20]\n",
    "print(f\"The list is:{list1}\")\n",
    "\n",
    "minimum = list1[0]\n",
    "\n",
    "for i in list1:\n",
    "    if i < minimum:\n",
    "        minimum = i\n",
    "\n",
    "print(f\"The minimum element in list is:{minimum}\")"
   ]
  },
  {
   "cell_type": "markdown",
   "metadata": {},
   "source": [
    "### **Program 45**\n",
    "#### **Write a Python program to find largest number in list.**"
   ]
  },
  {
   "cell_type": "code",
   "execution_count": 9,
   "metadata": {},
   "outputs": [
    {
     "name": "stdout",
     "output_type": "stream",
     "text": [
      "The List is:[30, 10, -45, 5, 20]\n",
      "The maximum element in list is:30\n"
     ]
    }
   ],
   "source": [
    "list1 = [30, 10, -45, 5, 20]\n",
    "print(f\"The List is:{list1}\")\n",
    "\n",
    "maximum = list1[0]\n",
    "\n",
    "for i in list1:\n",
    "    if i > maximum:\n",
    "        maximum = i\n",
    "\n",
    "print(f\"The maximum element in list is:{maximum}\")"
   ]
  },
  {
   "cell_type": "markdown",
   "metadata": {},
   "source": [
    "### **Program 46**\n",
    "#### **Write a Python to find second largest number in a list.**"
   ]
  },
  {
   "cell_type": "code",
   "execution_count": 15,
   "metadata": {},
   "outputs": [
    {
     "name": "stdout",
     "output_type": "stream",
     "text": [
      "The list is:[30, 10, 45, 5, 20]\n",
      "The Reverse list is:[45, 30, 20, 10, 5]\n",
      "The second largest number in the list is:30\n"
     ]
    }
   ],
   "source": [
    "list1 = [30, 10, 45, 5, 20]\n",
    "print(f\"The list is:{list1}\")\n",
    "# sort the list in descending order\n",
    "list1.sort(reverse=True)\n",
    "print(f\"The Reverse list is:{list1}\")\n",
    "\n",
    "if len(list1) >= 2:\n",
    "    second_largest = list1[1]\n",
    "    print(f\"The second largest number in the list is:{second_largest}\")\n",
    "else:\n",
    "    print(\"The list does not contain a second largest number.\")\n",
    "\n"
   ]
  },
  {
   "cell_type": "markdown",
   "metadata": {},
   "source": [
    "### **Program 47**\n",
    "#### **Write a Python program to find N largest elements from a list.**"
   ]
  },
  {
   "cell_type": "code",
   "execution_count": 17,
   "metadata": {},
   "outputs": [
    {
     "name": "stdout",
     "output_type": "stream",
     "text": [
      "The list is :[30, 10, 45, 5, 20, 50, 15, 3, 345, 54, 67, 87, 98, 100, 34]\n",
      "Number of largest elements to find:3\n",
      "The 3 largest elements in the list are:[345, 100, 98]\n"
     ]
    }
   ],
   "source": [
    "def find_n_largest_elements(lst, n):\n",
    "    #sort the list in descending order\n",
    "    sorted_lst = sorted(lst, reverse=True)\n",
    "\n",
    "    # Get the first N elements\n",
    "    largest_elements = sorted_lst[:n]\n",
    "\n",
    "    return largest_elements\n",
    "\n",
    "# smaple list of elements\n",
    "numbers = [30, 10, 45, 5, 20, 50, 15, 3, 345, 54, 67, 87, 98, 100, 34]\n",
    "\n",
    "print(f\"The list is :{numbers}\")\n",
    "\n",
    "# Number of largest elements to find\n",
    "N = int(input(\"N = \"))\n",
    "print(f\"Number of largest elements to find:{N}\")\n",
    "\n",
    "# find the N largest elements from the list\n",
    "result = find_n_largest_elements(numbers, N)\n",
    "\n",
    "# print the N largest elements\n",
    "print(f\"The {N} largest elements in the list are:{result}\")"
   ]
  },
  {
   "cell_type": "markdown",
   "metadata": {},
   "source": [
    "### **Program 48**\n",
    "#### **Write a Python Program to print numbers in a list**"
   ]
  },
  {
   "cell_type": "code",
   "execution_count": 18,
   "metadata": {},
   "outputs": [
    {
     "name": "stdout",
     "output_type": "stream",
     "text": [
      "The numbers are in list is:[1, 2, 3, 4, 5, 6, 7, 8, 9, 10] \n",
      "The even numbers in lists is:[2, 4, 6, 8, 10]\n"
     ]
    }
   ],
   "source": [
    "numbers = [1, 2, 3, 4, 5, 6, 7, 8, 9, 10]\n",
    "print(f\"The numbers are in list is:{numbers} \")\n",
    "\n",
    "# Using a list comprehension to filter even numbers\n",
    "even_numbers = [num for num in numbers if num % 2 == 0]\n",
    "\n",
    "# print the even numbers\n",
    "print(f\"The even numbers in lists is:{even_numbers}\")"
   ]
  },
  {
   "cell_type": "markdown",
   "metadata": {},
   "source": [
    "### **Program 49**\n",
    "#### **Write a Python program to print odd numbers in a List.**   "
   ]
  },
  {
   "cell_type": "code",
   "execution_count": 19,
   "metadata": {},
   "outputs": [
    {
     "name": "stdout",
     "output_type": "stream",
     "text": [
      "The given numbers are:[1, 2, 3, 4, 5, 6, 7, 8, 9, 10]\n",
      "The odd numbers are:[1, 3, 5, 7, 9]\n"
     ]
    }
   ],
   "source": [
    "numbers = [1, 2, 3, 4, 5, 6, 7, 8, 9, 10]\n",
    "print(f\"The given numbers are:{numbers}\")\n",
    "\n",
    "odd_numbers = [num for num in numbers if num%2 != 0]\n",
    "print(f\"The odd numbers are:{odd_numbers}\")"
   ]
  },
  {
   "cell_type": "markdown",
   "metadata": {},
   "source": [
    "### **Program 50**\n",
    "#### **Write a Python Program to Remove empty List from list**"
   ]
  },
  {
   "cell_type": "code",
   "execution_count": 20,
   "metadata": {},
   "outputs": [
    {
     "name": "stdout",
     "output_type": "stream",
     "text": [
      "The given list is:[[1, 2, 3], [], [4, 5], [], [6, 7, 8], []]\n",
      "List after removing empty lists:[[1, 2, 3], [4, 5], [6, 7, 8]]\n"
     ]
    }
   ],
   "source": [
    "list_of_lists = [[1, 2, 3], [], [4, 5], [], [6, 7, 8], []]\n",
    "print(f\"The given list is:{list_of_lists}\")\n",
    "\n",
    "filtered_list = [i for i in list_of_lists if i]\n",
    "\n",
    "print(f\"List after removing empty lists:{filtered_list}\")"
   ]
  },
  {
   "cell_type": "markdown",
   "metadata": {},
   "source": [
    "### **Program 51**\n",
    "#### **Write a Python Program to Cloning or Copying a List.**"
   ]
  },
  {
   "cell_type": "code",
   "execution_count": 23,
   "metadata": {},
   "outputs": [
    {
     "name": "stdout",
     "output_type": "stream",
     "text": [
      "Original List:[1, 2, 3, 4, 5]\n",
      "Cloned_List:[1, 2, 3, 4, 5]\n"
     ]
    }
   ],
   "source": [
    "# 1. Using the slice opertaor\n",
    "original_list = [1, 2, 3, 4, 5]\n",
    "cloned_list = original_list[:]\n",
    "print(f\"Original List:{original_list}\")\n",
    "print(f\"Cloned_List:{cloned_list}\")"
   ]
  },
  {
   "cell_type": "code",
   "execution_count": 24,
   "metadata": {},
   "outputs": [
    {
     "name": "stdout",
     "output_type": "stream",
     "text": [
      "Original List:[1, 2, 3, 4, 5]\n",
      "Cloned List:[1, 2, 3, 4, 5]\n"
     ]
    }
   ],
   "source": [
    "# 2. Using the list()Operator\n",
    "original_list = [1, 2, 3, 4, 5]\n",
    "cloned_list = list(original_list)\n",
    "print(f\"Original List:{original_list}\")\n",
    "print(f\"Cloned List:{cloned_list}\")"
   ]
  },
  {
   "cell_type": "code",
   "execution_count": 25,
   "metadata": {},
   "outputs": [
    {
     "name": "stdout",
     "output_type": "stream",
     "text": [
      "Original List:[1, 2, 3, 4, 5]\n",
      "Cloned List:[1, 2, 3, 4, 5]\n"
     ]
    }
   ],
   "source": [
    "# 3.List comprehension\n",
    "original_list = [1, 2, 3, 4, 5]\n",
    "print(f\"Original List:{original_list}\")\n",
    "cloned_list = [i for i in original_list]\n",
    "print(f\"Cloned List:{cloned_list}\")"
   ]
  },
  {
   "cell_type": "code",
   "execution_count": 26,
   "metadata": {},
   "outputs": [
    {
     "name": "stdout",
     "output_type": "stream",
     "text": [
      "Original List:[1, 2, 3, 4, 5]\n",
      "Cloned List:[1, 2, 3, 4, 5]\n"
     ]
    }
   ],
   "source": [
    "# 4. Using copy()\n",
    "original_list = [1, 2, 3, 4, 5]\n",
    "print(f\"Original List:{original_list}\")\n",
    "cloned_list = original_list.copy()\n",
    "print(f\"Cloned List:{cloned_list}\")"
   ]
  },
  {
   "cell_type": "markdown",
   "metadata": {},
   "source": [
    "### **Program 52**\n",
    "#### **Write a Python Program to count occurrences of an element in a list.**"
   ]
  },
  {
   "cell_type": "code",
   "execution_count": 27,
   "metadata": {},
   "outputs": [
    {
     "name": "stdout",
     "output_type": "stream",
     "text": [
      "The given List is:[1, 2, 3, 4, 2, 5, 2, 3, 4, 6, 5]\n",
      "Element to count:2\n",
      "The element2 appears 3 times in list.\n"
     ]
    }
   ],
   "source": [
    "def count_occurences(l, element):\n",
    "    count = l.count(element)\n",
    "    return count\n",
    "\n",
    "my_list = [1, 2, 3, 4, 2, 5, 2, 3, 4, 6, 5]\n",
    "print(f\"The given List is:{my_list}\")\n",
    "element_to_count = 2\n",
    "print(f\"Element to count:{element_to_count}\")\n",
    "\n",
    "print(f\"The element{element_to_count} appears {count_occurences(my_list, element_to_count)} times in list.\")"
   ]
  },
  {
   "cell_type": "code",
   "execution_count": 30,
   "metadata": {},
   "outputs": [
    {
     "name": "stdout",
     "output_type": "stream",
     "text": [
      "The element 2 appears 3 times in list.\n"
     ]
    }
   ],
   "source": [
    "count = []\n",
    "for i in my_list:\n",
    "    if i == element_to_count:\n",
    "        count.append(element_to_count)\n",
    "print(f\"The element {element_to_count} appears {len(count)} times in list.\")\n"
   ]
  },
  {
   "cell_type": "markdown",
   "metadata": {},
   "source": [
    "### **Program 53**\n",
    "#### **Write a Python program to find words which are greater than given length k.**"
   ]
  },
  {
   "cell_type": "code",
   "execution_count": 31,
   "metadata": {},
   "outputs": [
    {
     "name": "stdout",
     "output_type": "stream",
     "text": [
      "The given word list is:['apple', 'banana', 'cherry', 'date', 'elderberry', 'dragon', 'fruit']\n",
      "Length of words is:5\n",
      "Long words are:['banana', 'cherry', 'elderberry', 'dragon']\n"
     ]
    }
   ],
   "source": [
    "def find_words(words, k):\n",
    "    # create an empty list to store words greater than k\n",
    "    result = []\n",
    "\n",
    "    # Iterate through each word in the list\n",
    "    for i in words:\n",
    "        if len(i) > k:\n",
    "            result.append(i)\n",
    "    return result\n",
    "\n",
    "word_list = ['apple', 'banana', 'cherry', 'date', 'elderberry', 'dragon', 'fruit']\n",
    "print(f\"The given word list is:{word_list}\")\n",
    "k = 5\n",
    "print(f\"Length of words is:{k}\")\n",
    "print(f\"Long words are:{find_words(word_list, k)}\")"
   ]
  },
  {
   "cell_type": "markdown",
   "metadata": {},
   "source": [
    "### **Program 54**\n",
    "#### **Write a Python Program for removing ith character from as string.**"
   ]
  },
  {
   "cell_type": "code",
   "execution_count": 32,
   "metadata": {},
   "outputs": [
    {
     "name": "stdout",
     "output_type": "stream",
     "text": [
      "The given input string is: Hello, wWorld!\n",
      "Index of the character to remove: 7\n",
      "String after removing 7th character: Hello, World!\n"
     ]
    }
   ],
   "source": [
    "def remove_char(input_str, i):\n",
    "    # check if i is a valid index\n",
    "    if i < 0 or i >= len(input_str):\n",
    "        print(f\"Invalid index {i}. The string remains unchanged.\")\n",
    "        return input_str\n",
    "    \n",
    "    result_str = input_str[:i] + input_str[i+1:]\n",
    "\n",
    "    return result_str\n",
    "\n",
    "input_str = \"Hello, wWorld!\"\n",
    "i = 7 \n",
    "print(f\"The given input string is: {input_str}\")\n",
    "print(f\"Index of the character to remove: {i}\")\n",
    "print(f\"String after removing {i}th character: {remove_char(input_str, i)}\")"
   ]
  },
  {
   "cell_type": "markdown",
   "metadata": {},
   "source": [
    "### **Program 55**\n",
    "#### **Write a Python Program to split and join a string.**"
   ]
  },
  {
   "cell_type": "code",
   "execution_count": 35,
   "metadata": {},
   "outputs": [
    {
     "name": "stdout",
     "output_type": "stream",
     "text": [
      "The given string is: \n",
      "Python Program to split and join a string.\n",
      "The word list of string: \n",
      "['Python', 'Program', 'to', 'split', 'and', 'join', 'a', 'string.']\n",
      "Specify the seperator between words:  \n",
      "The output string is: Python Program to split and join a string.\n"
     ]
    }
   ],
   "source": [
    "# split a string into a list of words\n",
    "input_str = \"Python Program to split and join a string.\"\n",
    "print(f\"The given string is: \\n{input_str}\")\n",
    "\n",
    "word_list = input_str.split()\n",
    "print(f\"The word list of string: \\n{word_list}\")\n",
    "\n",
    "# join the list of words into a string\n",
    "seperator = \" \"\n",
    "print(f\"Specify the seperator between words: {seperator}\")\n",
    "\n",
    "output_str = seperator.join(word_list)\n",
    "print(f\"The output string is: {output_str}\")"
   ]
  },
  {
   "cell_type": "markdown",
   "metadata": {},
   "source": [
    "### **Program 56**\n",
    "#### **Write a Python program to check if a given string is binary or not.**"
   ]
  },
  {
   "cell_type": "code",
   "execution_count": 36,
   "metadata": {},
   "outputs": [
    {
     "name": "stdout",
     "output_type": "stream",
     "text": [
      "The given string is:1001110\n",
      "1001110 is a binary string.\n"
     ]
    }
   ],
   "source": [
    "def is_binary_str(input_str):\n",
    "    for i in input_str:\n",
    "        if i not in '01':\n",
    "            return False\n",
    "    return True\n",
    "\n",
    "input_str = \"1001110\"\n",
    "print(f\"The given string is:{input_str}\")\n",
    "\n",
    "if is_binary_str(input_str):\n",
    "    print(f\"{input_str} is a binary string.\")\n",
    "else:\n",
    "    print(f\"{input_str} is not a binary string.\")"
   ]
  },
  {
   "cell_type": "markdown",
   "metadata": {},
   "source": [
    "### **Program 57**\n",
    "#### **Write a Python program to find uncommon words from two string.**"
   ]
  },
  {
   "cell_type": "code",
   "execution_count": 38,
   "metadata": {},
   "outputs": [
    {
     "name": "stdout",
     "output_type": "stream",
     "text": [
      "First string: This is the first string.\n",
      "Second string: This is the second string.\n",
      "Uncommon words: ['second', 'first']\n"
     ]
    }
   ],
   "source": [
    "def uncommon_words(str1, str2):\n",
    "\n",
    "    # split the strings into words and convert them to sets\n",
    "    words1 = set(str1.split())\n",
    "    words2 = set(str2.split())\n",
    "\n",
    "    # Find uncommon words by taking the set difference\n",
    "    uncommon_words_set = words1.symmetric_difference(words2)\n",
    "\n",
    "    # convert the set of uncommon words back to a list\n",
    "    uncommon_words_list = list(uncommon_words_set)\n",
    "\n",
    "    return uncommon_words_list\n",
    "\n",
    "string1 = \"This is the first string.\"\n",
    "string2 = \"This is the second string.\"\n",
    "\n",
    "print(f\"First string: {string1}\")\n",
    "print(f\"Second string: {string2}\")\n",
    "\n",
    "# find uncommon words between two strings\n",
    "print(f\"Uncommon words: {uncommon_words(string1, string2)}\")"
   ]
  },
  {
   "cell_type": "markdown",
   "metadata": {},
   "source": [
    "### **Program 58**\n",
    "#### **Write a Python program to find all duplicate characters in string.**"
   ]
  },
  {
   "cell_type": "code",
   "execution_count": 40,
   "metadata": {},
   "outputs": [
    {
     "name": "stdout",
     "output_type": "stream",
     "text": [
      "The given string is: devke govind\n",
      "Duplicate characters: ['d', 'e', 'v']\n"
     ]
    }
   ],
   "source": [
    "def find_duplicates(input_str):\n",
    "\n",
    "    # create an empty dictionary to store character counts\n",
    "    char_count = {}\n",
    "\n",
    "    # Initialize a list to store duplicate characters\n",
    "    duplicates = []\n",
    "\n",
    "    for i in input_str:\n",
    "\n",
    "        # If the character is already in the dictionary, increment its\n",
    "        if i in char_count:\n",
    "            char_count[i] += 1\n",
    "        else:\n",
    "            char_count[i] = 1\n",
    "\n",
    "\n",
    "    for i, count in char_count.items():\n",
    "        if count > 1:\n",
    "            duplicates.append(i)\n",
    "\n",
    "    return duplicates\n",
    "\n",
    "\n",
    "input_string = \"devke govind\"\n",
    "print(f\"The given string is: {input_string}\")\n",
    "\n",
    "print(f\"Duplicate characters: {find_duplicates(input_string)}\")"
   ]
  },
  {
   "cell_type": "markdown",
   "metadata": {},
   "source": [
    "### **Program 59**\n",
    "#### **Write a Python program to check if a string contains any special character.**"
   ]
  },
  {
   "cell_type": "code",
   "execution_count": 43,
   "metadata": {},
   "outputs": [
    {
     "name": "stdout",
     "output_type": "stream",
     "text": [
      "Enter a string:  \"Hello, World!\"\n",
      "The given string  \"Hello, World!\" contains special character.\n"
     ]
    }
   ],
   "source": [
    "import re\n",
    "\n",
    "def check_special_char(in_str):\n",
    "\n",
    "    # Define a regular expression pattern to match special characters\n",
    "    pattern = r'[!@#$%^&*()_+{}\\[\\]:;<>,.?~\\\\\\/\\'\"-=]'\n",
    "\n",
    "    # Use re.search to find a match in the input string\n",
    "    if re.search(pattern, in_str):\n",
    "        return True\n",
    "    else:\n",
    "        return False\n",
    "    \n",
    "input_string = str(input(\"Enter a string: \"))\n",
    "print(f\"Enter a string: {input_string}\")\n",
    "\n",
    "# Check if the string contains any special charater\n",
    "contains_special = check_special_char(input_string)\n",
    "\n",
    "if contains_special:\n",
    "    print(f\"The given string {input_string} contains special character.\")\n",
    "else:\n",
    "    print(f\"The given string {input_string} is not contains any special characters.\")"
   ]
  },
  {
   "cell_type": "markdown",
   "metadata": {},
   "source": [
    "### **Program 60**\n",
    "#### **Write a Python Program to Extract Unique dictionary values.**"
   ]
  },
  {
   "cell_type": "code",
   "execution_count": 44,
   "metadata": {},
   "outputs": [
    {
     "name": "stdout",
     "output_type": "stream",
     "text": [
      "The given dictionary is: {'a': 10, 'b': 20, 'c': 10, 'd': 30, 'e': 20}\n",
      "Unique Values in the dictionary is: [10, 20, 30]\n"
     ]
    }
   ],
   "source": [
    "my_dict = {\n",
    "    'a':10,\n",
    "    'b':20,\n",
    "    'c':10,\n",
    "    'd':30,\n",
    "    'e':20\n",
    "}\n",
    "print(f\"The given dictionary is: {my_dict}\")\n",
    "uni_val = set()\n",
    "\n",
    "for i in my_dict.values():\n",
    "    uni_val.add(i)\n",
    "\n",
    "# convert the set of unique values back to a list\n",
    "unique_values_list = list(uni_val)\n",
    "\n",
    "print(f\"Unique Values in the dictionary is: {unique_values_list}\")\n"
   ]
  },
  {
   "cell_type": "markdown",
   "metadata": {},
   "source": [
    "### **Program 61**\n",
    "#### **Write a Python program to find the sum of all items in a dictionary**"
   ]
  },
  {
   "cell_type": "code",
   "execution_count": 45,
   "metadata": {},
   "outputs": [
    {
     "name": "stdout",
     "output_type": "stream",
     "text": [
      "The dictionary: {'a': 10, 'b': 20, 'c': 30, 'd': 40, 'e': 50}\n",
      "Sum of all items in the dictionary: 150\n"
     ]
    }
   ],
   "source": [
    "my_dict = {\n",
    "    'a':10,\n",
    "    'b':20,\n",
    "    'c':30,\n",
    "    'd':40,\n",
    "    'e':50\n",
    "}\n",
    "print(f\"The dictionary: {my_dict}\")\n",
    "\n",
    "total_sum = 0\n",
    "\n",
    "for i in my_dict.values():\n",
    "    total_sum += i\n",
    "\n",
    "print(f\"Sum of all items in the dictionary: {total_sum}\")"
   ]
  },
  {
   "cell_type": "markdown",
   "metadata": {},
   "source": [
    "### **Program 62**\n",
    "#### **Write a Python program to Merging two dictionaries**"
   ]
  },
  {
   "cell_type": "code",
   "execution_count": 46,
   "metadata": {},
   "outputs": [
    {
     "name": "stdout",
     "output_type": "stream",
     "text": [
      "First dictionary: {'a': 1, 'b': 2}\n",
      "Second dictionary:{'c': 3, 'd': 4}\n",
      "Merged Dictionary: {'a': 1, 'b': 2, 'c': 3, 'd': 4}\n"
     ]
    }
   ],
   "source": [
    "# 1. Using the update() method\n",
    "\n",
    "dict1 = {'a':1, 'b':2}\n",
    "dict2 = {'c':3, 'd':4}\n",
    "\n",
    "print(f\"First dictionary: {dict1}\")\n",
    "print(f\"Second dictionary:{dict2}\")\n",
    "\n",
    "dict1.update(dict2)\n",
    "\n",
    "print(f\"Merged Dictionary: {dict1}\")"
   ]
  },
  {
   "cell_type": "code",
   "execution_count": 47,
   "metadata": {},
   "outputs": [
    {
     "name": "stdout",
     "output_type": "stream",
     "text": [
      "First Dictionary: {'a': 1, 'b': 2}\n",
      "Second Dictionary: {'c': 3, 'd': 4}\n",
      "Merged Dictionary: {'a': 1, 'b': 2, 'c': 3, 'd': 4}\n"
     ]
    }
   ],
   "source": [
    "# 2. Using dictionary unpacking\\\n",
    "\n",
    "dict1 = {'a':1, \"b\":2}\n",
    "dict2 = {'c':3, 'd':4}\n",
    "\n",
    "print(f\"First Dictionary: {dict1}\")\n",
    "print(f\"Second Dictionary: {dict2}\")\n",
    "\n",
    "merged_dict = {**dict1, **dict2}\n",
    "\n",
    "print(f\"Merged Dictionary: {merged_dict}\")"
   ]
  },
  {
   "cell_type": "markdown",
   "metadata": {},
   "source": [
    "### **Program 63**\n",
    "#### **Write a Python program to convert key-values list to flat dictionary.**"
   ]
  },
  {
   "cell_type": "code",
   "execution_count": 49,
   "metadata": {},
   "outputs": [
    {
     "name": "stdout",
     "output_type": "stream",
     "text": [
      "The given key_values_list: [('a', 1), ('b', 2), ('c', 3), ('d', 4)]\n",
      "Flat Dictionary: {'a': 1, 'b': 2, 'c': 3, 'd': 4}\n"
     ]
    }
   ],
   "source": [
    "key_values_list = [('a', 1), ('b', 2), ('c', 3), ('d', 4)]\n",
    "print(f\"The given key_values_list: {key_values_list}\")\n",
    "flat_dict = {}\n",
    "\n",
    "for key, value in key_values_list:\n",
    "    flat_dict[key] = value\n",
    "\n",
    "print(f\"Flat Dictionary: {flat_dict}\")"
   ]
  },
  {
   "cell_type": "markdown",
   "metadata": {},
   "source": [
    "### **Program 64**\n",
    "#### **Write a Python program to insertion at the begining in OrderedDict.**"
   ]
  },
  {
   "cell_type": "code",
   "execution_count": 50,
   "metadata": {},
   "outputs": [
    {
     "name": "stdout",
     "output_type": "stream",
     "text": [
      "Updated Orderdict: OrderedDict([('a', 1), ('b', 2), ('c', 3), ('d', 4)])\n"
     ]
    }
   ],
   "source": [
    "from collections import OrderedDict\n",
    "\n",
    "#create an orderedDict\n",
    "ordered_dict = OrderedDict([('b',2),('c',3),('d',4)])\n",
    "\n",
    "# Item to insert at the begining\n",
    "new_item = ('a', 1)\n",
    "\n",
    "new_ordered_dict = OrderedDict([new_item])\n",
    "\n",
    "new_ordered_dict.update(ordered_dict)\n",
    "\n",
    "print(f\"Updated Orderdict: {new_ordered_dict}\")\n"
   ]
  },
  {
   "cell_type": "markdown",
   "metadata": {},
   "source": [
    "### **Program 65**\n",
    "#### **Write a Python program to sort Python Dictionaries by key or value.**"
   ]
  },
  {
   "cell_type": "code",
   "execution_count": 65,
   "metadata": {},
   "outputs": [
    {
     "name": "stdout",
     "output_type": "stream",
     "text": [
      "Sample Dict: {'apple': 3, 'banana': 1, 'cherry': 2, 'date': 4}\n",
      "Sorted Dictionary: {'apple': 3, 'banana': 1, 'cherry': 2, 'date': 4}\n",
      "apple:3\n",
      "banana:1\n",
      "cherry:2\n",
      "date:4\n"
     ]
    }
   ],
   "source": [
    "# Sorted By Keys\n",
    "\n",
    "sample_dict = {'apple':3, 'banana':1, 'cherry':2, 'date':4}\n",
    "print(f\"Sample Dict: {sample_dict}\")\n",
    "\n",
    "sorted_dict_by_keys = dict(sorted(sample_dict.items()))\n",
    "print(f\"Sorted Dictionary: {sorted_dict_by_keys}\")\n",
    "\n",
    "for key, value in sorted_dict_by_keys.items():\n",
    "    print(f\"{key}:{value}\")"
   ]
  },
  {
   "cell_type": "code",
   "execution_count": 67,
   "metadata": {},
   "outputs": [
    {
     "name": "stdout",
     "output_type": "stream",
     "text": [
      "\n",
      "Sorted by Value:\n",
      "{'banana': 1, 'cherry': 2, 'apple': 3, 'date': 4}\n"
     ]
    }
   ],
   "source": [
    "# Sorted By Values\n",
    "# Sample dictionary\n",
    "sample_dict = {'apple': 3, 'banana': 1, 'cherry': 2, 'date': 4}\n",
    "\n",
    "# Sorting by value\n",
    "sorted_dict_by_value = dict(sorted(sample_dict.items(), key=lambda item: item[1]))\n",
    "\n",
    "# Display the sorted dictionary by value\n",
    "print(\"\\nSorted by Value:\")\n",
    "print(sorted_dict_by_value)\n"
   ]
  },
  {
   "cell_type": "markdown",
   "metadata": {},
   "source": [
    "### **Program 66**\n",
    "#### **Write a Python program that calculates and prints the value according to the given formula:**\n",
    "\n",
    "$Q$ = $Square root of$ $2 X C X D / H$\n",
    "\n",
    "Following are the fixed values of C and H:\n",
    "C = 50\n",
    "H = 30\n",
    "D is variable whose values should be input to your program in a comma-seperated sequence.\n",
    "\n",
    "-Ex: Let us assume the following comma seperated input sequence is given to the program: 100, 150, 180\n",
    "\n",
    "The output of the program should be:\n",
    "18, 22, 24"
   ]
  },
  {
   "cell_type": "code",
   "execution_count": 72,
   "metadata": {},
   "outputs": [
    {
     "name": "stdout",
     "output_type": "stream",
     "text": [
      "The output is: [18, 22, 24]\n"
     ]
    }
   ],
   "source": [
    "import math\n",
    "\n",
    "def calculate_(C, H, lst):\n",
    "\n",
    "    output = []\n",
    "\n",
    "    for i in lst:\n",
    "        q = int(math.sqrt((2 * C * i)/ (H)))\n",
    "        output.append(q)\n",
    "\n",
    "    return output\n",
    "\n",
    "\n",
    "C = 50\n",
    "H = 30\n",
    "lst = [100, 150, 180]\n",
    "\n",
    "print(f\"The output is: {calculate_(C, H, lst)}\")"
   ]
  },
  {
   "cell_type": "code",
   "execution_count": 81,
   "metadata": {},
   "outputs": [
    {
     "name": "stdout",
     "output_type": "stream",
     "text": [
      "18,22,24\n"
     ]
    }
   ],
   "source": [
    "import math\n",
    "\n",
    "# fixed values\n",
    "\n",
    "C = 50\n",
    "H = 30\n",
    "\n",
    "# function to calculate Q\n",
    "def calculate_Q(D):\n",
    "    return int(math.sqrt((2*C*D)/H))\n",
    "\n",
    "# Input comma-separated sequence of D values\n",
    "input_sequence = input(\"Enter comma-separated values of D: \")\n",
    "D_values = [int(value) for value in input_sequence.split(',')]\n",
    "\n",
    "# calculate and print Q for each D values\n",
    "result = [calculate_Q(D) for D in D_values]\n",
    "print(','.join(map(str, result)))\n",
    "\n"
   ]
  },
  {
   "cell_type": "markdown",
   "metadata": {},
   "source": [
    "### **Program 67**\n",
    "#### **Write a program which takes 2 digits, X,Y as input and generates a 2-dimensional array. The element value in the i-th row and j-th column of the array should be i*j.**\n",
    "\n",
    "*Note: i=0,1.., X-1; j=0,1,¡Y-1.*\n",
    "\n",
    "Example\n",
    "Suppose the following inputs are given to the program:\n",
    "3,5\n",
    "Then, the output of the program should be:\n",
    "[[0, 0, 0, 0, 0], [0, 1, 2, 3, 4], [0, 2, 4, 6, 8]]"
   ]
  },
  {
   "cell_type": "code",
   "execution_count": 89,
   "metadata": {},
   "outputs": [
    {
     "name": "stdout",
     "output_type": "stream",
     "text": [
      "Enter two digits(X, Y).split(','): (3, 5)\n",
      "Array: \n",
      "[[0, 0, 0, 0, 0], [0, 0, 0, 0, 0], [0, 0, 0, 0, 0]]\n",
      "[0, 0, 0, 0, 0]\n",
      "[0, 1, 2, 3, 4]\n",
      "[0, 2, 4, 6, 8]\n"
     ]
    }
   ],
   "source": [
    "# Input two digits, X and Y\n",
    "X, Y = map(int, input(\"Enter two digits(X, Y): \").split(','))\n",
    "print(f\"Enter two digits(X, Y).split(','): {X, Y}\")\n",
    "\n",
    "# Initiate a 2D array filled with zeros\n",
    "array = [[0 for j in range(Y)] for i in range(X)]\n",
    "print(f\"Array: \\n{array}\")\n",
    "\n",
    "# Fill the array with values i*j\n",
    "for i in range(X):\n",
    "    for j in range(Y):\n",
    "        array[i][j] = i * j\n",
    "\n",
    "for row in array:\n",
    "    print(row)"
   ]
  },
  {
   "cell_type": "markdown",
   "metadata": {},
   "source": [
    "### **Program 68**\n",
    "#### **Write a program that accepts a comma separated sequence of words as input and prints the words in a comma-separated sequence after sorting them alphabetically. Suppose the following input is supplied to the program:**\n",
    "\n",
    "without, hello, bag, world\n",
    "\n",
    "then, the output should be:\n",
    "\n",
    "bag, hello, without, world"
   ]
  },
  {
   "cell_type": "code",
   "execution_count": 90,
   "metadata": {},
   "outputs": [
    {
     "name": "stdout",
     "output_type": "stream",
     "text": [
      "Enter a comma-separated sequence of words:  without, hello, bag, world\n",
      "After splitting input: [' without', ' hello', ' bag', ' world']\n",
      "Sorted Words: [' bag', ' hello', ' without', ' world']\n",
      "Sorted Words:  bag, hello, without, world\n"
     ]
    }
   ],
   "source": [
    "# Accept input from the user\n",
    "input_sequence = input(\"Enter a comma-separated sequence of words: \")\n",
    "print(f\"Enter a comma-separated sequence of words: {input_sequence}\")\n",
    "\n",
    "# split the input into a list of words\n",
    "words = input_sequence.split(',')\n",
    "print(f\"After splitting input: {words}\")\n",
    "\n",
    "# sorts the words alphabetically\n",
    "sorted_words = sorted(words)\n",
    "print(f\"Sorted Words: {sorted_words}\")\n",
    "\n",
    "# Join the sorted words into a comma-separated sequence\n",
    "sorted_sequence = ','.join(sorted_words)\n",
    "print(f\"Sorted Words: {sorted_sequence}\")"
   ]
  },
  {
   "cell_type": "markdown",
   "metadata": {},
   "source": [
    "### **Program 69**\n",
    "#### **Write a program that accepts a sequence of whitespace separated words as input and prints the words after removing all duplicate words and sorting them alphanumerically. Suppose the following input is supplied to the program:**\n",
    "\n",
    "hello world and practice makes perfect and hello world again\n",
    "\n",
    "Then, the output should be:\n",
    "\n",
    "again and hello makes perfect practice world"
   ]
  },
  {
   "cell_type": "code",
   "execution_count": 3,
   "metadata": {},
   "outputs": [
    {
     "name": "stdout",
     "output_type": "stream",
     "text": [
      "Enter a sequence of whitespace-separated words:  hello world and practice makes perfect and hello world again\n",
      "Splitting Input:{'again', 'world', 'practice', 'makes', 'hello', 'and', 'perfect'}\n",
      "Sorted Words: ['again', 'and', 'hello', 'makes', 'perfect', 'practice', 'world']\n",
      "Result: again and hello makes perfect practice world\n"
     ]
    }
   ],
   "source": [
    "# accept input from the user\n",
    "input_sequence = input(\"Enter a sequence of whitespace-separated words: \")\n",
    "print(f\"Enter a sequence of whitespace-separated words: {input_sequence}\")\n",
    "\n",
    "# split the input into words and convert it into a set to remove duplicate\n",
    "words = set(input_sequence.split())\n",
    "print(f\"Splitting Input:{words}\")\n",
    "\n",
    "# Sort the unique words alphanumerically\n",
    "sorted_words = sorted(words)\n",
    "print(f\"Sorted Words: {sorted_words}\")\n",
    "\n",
    "# join the sorted words into a string with whitespace separation\n",
    "result = ' '.join(sorted_words)\n",
    "\n",
    "print(f\"Result: {result}\")\n"
   ]
  },
  {
   "cell_type": "markdown",
   "metadata": {},
   "source": [
    "### **Program 69**\n",
    "#### **write a program that accepts a sentence and calculate the number of letters and digits. Suppose the following input is supplied to the program:**\n",
    "\n",
    "hello world! 123\n",
    "\n",
    "Then, the output should be:\n",
    "\n",
    "LETTERS 10\n",
    "\n",
    "DIGITS 3"
   ]
  },
  {
   "cell_type": "code",
   "execution_count": 5,
   "metadata": {},
   "outputs": [
    {
     "name": "stdout",
     "output_type": "stream",
     "text": [
      "The given string is: hello world! 123\n",
      "LETTERS, 10\n",
      "DIGITS, 6\n"
     ]
    }
   ],
   "source": [
    "sentence = input(\"Enter a sentence: \")\n",
    "print(f\"The given string is: {sentence}\")\n",
    "\n",
    "# Initialize counters for letters and digits\n",
    "letter_count = 0\n",
    "digit_count = 0\n",
    "\n",
    "for char in sentence:\n",
    "    if char.isalpha():\n",
    "        letter_count += 1\n",
    "    else:\n",
    "        digit_count += 1\n",
    "\n",
    "print(f\"LETTERS, {letter_count}\")\n",
    "print(f\"DIGITS, {digit_count}\")"
   ]
  },
  {
   "cell_type": "markdown",
   "metadata": {},
   "source": [
    "### **Program 70**\n",
    "#### **A website requires the users to input username and password to register.program to check the validity of password input by users. Following are the criteria for checking the password:**\n",
    "\n",
    "**1. At least 1 letter between [a-z]**\n",
    "**2. At least 1 number between [0-9]**\n",
    "**3. At least 1 letter between [A-Z]**\n",
    "**4. At least 1 character from [$#@]**\n",
    "**5. Minimum length of transaction password: 6**\n",
    "**6. Maximum length of transaction password: 12**\n",
    "\n",
    "**Your program should accept a sequence of comma separated passwords and will check them according to the above criteria. Passwords that match the criteria are to\n",
    "be printed, each separated by a comma.**\n",
    "\n",
    "**Example:If the following passwords are given as input to the program:**\n",
    "\n",
    "**ABd1234@1,a F1#,2w3E*,2We3345**\n",
    "\n",
    "**Then, the output of the program should be:**\n",
    "**ABd1234@1**\n"
   ]
  },
  {
   "cell_type": "code",
   "execution_count": 6,
   "metadata": {},
   "outputs": [
    {
     "name": "stdout",
     "output_type": "stream",
     "text": [
      "Enter passwords separated by commas: ['ABd1234@1', 'a F1#', '2w3E*', '2We3345']\n",
      "ABd1234@1\n"
     ]
    }
   ],
   "source": [
    "import re\n",
    "\n",
    "def is_valid_password(password):\n",
    "\n",
    "    # Check the length of the password\n",
    "    if 6 <= len(password) <= 12:\n",
    "\n",
    "        # check if the password matches all the criteria using regular\n",
    "        if re.match(r\"^(?=.*[a-z])(?=.*[A-Z])(?=.*[0-9])(?=.*[$#@])\", password):\n",
    "            return True\n",
    "    return False\n",
    "\n",
    "# Accepts input from the user as comma-separated passwords\n",
    "passwords = input(\"Enter passwords separated by commas: \").split(',')\n",
    "print(f\"Enter passwords separated by commas: {passwords}\")\n",
    "\n",
    "# Initialize a list to store valid passwords\n",
    "valid_password = []\n",
    "\n",
    "for psw in passwords:\n",
    "    if is_valid_password(psw):\n",
    "        valid_password.append(psw)\n",
    "print(f\"{','.join(valid_password)}\")"
   ]
  },
  {
   "cell_type": "markdown",
   "metadata": {},
   "source": [
    "### **Program 71**\n",
    "#### **Define a class with generator which can iterate the numbers, which are divisible by 7, between a given range 0 and n.**"
   ]
  },
  {
   "cell_type": "code",
   "execution_count": 4,
   "metadata": {},
   "outputs": [
    {
     "name": "stdout",
     "output_type": "stream",
     "text": [
      "Enter your desired range: 50\n",
      "0\n",
      "7\n",
      "14\n",
      "21\n",
      "28\n",
      "35\n",
      "42\n",
      "49\n"
     ]
    }
   ],
   "source": [
    "class DivisibleBySeven:\n",
    "    def __init__(self, n):\n",
    "        self.n = n \n",
    "    \n",
    "    def generate_divisible_by_seven(self):\n",
    "        for num in range(self.n + 1):\n",
    "            if num % 7 == 0:\n",
    "                yield num\n",
    "\n",
    "n = int(input(\"Enter your desired range: \"))\n",
    "print(f\"Enter your desired range: {n}\")\n",
    "\n",
    "divisible_by_seven_generator = DivisibleBySeven(n).generate_divisible_by_seven()\n",
    "\n",
    "for num in divisible_by_seven_generator:\n",
    "    print(num)"
   ]
  },
  {
   "cell_type": "markdown",
   "metadata": {},
   "source": [
    "### **Program 72**\n",
    "#### **Write a program to compute the frequency of the words from the input. The output should after sorting the key alphanumerically. Suppose the following input is supplied to the program:**\n",
    "\n",
    "**New to Python or choosing between Python 2 and Python 3? Read Python 2 or Python 3**\n",
    "\n",
    "**Then, the output should be:**\n",
    "- 2:2\n",
    "- 3:1\n",
    "- 3?:1\n",
    "- New:1\n",
    "- Python:5\n",
    "- Read:1\n",
    "- and:1\n",
    "- between:1\n",
    "- choosing:1\n",
    "- or:2\n",
    "- to:1\n"
   ]
  },
  {
   "cell_type": "code",
   "execution_count": 6,
   "metadata": {},
   "outputs": [
    {
     "name": "stdout",
     "output_type": "stream",
     "text": [
      "Enter a sentence: New to Python or choosing between Python 2 and Python 3? Read Python 2 or Python 3.\n",
      "After splitting the string: ['New', 'to', 'Python', 'or', 'choosing', 'between', 'Python', '2', 'and', 'Python', '3?', 'Read', 'Python', '2', 'or', 'Python', '3.']\n",
      "2:2\n",
      "3:2\n",
      "and:1\n",
      "between:1\n",
      "choosing:1\n",
      "new:1\n",
      "or:2\n",
      "python:5\n",
      "read:1\n",
      "to:1\n"
     ]
    }
   ],
   "source": [
    "input_sentence = input(\"Enter a sentence: \")\n",
    "print(f\"Enter a sentence: {input_sentence}\")\n",
    "\n",
    "# split the sentence into words\n",
    "words = input_sentence.split()\n",
    "print(f\"After splitting the string: {words}\")\n",
    "\n",
    "# create a dictionary to store word frequencies\n",
    "word_freq = {}\n",
    "\n",
    "# count word frequencies\n",
    "for word in words:\n",
    "    # Remove punctuation (., ?) from the word\n",
    "    word = word.strip('.,?')\n",
    "\n",
    "    # convert the word to lowercase to ensure case-insensitive\n",
    "    word = word.lower()\n",
    "\n",
    "    # Update the word frequency in the dictionary\n",
    "    if word in word_freq:\n",
    "        word_freq[word] += 1\n",
    "    else:\n",
    "        word_freq[word] = 1\n",
    "\n",
    "# sort the words alphanumerically\n",
    "sorted_words = sorted(word_freq.items())\n",
    "\n",
    "for word, frequency in sorted_words:\n",
    "    print(f\"{word}:{frequency}\")"
   ]
  },
  {
   "cell_type": "markdown",
   "metadata": {},
   "source": [
    "### **Program 73**\n",
    "#### **Define a class person and its two child classes: Male and Female.All classes have a method \"getGender\" which can print \"Male\" for Male class and \"Female\" for Female class.**"
   ]
  },
  {
   "cell_type": "code",
   "execution_count": 7,
   "metadata": {},
   "outputs": [],
   "source": [
    "class Person:\n",
    "    def getGender(self):\n",
    "        return \"Unknown\"\n",
    "    \n",
    "class Male(Person):\n",
    "    def getGender(self):\n",
    "        return \"Male\"\n",
    "\n",
    "class Female(Person):\n",
    "    def getGender(self):\n",
    "        return \"Female\""
   ]
  },
  {
   "cell_type": "code",
   "execution_count": 8,
   "metadata": {},
   "outputs": [
    {
     "name": "stdout",
     "output_type": "stream",
     "text": [
      "Unknown\n",
      "Male\n",
      "Female\n"
     ]
    }
   ],
   "source": [
    "person = Person()\n",
    "male = Male()\n",
    "female = Female()\n",
    "\n",
    "print(person.getGender())\n",
    "print(male.getGender())\n",
    "print(female.getGender())"
   ]
  },
  {
   "cell_type": "markdown",
   "metadata": {},
   "source": [
    "### **Program 74**\n",
    "#### **Please write a program to generate all sentences where subject is in [\"I\", \"You\"] and verbs is in [\"Play\", \"Love\"] and the object is in [\"Hockey\", \"Football\"].**"
   ]
  },
  {
   "cell_type": "code",
   "execution_count": 9,
   "metadata": {},
   "outputs": [
    {
     "name": "stdout",
     "output_type": "stream",
     "text": [
      "I Play Hockey.\n",
      "I Play Football.\n",
      "I Love Hockey.\n",
      "I Love Football.\n",
      "You Play Hockey.\n",
      "You Play Football.\n",
      "You Love Hockey.\n",
      "You Love Football.\n"
     ]
    }
   ],
   "source": [
    "subjects = [\"I\", \"You\"]\n",
    "verbs = [\"Play\", \"Love\"]\n",
    "objects = [\"Hockey\", \"Football\"]\n",
    "\n",
    "sentences = []\n",
    "\n",
    "for sub in subjects:\n",
    "    for vrb in verbs:\n",
    "        for obj in objects:\n",
    "            sentence = f\"{sub} {vrb} {obj}.\"\n",
    "            sentences.append(sentence)\n",
    "\n",
    "for sentence in sentences:\n",
    "    print(sentence)"
   ]
  },
  {
   "cell_type": "markdown",
   "metadata": {},
   "source": [
    "### **Program 75**\n",
    "#### **Please write a program to compress and decompress the string \"hello world!hello world!hello world!hello world!\".** "
   ]
  },
  {
   "cell_type": "code",
   "execution_count": 11,
   "metadata": {},
   "outputs": [
    {
     "name": "stdout",
     "output_type": "stream",
     "text": [
      "The given string is: hello world!hello world!hello world!hello world!\n",
      "The compressed string is: b'x\\x9c\\xcbH\\xcd\\xc9\\xc9W(\\xcf/\\xcaIQ\\xcc \\x82\\r\\x00\\xbd[\\x11\\xf5'\n",
      "The Decompressed string is: hello world!hello world!hello world!hello world!\n"
     ]
    }
   ],
   "source": [
    "import zlib\n",
    "\n",
    "string = \"hello world!hello world!hello world!hello world!\"\n",
    "print(f\"The given string is: {string}\")\n",
    "\n",
    "# compress the string\n",
    "compressed_string = zlib.compress(string.encode())\n",
    "print(f\"The compressed string is: {compressed_string}\")\n",
    "\n",
    "# Decompress the string\n",
    "decompressed_string = zlib.decompress(compressed_string).decode()\n",
    "print(f\"The Decompressed string is: {decompressed_string}\")"
   ]
  },
  {
   "cell_type": "markdown",
   "metadata": {},
   "source": [
    "### **Program 76**\n",
    "#### **Please write a program using generator to print the numbers which can be divisible by 5 and 7 between 0 and n comma separated form while n is input by console.**\n",
    "\n",
    "**Example:** if the following n is given as input to the program: 100\n",
    "\n",
    "then, the output of program should be:\n",
    "0, 35, 70"
   ]
  },
  {
   "cell_type": "code",
   "execution_count": 1,
   "metadata": {},
   "outputs": [],
   "source": [
    "def divisible_by_5_and_7(n):\n",
    "    for num in range(n+1):\n",
    "        if num % 5 == 0 and num % 7 == 0:\n",
    "            yield num"
   ]
  },
  {
   "cell_type": "code",
   "execution_count": 2,
   "metadata": {},
   "outputs": [
    {
     "name": "stdout",
     "output_type": "stream",
     "text": [
      "Enter a value for n: 100\n",
      "0,35,70\n"
     ]
    }
   ],
   "source": [
    "try:\n",
    "    n = int(input(\"Enter a value for n: \"))\n",
    "    print(f\"Enter a value for n: {n}\")\n",
    "    result = divisible_by_5_and_7(n)\n",
    "    print(','.join(map(str, result)))\n",
    "except ValueError:\n",
    "    print(\"Invalid input. Please enter a vlaid integer for n.\")"
   ]
  },
  {
   "cell_type": "markdown",
   "metadata": {},
   "source": [
    "### **Program 77**\n",
    "#### **Please write a program using generator to print the even numbers between 0 and n in comma separated form while n is input by console.**"
   ]
  },
  {
   "cell_type": "code",
   "execution_count": 3,
   "metadata": {},
   "outputs": [],
   "source": [
    "def even_numbers(n):\n",
    "    for num in range(n+1):\n",
    "        if num % 2 == 0:\n",
    "            yield num"
   ]
  },
  {
   "cell_type": "code",
   "execution_count": 4,
   "metadata": {},
   "outputs": [
    {
     "name": "stdout",
     "output_type": "stream",
     "text": [
      "Enter a value for n: 10\n",
      "0,2,4,6,8,10\n"
     ]
    }
   ],
   "source": [
    "try:\n",
    "    n = int(input(\"Enter a value for n: \"))\n",
    "    print(f\"Enter a value for n: {n}\")\n",
    "    result = even_numbers(n)\n",
    "    print(','.join(map(str, result)))\n",
    "except ValueError:\n",
    "    print(\"invalid input. Please enter a valid integer for n.\")"
   ]
  },
  {
   "cell_type": "markdown",
   "metadata": {},
   "source": [
    "### **Program 78**\n",
    "#### **The Fibonacci Sequence is computed based on the following formula:**\n",
    "\n",
    "f(n) = 0 if n = 0\n",
    "\n",
    "f(n) = 1 if n = 1\n",
    "\n",
    "f(n) = f(n-1) + f(n-2) if n > 1\n",
    "\n",
    "**Please write a program using list comprehension to print the Fibonacci Sequence in comma separated with a given n input by console.**\n",
    "\n",
    "*example: if the following n is given as input to the program: 8 then, the output of the program should be: 0, 1, 1, 2, 3, 5, 8, 13*"
   ]
  },
  {
   "cell_type": "code",
   "execution_count": 7,
   "metadata": {},
   "outputs": [],
   "source": [
    "def fibonacci(n):\n",
    "    sequence = [0, 1]\n",
    "    [sequence.append(sequence[-1] + sequence[-2]) for _ in range(2, n)]\n",
    "    return sequence"
   ]
  },
  {
   "cell_type": "code",
   "execution_count": 8,
   "metadata": {},
   "outputs": [
    {
     "name": "stdout",
     "output_type": "stream",
     "text": [
      "Enter a value for :8 \n",
      "0,1,1,2,3,5,8,13\n"
     ]
    }
   ],
   "source": [
    "try:\n",
    "    n = int(input(\"Enter a value for n: \"))\n",
    "    print(f\"Enter a value for :{n} \")\n",
    "    result = fibonacci(n)\n",
    "    print(','.join(map(str, result)))\n",
    "except ValueError:\n",
    "    print(\"Invalid Input. Please enter a valid intger for n.\")"
   ]
  },
  {
   "cell_type": "markdown",
   "metadata": {},
   "source": [
    "### **Program 79**\n",
    "#### **Assuming that we have some email address in the \"username@companyname.com(mailto:username@companyname.com)\" format, please write to print the username of a given email address. Both user names and company names are composed of letters only.**\n",
    "\n",
    "*Example:* If the following email address is given as input to the program:\n",
    "john@google.com(mailto:john@google.com)\n",
    "Then, the output of the program should be:\n",
    "john"
   ]
  },
  {
   "cell_type": "code",
   "execution_count": 10,
   "metadata": {},
   "outputs": [
    {
     "name": "stdout",
     "output_type": "stream",
     "text": [
      "The email is: john@google.com\n",
      "Parts: ['john', 'google.com']\n",
      "john\n"
     ]
    }
   ],
   "source": [
    "def extract_username(email):\n",
    "    # split the email address at '@' to separate the username and domain\n",
    "    parts = email.split('@')\n",
    "    print(f\"Parts: {parts}\")\n",
    "\n",
    "    # check if the email address has the expected format\n",
    "    if len(parts) == 2:\n",
    "        return parts[0]\n",
    "    else:\n",
    "        return \"invalid email format\"\n",
    "    \n",
    "\n",
    "try:\n",
    "    email = input(\"Enter an email address: \")\n",
    "    print(f\"The email is: {email}\")\n",
    "    username = extract_username(email)\n",
    "    print(username)\n",
    "except ValueError:\n",
    "    print(\"Invalid email\")\n",
    "\n"
   ]
  },
  {
   "cell_type": "markdown",
   "metadata": {},
   "source": [
    "### **Program 80**\n",
    "#### **Define a class named Shape and its subclass Square. The Square class has an init function which takes a length as argument. Both classes have an area function which can print the area of the shape where Shape's area is 0 by default.**"
   ]
  },
  {
   "cell_type": "code",
   "execution_count": 12,
   "metadata": {},
   "outputs": [
    {
     "name": "stdout",
     "output_type": "stream",
     "text": [
      "Shape area by default: 0\n"
     ]
    },
    {
     "ename": "AttributeError",
     "evalue": "'float' object has no attribute 'area'",
     "output_type": "error",
     "traceback": [
      "\u001b[1;31m---------------------------------------------------------------------------\u001b[0m",
      "\u001b[1;31mAttributeError\u001b[0m                            Traceback (most recent call last)",
      "Cell \u001b[1;32mIn[12], line 8\u001b[0m\n\u001b[0;32m      5\u001b[0m     \u001b[38;5;28;01mdef\u001b[39;00m \u001b[38;5;21marea\u001b[39m(\u001b[38;5;28mself\u001b[39m):\n\u001b[0;32m      6\u001b[0m         \u001b[38;5;28;01mreturn\u001b[39;00m \u001b[38;5;241m0\u001b[39m \u001b[38;5;66;03m# Shape's area is 0 by default\u001b[39;00m\n\u001b[1;32m----> 8\u001b[0m \u001b[38;5;28;01mclass\u001b[39;00m \u001b[38;5;21;01mSquare\u001b[39;00m(Shape):\n\u001b[0;32m      9\u001b[0m     \u001b[38;5;28;01mdef\u001b[39;00m \u001b[38;5;21m__init__\u001b[39m(\u001b[38;5;28mself\u001b[39m, length):\n\u001b[0;32m     10\u001b[0m         \u001b[38;5;28msuper\u001b[39m()\u001b[38;5;241m.\u001b[39m\u001b[38;5;21m__init__\u001b[39m() \u001b[38;5;66;03m# call the constructor of the parent class\u001b[39;00m\n",
      "Cell \u001b[1;32mIn[12], line 23\u001b[0m, in \u001b[0;36mSquare\u001b[1;34m()\u001b[0m\n\u001b[0;32m     21\u001b[0m \u001b[38;5;66;03m# calculate and print the area\u001b[39;00m\n\u001b[0;32m     22\u001b[0m \u001b[38;5;28mprint\u001b[39m(\u001b[38;5;124mf\u001b[39m\u001b[38;5;124m\"\u001b[39m\u001b[38;5;124mShape area by default: \u001b[39m\u001b[38;5;132;01m{\u001b[39;00mshape\u001b[38;5;241m.\u001b[39marea()\u001b[38;5;132;01m}\u001b[39;00m\u001b[38;5;124m\"\u001b[39m)\n\u001b[1;32m---> 23\u001b[0m \u001b[38;5;28mprint\u001b[39m(\u001b[38;5;124mf\u001b[39m\u001b[38;5;124m\"\u001b[39m\u001b[38;5;124mArea of the square: \u001b[39m\u001b[38;5;132;01m{\u001b[39;00msquare\u001b[38;5;241m.\u001b[39marea()\u001b[38;5;132;01m}\u001b[39;00m\u001b[38;5;124m\"\u001b[39m)\n",
      "\u001b[1;31mAttributeError\u001b[0m: 'float' object has no attribute 'area'"
     ]
    }
   ],
   "source": [
    "class Shape:\n",
    "    def __init__(self):\n",
    "        pass # default constructor, no need to initialize anything\n",
    "\n",
    "    def area(self):\n",
    "        return 0 # Shape's area is 0 by default\n",
    "    \n",
    "class Square(Shape):\n",
    "    def __init__(self, length):\n",
    "        super().__init__() # call the constructor of the parent class\n",
    "        self.length = length\n",
    "\n",
    "    def area(self):\n",
    "        return self.length ** 2 # calculate the area of the square\n",
    "    \n",
    "\n",
    "# Create instances of the classes\n",
    "    shape = Shape()\n",
    "    square = float(input(\"Enter the shape of the square: \"))\n",
    "\n",
    "    # calculate and print the area\n",
    "    print(f\"Shape area by default: {shape.area()}\")\n",
    "    print(f\"Area of the square: {square.area()}\")"
   ]
  },
  {
   "cell_type": "markdown",
   "metadata": {},
   "source": [
    "### **Program 81**\n",
    "#### **Write a function that stutters a word as if someone is struggling to read it. The first two letters are repeated twice an ellipsis ... and space after each, and then the word is pronounced with a question mark?**\n",
    "\n",
    "Examples\n",
    "stutter(\"incredible\") ➞ \"in... in... incredible?\"\n",
    "stutter(\"enthusiastic\") ➞ \"en... en... enthusiastic?\"\n",
    "stutter(\"outstanding\") ➞ \"ou... ou... outstanding?\"\n",
    "Hint :- Assume all input is in lower case and at least two characters long."
   ]
  },
  {
   "cell_type": "code",
   "execution_count": 13,
   "metadata": {},
   "outputs": [],
   "source": [
    "def stutter(word):\n",
    "    if len(word) < 2:\n",
    "        return \"Word must be at least two characters long\"\n",
    "    else:\n",
    "        stuttered_word = f\"{word[:2]}...{word[:2]}... {word}?\"\n",
    "        return stuttered_word"
   ]
  },
  {
   "cell_type": "code",
   "execution_count": 15,
   "metadata": {},
   "outputs": [
    {
     "name": "stdout",
     "output_type": "stream",
     "text": [
      "in...in... incredible?\n",
      "en...en... enthusiastic?\n",
      "ou...ou... outstanding?\n"
     ]
    }
   ],
   "source": [
    "print(stutter(\"incredible\"))\n",
    "print(stutter(\"enthusiastic\"))\n",
    "print(stutter(\"outstanding\"))"
   ]
  },
  {
   "cell_type": "markdown",
   "metadata": {},
   "source": [
    "### **Program 82**\n",
    "#### **Create a function that takes an angle in radians and returns the corresponding angle in degrees rounded to one decimal place.**\n",
    "\n",
    "Examples\n",
    "\n",
    "radians_to_degrees(1) ➞ 57.3\n",
    "\n",
    "radians_to_degrees(20) ➞ 1145.9\n",
    "\n",
    "radians_to_degrees(50) ➞ 2864.8"
   ]
  },
  {
   "cell_type": "code",
   "execution_count": 16,
   "metadata": {},
   "outputs": [],
   "source": [
    "import math\n",
    "\n",
    "def radians_to_degree(radians):\n",
    "    degrees = radians * (180 / math.pi)\n",
    "    return round(degrees, 1)"
   ]
  },
  {
   "cell_type": "code",
   "execution_count": 17,
   "metadata": {},
   "outputs": [
    {
     "name": "stdout",
     "output_type": "stream",
     "text": [
      "57.3\n",
      "1145.9\n",
      "2864.8\n"
     ]
    }
   ],
   "source": [
    "print(radians_to_degree(1))\n",
    "print(radians_to_degree(20))\n",
    "print(radians_to_degree(50))"
   ]
  },
  {
   "cell_type": "markdown",
   "metadata": {},
   "source": [
    "### **Program 83**\n",
    "#### **In this challenge, establish if a given integer num is Curzon number. if 1 plus 2 elevated to num is exactly divisible by 1 plus 2 multiplied by num, then num is a Curzon number. Given a non-negative integer num, implement a function that returns True if num is a Curzon number, or False otherwise.**\n",
    "\n",
    "is_curzon(5) ➞ True\n",
    "2 ** 5 + 1 = 33\n",
    "2 * 5 + 1 = 11\n",
    "33 is a multiple of 11 is_curzon(10) ➞ False\n",
    "2 ** 10 + 1 = 1025\n",
    "2 * 10 + 1 = 21\n",
    "1025 is not a multiple of 21 is_curzon(14) ➞ True\n",
    "2 ** 14 + 1 = 16385\n",
    "2 * 14 + 1 = 29\n",
    "16385 is a multiple of 29\n",
    "\n",
    "**Curzon Number**: It is defined based on specific mathematical relationship involving powers of 2. An integer 'n' is considered a Curzon number if it satisfies the following condition:\n",
    " \n",
    "*if (2^n + 1) is divisible by (2n + 1), then n is a Curzon number.*\n",
    "\n",
    "For example:\n",
    "If n = 5: 2^5 + 1 = 33, and 2*5 + 1 = 11. Since 33 is divisible by 11 (33 % 11 = 0), 5 is a\n",
    "Curzon number.\n",
    "If n = 10: 2^10 + 1 = 1025, and 2*10 + 1 = 21. 1025 is not divisible by 21, so 10 is not a\n",
    "Curzon number.\n",
    "Curzon numbers are a specific subset of integers with this unique mathematical property."
   ]
  },
  {
   "cell_type": "code",
   "execution_count": 6,
   "metadata": {},
   "outputs": [],
   "source": [
    "def is_curzon(num):\n",
    "    numerator = 2 ** num + 1\n",
    "    denominator = 2 * num + 1\n",
    "    if numerator % denominator == 0:\n",
    "        return f\"The given number {num} is Curzon Number.\"\n",
    "    else: \n",
    "        return f\"The given number {num} is not Curzon number.\""
   ]
  },
  {
   "cell_type": "code",
   "execution_count": 7,
   "metadata": {},
   "outputs": [
    {
     "name": "stdout",
     "output_type": "stream",
     "text": [
      "The given number 5 is Curzon Number.\n",
      "The given number 10 is not Curzon number.\n",
      "The given number 14 is Curzon Number.\n"
     ]
    }
   ],
   "source": [
    "print(is_curzon(5))\n",
    "print(is_curzon(10))\n",
    "print(is_curzon(14))"
   ]
  },
  {
   "cell_type": "markdown",
   "metadata": {},
   "source": [
    "### **Program 84**\n",
    "#### **Given the side length x find the area of a hexagon.**\n",
    "\n",
    "*Examples:*\n",
    "\n",
    "*area_of_hexagon(1) -- 2.6*\n",
    "\n",
    "*area_of_hexagon(2) -- 10.4*\n",
    "\n",
    "*area_of_hexagon(3) -- 23.4*"
   ]
  },
  {
   "cell_type": "code",
   "execution_count": 9,
   "metadata": {},
   "outputs": [],
   "source": [
    "import math\n",
    "\n",
    "def area_of_hexagon(x):\n",
    "    area = (3 * math.sqrt(3) * x**2)/2\n",
    "    return f\"The side length {x}, the area of a hexagon is: {round(area, 1)}\""
   ]
  },
  {
   "cell_type": "code",
   "execution_count": 10,
   "metadata": {},
   "outputs": [
    {
     "name": "stdout",
     "output_type": "stream",
     "text": [
      "The side length 1, the area of a hexagon is: 2.6\n",
      "The side length 2, the area of a hexagon is: 10.4\n",
      "The side length 3, the area of a hexagon is: 23.4\n"
     ]
    }
   ],
   "source": [
    "print(area_of_hexagon(1))\n",
    "print(area_of_hexagon(2))\n",
    "print(area_of_hexagon(3))"
   ]
  },
  {
   "cell_type": "markdown",
   "metadata": {},
   "source": [
    "### **Program 85**\n",
    "#### **Create a function that return a base-2(binary) representation of a base-10(decimal) string number. To convert is simple:((2) means base-2 and (10) means base-10) 010101001(2) = 1 + 8 + 32 + 128.**\n",
    "\n",
    "**Going from right to left, the value of the most right bit is 1, now from that every bit to the left will be x2 the value, value of an 8 binary numbers are(256, 128, 64, 32, 16, 8, 4, 2, 1).**\n",
    "\n",
    "Examples\n",
    "\n",
    "binary(1) ➞ \"1\"\n",
    "\n",
    "1*1 = 1\n",
    "\n",
    "binary(5) ➞ \"101\"\n",
    "\n",
    "1*1 + 1*4 = 5\n",
    "\n",
    "binary(10) ➞ 1010\n",
    "\n",
    "1*2 + 1*8 = 10"
   ]
  },
  {
   "cell_type": "code",
   "execution_count": 11,
   "metadata": {},
   "outputs": [],
   "source": [
    "def binary(decimal):\n",
    "    binary_str = \"\"\n",
    "    while decimal > 0:\n",
    "        remainder = decimal % 2\n",
    "        binary_str = str(remainder) + binary_str\n",
    "        decimal = decimal // 2\n",
    "    return binary_str if binary_str else '0'"
   ]
  },
  {
   "cell_type": "code",
   "execution_count": 12,
   "metadata": {},
   "outputs": [
    {
     "name": "stdout",
     "output_type": "stream",
     "text": [
      "1\n",
      "101\n",
      "1010\n"
     ]
    }
   ],
   "source": [
    "print(binary(1))\n",
    "print(binary(5))\n",
    "print(binary(10))"
   ]
  },
  {
   "cell_type": "markdown",
   "metadata": {},
   "source": [
    "#### **Program 86**\n",
    "#### **Create a function that takes three arguments a, b, c and return the sum of the numbers that are evenly divided by c from the range a, b inclusive.**\n",
    "\n",
    "Examples\n",
    "\n",
    "evenly_divisible(1, 10, 20) ➞ 0\n",
    "\n",
    "No number between 1 and 10 can be evenly divided by 20.\n",
    "\n",
    "evenly_divisible(1, 10, 2) ➞ 30\n",
    "\n",
    "2 + 4 + 6 + 8 + 10 = 30\n",
    "\n",
    "evenly_divisible(1, 10, 3) ➞ 18\n",
    "\n",
    "3 + 6 + 9 = 18\n",
    "\n"
   ]
  },
  {
   "cell_type": "code",
   "execution_count": 13,
   "metadata": {},
   "outputs": [],
   "source": [
    "def evenly_divisible(a, b, c):\n",
    "    total = 0\n",
    "    for num in range(a, b+1):\n",
    "        if num % c == 0:\n",
    "            total += num\n",
    "    return total"
   ]
  },
  {
   "cell_type": "code",
   "execution_count": 14,
   "metadata": {},
   "outputs": [
    {
     "name": "stdout",
     "output_type": "stream",
     "text": [
      "0\n",
      "30\n",
      "18\n"
     ]
    }
   ],
   "source": [
    "print(evenly_divisible(1, 10, 20))\n",
    "print(evenly_divisible(1, 10, 2))\n",
    "print(evenly_divisible(1, 10, 3))"
   ]
  },
  {
   "cell_type": "markdown",
   "metadata": {},
   "source": [
    "### **Program 87**\n",
    "#### **Create a function that returns True if a given inequality expression is correct and False otherwise.**\n",
    "\n",
    "Examples\n",
    "\n",
    "correct_signs(\"3 < 7 < 11\") ➞ True\n",
    "\n",
    "correct_signs(\"13 > 44 > 33 <1\") ➞ False\n",
    "\n",
    "correct_signs(\"1 < 2 < 6 < 9 > 3\") ➞ True"
   ]
  },
  {
   "cell_type": "code",
   "execution_count": 15,
   "metadata": {},
   "outputs": [],
   "source": [
    "def correct_signs(expression):\n",
    "    try:\n",
    "        return eval(expression)\n",
    "    except:\n",
    "        return False"
   ]
  },
  {
   "cell_type": "code",
   "execution_count": 16,
   "metadata": {},
   "outputs": [
    {
     "name": "stdout",
     "output_type": "stream",
     "text": [
      "True\n",
      "False\n",
      "True\n"
     ]
    }
   ],
   "source": [
    "print(correct_signs(\"3 < 7 < 11\"))\n",
    "print(correct_signs(\"13 > 44 > 33 < 1\"))\n",
    "print(correct_signs(\"1 < 2 < 6 < 9 > 3\"))"
   ]
  },
  {
   "cell_type": "markdown",
   "metadata": {},
   "source": [
    "### **Program 88**\n",
    "#### **Create a function that replaces all the vowels in a string with a specified character.**\n",
    "\n",
    "Examples\n",
    "\n",
    "replace_vowels(\"the aardvark\", \"#\") ➞ \"th# ##rdv#rk\"\n",
    "\n",
    "replace_vowels(\"minnie mouse\", \"?\") ➞ \"m?nn?? m??s?\"\n",
    "\n",
    "replace_vowels(\"shakespeare\", \"*\") ➞ \"shkspr*\""
   ]
  },
  {
   "cell_type": "code",
   "execution_count": 26,
   "metadata": {},
   "outputs": [],
   "source": [
    "def replace_vowels(string, char):\n",
    "    vowels = \"AEIOUaeiou\"\n",
    "    for vowel in vowels:\n",
    "        if vowel in string:\n",
    "            string = string.replace(vowel, char)\n",
    "    return string"
   ]
  },
  {
   "cell_type": "code",
   "execution_count": 27,
   "metadata": {},
   "outputs": [
    {
     "name": "stdout",
     "output_type": "stream",
     "text": [
      "th# ##rdv#rk\n",
      "m?nn?? m??s?\n",
      "sh*k*sp**r*\n"
     ]
    }
   ],
   "source": [
    "print(replace_vowels(\"the aardvark\", \"#\"))\n",
    "print(replace_vowels(\"minnie mouse\", \"?\"))\n",
    "print(replace_vowels(\"shakespeare\", \"*\"))"
   ]
  },
  {
   "cell_type": "markdown",
   "metadata": {},
   "source": [
    "### **Program 89**\n",
    "#### **write a function that calculates the factorial of a number recursively.**\n",
    "\n",
    "Examples\n",
    "factorial(5) ➞ 120\n",
    "\n",
    "factorial(3) ➞ 6\n",
    "\n",
    "factorial(1) ➞ 1\n",
    "\n",
    "factorial(0) ➞ 1"
   ]
  },
  {
   "cell_type": "code",
   "execution_count": 30,
   "metadata": {},
   "outputs": [],
   "source": [
    "def factorial(n):\n",
    "    if n == 0:\n",
    "        return f\"The factorial of given numbet {n} is: {1}\"\n",
    "    else:\n",
    "        return f\"The factorial of given number {n} is: {n * factorial(n-1)}\""
   ]
  },
  {
   "cell_type": "code",
   "execution_count": 31,
   "metadata": {},
   "outputs": [
    {
     "name": "stdout",
     "output_type": "stream",
     "text": [
      "The factorial of given number 5 is: The factorial of given number 4 is: The factorial of given number 3 is: The factorial of given number 2 is: The factorial of given number 1 is: The factorial of given numbet 0 is: 1The factorial of given number 1 is: The factorial of given numbet 0 is: 1The factorial of given number 2 is: The factorial of given number 1 is: The factorial of given numbet 0 is: 1The factorial of given number 1 is: The factorial of given numbet 0 is: 1The factorial of given number 2 is: The factorial of given number 1 is: The factorial of given numbet 0 is: 1The factorial of given number 1 is: The factorial of given numbet 0 is: 1The factorial of given number 3 is: The factorial of given number 2 is: The factorial of given number 1 is: The factorial of given numbet 0 is: 1The factorial of given number 1 is: The factorial of given numbet 0 is: 1The factorial of given number 2 is: The factorial of given number 1 is: The factorial of given numbet 0 is: 1The factorial of given number 1 is: The factorial of given numbet 0 is: 1The factorial of given number 2 is: The factorial of given number 1 is: The factorial of given numbet 0 is: 1The factorial of given number 1 is: The factorial of given numbet 0 is: 1The factorial of given number 3 is: The factorial of given number 2 is: The factorial of given number 1 is: The factorial of given numbet 0 is: 1The factorial of given number 1 is: The factorial of given numbet 0 is: 1The factorial of given number 2 is: The factorial of given number 1 is: The factorial of given numbet 0 is: 1The factorial of given number 1 is: The factorial of given numbet 0 is: 1The factorial of given number 2 is: The factorial of given number 1 is: The factorial of given numbet 0 is: 1The factorial of given number 1 is: The factorial of given numbet 0 is: 1The factorial of given number 3 is: The factorial of given number 2 is: The factorial of given number 1 is: The factorial of given numbet 0 is: 1The factorial of given number 1 is: The factorial of given numbet 0 is: 1The factorial of given number 2 is: The factorial of given number 1 is: The factorial of given numbet 0 is: 1The factorial of given number 1 is: The factorial of given numbet 0 is: 1The factorial of given number 2 is: The factorial of given number 1 is: The factorial of given numbet 0 is: 1The factorial of given number 1 is: The factorial of given numbet 0 is: 1The factorial of given number 4 is: The factorial of given number 3 is: The factorial of given number 2 is: The factorial of given number 1 is: The factorial of given numbet 0 is: 1The factorial of given number 1 is: The factorial of given numbet 0 is: 1The factorial of given number 2 is: The factorial of given number 1 is: The factorial of given numbet 0 is: 1The factorial of given number 1 is: The factorial of given numbet 0 is: 1The factorial of given number 2 is: The factorial of given number 1 is: The factorial of given numbet 0 is: 1The factorial of given number 1 is: The factorial of given numbet 0 is: 1The factorial of given number 3 is: The factorial of given number 2 is: The factorial of given number 1 is: The factorial of given numbet 0 is: 1The factorial of given number 1 is: The factorial of given numbet 0 is: 1The factorial of given number 2 is: The factorial of given number 1 is: The factorial of given numbet 0 is: 1The factorial of given number 1 is: The factorial of given numbet 0 is: 1The factorial of given number 2 is: The factorial of given number 1 is: The factorial of given numbet 0 is: 1The factorial of given number 1 is: The factorial of given numbet 0 is: 1The factorial of given number 3 is: The factorial of given number 2 is: The factorial of given number 1 is: The factorial of given numbet 0 is: 1The factorial of given number 1 is: The factorial of given numbet 0 is: 1The factorial of given number 2 is: The factorial of given number 1 is: The factorial of given numbet 0 is: 1The factorial of given number 1 is: The factorial of given numbet 0 is: 1The factorial of given number 2 is: The factorial of given number 1 is: The factorial of given numbet 0 is: 1The factorial of given number 1 is: The factorial of given numbet 0 is: 1The factorial of given number 3 is: The factorial of given number 2 is: The factorial of given number 1 is: The factorial of given numbet 0 is: 1The factorial of given number 1 is: The factorial of given numbet 0 is: 1The factorial of given number 2 is: The factorial of given number 1 is: The factorial of given numbet 0 is: 1The factorial of given number 1 is: The factorial of given numbet 0 is: 1The factorial of given number 2 is: The factorial of given number 1 is: The factorial of given numbet 0 is: 1The factorial of given number 1 is: The factorial of given numbet 0 is: 1The factorial of given number 4 is: The factorial of given number 3 is: The factorial of given number 2 is: The factorial of given number 1 is: The factorial of given numbet 0 is: 1The factorial of given number 1 is: The factorial of given numbet 0 is: 1The factorial of given number 2 is: The factorial of given number 1 is: The factorial of given numbet 0 is: 1The factorial of given number 1 is: The factorial of given numbet 0 is: 1The factorial of given number 2 is: The factorial of given number 1 is: The factorial of given numbet 0 is: 1The factorial of given number 1 is: The factorial of given numbet 0 is: 1The factorial of given number 3 is: The factorial of given number 2 is: The factorial of given number 1 is: The factorial of given numbet 0 is: 1The factorial of given number 1 is: The factorial of given numbet 0 is: 1The factorial of given number 2 is: The factorial of given number 1 is: The factorial of given numbet 0 is: 1The factorial of given number 1 is: The factorial of given numbet 0 is: 1The factorial of given number 2 is: The factorial of given number 1 is: The factorial of given numbet 0 is: 1The factorial of given number 1 is: The factorial of given numbet 0 is: 1The factorial of given number 3 is: The factorial of given number 2 is: The factorial of given number 1 is: The factorial of given numbet 0 is: 1The factorial of given number 1 is: The factorial of given numbet 0 is: 1The factorial of given number 2 is: The factorial of given number 1 is: The factorial of given numbet 0 is: 1The factorial of given number 1 is: The factorial of given numbet 0 is: 1The factorial of given number 2 is: The factorial of given number 1 is: The factorial of given numbet 0 is: 1The factorial of given number 1 is: The factorial of given numbet 0 is: 1The factorial of given number 3 is: The factorial of given number 2 is: The factorial of given number 1 is: The factorial of given numbet 0 is: 1The factorial of given number 1 is: The factorial of given numbet 0 is: 1The factorial of given number 2 is: The factorial of given number 1 is: The factorial of given numbet 0 is: 1The factorial of given number 1 is: The factorial of given numbet 0 is: 1The factorial of given number 2 is: The factorial of given number 1 is: The factorial of given numbet 0 is: 1The factorial of given number 1 is: The factorial of given numbet 0 is: 1The factorial of given number 4 is: The factorial of given number 3 is: The factorial of given number 2 is: The factorial of given number 1 is: The factorial of given numbet 0 is: 1The factorial of given number 1 is: The factorial of given numbet 0 is: 1The factorial of given number 2 is: The factorial of given number 1 is: The factorial of given numbet 0 is: 1The factorial of given number 1 is: The factorial of given numbet 0 is: 1The factorial of given number 2 is: The factorial of given number 1 is: The factorial of given numbet 0 is: 1The factorial of given number 1 is: The factorial of given numbet 0 is: 1The factorial of given number 3 is: The factorial of given number 2 is: The factorial of given number 1 is: The factorial of given numbet 0 is: 1The factorial of given number 1 is: The factorial of given numbet 0 is: 1The factorial of given number 2 is: The factorial of given number 1 is: The factorial of given numbet 0 is: 1The factorial of given number 1 is: The factorial of given numbet 0 is: 1The factorial of given number 2 is: The factorial of given number 1 is: The factorial of given numbet 0 is: 1The factorial of given number 1 is: The factorial of given numbet 0 is: 1The factorial of given number 3 is: The factorial of given number 2 is: The factorial of given number 1 is: The factorial of given numbet 0 is: 1The factorial of given number 1 is: The factorial of given numbet 0 is: 1The factorial of given number 2 is: The factorial of given number 1 is: The factorial of given numbet 0 is: 1The factorial of given number 1 is: The factorial of given numbet 0 is: 1The factorial of given number 2 is: The factorial of given number 1 is: The factorial of given numbet 0 is: 1The factorial of given number 1 is: The factorial of given numbet 0 is: 1The factorial of given number 3 is: The factorial of given number 2 is: The factorial of given number 1 is: The factorial of given numbet 0 is: 1The factorial of given number 1 is: The factorial of given numbet 0 is: 1The factorial of given number 2 is: The factorial of given number 1 is: The factorial of given numbet 0 is: 1The factorial of given number 1 is: The factorial of given numbet 0 is: 1The factorial of given number 2 is: The factorial of given number 1 is: The factorial of given numbet 0 is: 1The factorial of given number 1 is: The factorial of given numbet 0 is: 1The factorial of given number 4 is: The factorial of given number 3 is: The factorial of given number 2 is: The factorial of given number 1 is: The factorial of given numbet 0 is: 1The factorial of given number 1 is: The factorial of given numbet 0 is: 1The factorial of given number 2 is: The factorial of given number 1 is: The factorial of given numbet 0 is: 1The factorial of given number 1 is: The factorial of given numbet 0 is: 1The factorial of given number 2 is: The factorial of given number 1 is: The factorial of given numbet 0 is: 1The factorial of given number 1 is: The factorial of given numbet 0 is: 1The factorial of given number 3 is: The factorial of given number 2 is: The factorial of given number 1 is: The factorial of given numbet 0 is: 1The factorial of given number 1 is: The factorial of given numbet 0 is: 1The factorial of given number 2 is: The factorial of given number 1 is: The factorial of given numbet 0 is: 1The factorial of given number 1 is: The factorial of given numbet 0 is: 1The factorial of given number 2 is: The factorial of given number 1 is: The factorial of given numbet 0 is: 1The factorial of given number 1 is: The factorial of given numbet 0 is: 1The factorial of given number 3 is: The factorial of given number 2 is: The factorial of given number 1 is: The factorial of given numbet 0 is: 1The factorial of given number 1 is: The factorial of given numbet 0 is: 1The factorial of given number 2 is: The factorial of given number 1 is: The factorial of given numbet 0 is: 1The factorial of given number 1 is: The factorial of given numbet 0 is: 1The factorial of given number 2 is: The factorial of given number 1 is: The factorial of given numbet 0 is: 1The factorial of given number 1 is: The factorial of given numbet 0 is: 1The factorial of given number 3 is: The factorial of given number 2 is: The factorial of given number 1 is: The factorial of given numbet 0 is: 1The factorial of given number 1 is: The factorial of given numbet 0 is: 1The factorial of given number 2 is: The factorial of given number 1 is: The factorial of given numbet 0 is: 1The factorial of given number 1 is: The factorial of given numbet 0 is: 1The factorial of given number 2 is: The factorial of given number 1 is: The factorial of given numbet 0 is: 1The factorial of given number 1 is: The factorial of given numbet 0 is: 1\n",
      "The factorial of given number 3 is: The factorial of given number 2 is: The factorial of given number 1 is: The factorial of given numbet 0 is: 1The factorial of given number 1 is: The factorial of given numbet 0 is: 1The factorial of given number 2 is: The factorial of given number 1 is: The factorial of given numbet 0 is: 1The factorial of given number 1 is: The factorial of given numbet 0 is: 1The factorial of given number 2 is: The factorial of given number 1 is: The factorial of given numbet 0 is: 1The factorial of given number 1 is: The factorial of given numbet 0 is: 1\n",
      "The factorial of given number 1 is: The factorial of given numbet 0 is: 1\n",
      "The factorial of given numbet 0 is: 1\n"
     ]
    }
   ],
   "source": [
    "print(factorial(5))\n",
    "print(factorial(3))\n",
    "print(factorial(1))\n",
    "print(factorial(0))"
   ]
  },
  {
   "cell_type": "markdown",
   "metadata": {},
   "source": [
    "### **Program 90**\n",
    "#### **Hamming distance is the number of characters that differ between two strings.**\n",
    "\n",
    "To illustrate:\n",
    "\n",
    "String1: \"abcbba\"\n",
    "\n",
    "String2: \"abcbda\"\n",
    "\n",
    "Hamming Distance: 1 - \"b\" vs. \"d\" is the only difference.\n",
    "\n",
    "Create a function that computes the hamming distance between two strings.\n",
    "\n",
    "Examples\n",
    "hamming_distance(\"abcde\", \"bcdef\") ➞ 5\n",
    "\n",
    "hamming_distance(\"abcde\", \"abcde\") ➞ 0\n",
    "\n",
    "hamming_distance(\"strong\", \"strung\") ➞ 1\n",
    "\n"
   ]
  },
  {
   "cell_type": "code",
   "execution_count": 33,
   "metadata": {},
   "outputs": [],
   "source": [
    "def hamming_distance(str1, str2):\n",
    "\n",
    "    # check if the strings have the same length\n",
    "    if len(str1) != len(str2):\n",
    "        raise ValueError(\"Input strings must have the same length\")\n",
    "    \n",
    "    # Initiative a counter to keep track of differences\n",
    "    distance = 0\n",
    "\n",
    "    # Iterate through the characters of both strings\n",
    "    for i in range(len(str1)):\n",
    "        if str1[i] != str2[i]:\n",
    "            distance += 1\n",
    "\n",
    "    return distance\n"
   ]
  },
  {
   "cell_type": "code",
   "execution_count": 34,
   "metadata": {},
   "outputs": [
    {
     "name": "stdout",
     "output_type": "stream",
     "text": [
      "5\n",
      "0\n",
      "1\n"
     ]
    }
   ],
   "source": [
    "print(hamming_distance(\"abcde\", \"bcdef\"))\n",
    "print(hamming_distance(\"abcde\", \"abcde\"))\n",
    "print(hamming_distance(\"strong\", \"strung\"))"
   ]
  },
  {
   "cell_type": "markdown",
   "metadata": {},
   "source": [
    "### **Program 91**\n",
    "#### **Create a function that takes a list of non-negative integers and strings and return a new list without the strings.**\n",
    "Examples\n",
    "\n",
    "filter_list([1, 2, \"a\", \"b\"]) ➞ [1, 2]\n",
    "\n",
    "filter_list([1, \"a\", \"b\", 0, 15]) ➞ [1, 0, 15]\n",
    "\n",
    "filter_list([1, 2, \"aasf\", \"1\", \"123\", 123]) ➞ [1, 2, 123]\n"
   ]
  },
  {
   "cell_type": "code",
   "execution_count": 39,
   "metadata": {},
   "outputs": [],
   "source": [
    "def filter_list(lst):\n",
    "    result = []\n",
    "    for element in lst:\n",
    "        if isinstance(element, int) and element >= 0:\n",
    "            result.append(element)\n",
    "    return result\n"
   ]
  },
  {
   "cell_type": "code",
   "execution_count": 41,
   "metadata": {},
   "outputs": [
    {
     "name": "stdout",
     "output_type": "stream",
     "text": [
      "[1, 2]\n",
      "[1, 0, 15]\n"
     ]
    }
   ],
   "source": [
    "print(filter_list([1, 2, 'a', 'b']))\n",
    "print(filter_list([1, 'a', 'b', 0, 15]))"
   ]
  },
  {
   "cell_type": "markdown",
   "metadata": {},
   "source": [
    "### **Program 92**\n",
    "#### **The \"Reverser\" takes a string as input and returns that string in reverse order, with the opposite case.**\n",
    "\n",
    "Examples\n",
    "\n",
    "reverse(\"Hello World\") ➞ \"DLROw OLLEh\"\n",
    "\n",
    "reverse(\"ReVeRsE\") ➞ \"eSrEvEr\"\n",
    "\n",
    "reverse(\"Radar\") ➞ \"RADAr"
   ]
  },
  {
   "cell_type": "code",
   "execution_count": 43,
   "metadata": {},
   "outputs": [
    {
     "data": {
      "text/plain": [
       "'DLROw OLLEh'"
      ]
     },
     "execution_count": 43,
     "metadata": {},
     "output_type": "execute_result"
    }
   ],
   "source": [
    "def reverse(string):\n",
    "    reverse_str = string[::-1].swapcase()\n",
    "    return reverse_str\n",
    "\n",
    "reverse(\"Hello World\")"
   ]
  },
  {
   "cell_type": "code",
   "execution_count": 44,
   "metadata": {},
   "outputs": [
    {
     "data": {
      "text/plain": [
       "'eSrEvEr'"
      ]
     },
     "execution_count": 44,
     "metadata": {},
     "output_type": "execute_result"
    }
   ],
   "source": [
    "reverse(\"ReVeRsE\")"
   ]
  },
  {
   "cell_type": "code",
   "execution_count": 45,
   "metadata": {},
   "outputs": [
    {
     "data": {
      "text/plain": [
       "'RADAr'"
      ]
     },
     "execution_count": 45,
     "metadata": {},
     "output_type": "execute_result"
    }
   ],
   "source": [
    "reverse(\"Radar\")"
   ]
  },
  {
   "cell_type": "markdown",
   "metadata": {},
   "source": [
    "### **Program 93**\n",
    "#### **You can assign variables from lists like this:**\n",
    "lst = [1, 2, 3, 4, 5, 6]\n",
    "\n",
    "first = lst[0]\n",
    "\n",
    "middle = lst[1:-1]\n",
    "\n",
    "last = lst[-1]\n",
    "\n",
    "print(first) ➞ outputs 1\n",
    "\n",
    "print(middle) ➞ outputs [2, 3, 4, 5]\n",
    "\n",
    "print(last) ➞ outputs 6"
   ]
  },
  {
   "cell_type": "code",
   "execution_count": 46,
   "metadata": {},
   "outputs": [],
   "source": [
    "def first_mdl_lst(list):\n",
    "    first = list[0]\n",
    "    middle = list[1:-1]\n",
    "    last = list[-1]\n",
    "    print(first, middle, last)"
   ]
  },
  {
   "cell_type": "code",
   "execution_count": 47,
   "metadata": {},
   "outputs": [
    {
     "name": "stdout",
     "output_type": "stream",
     "text": [
      "1 [2, 3, 4, 5] 6\n"
     ]
    }
   ],
   "source": [
    "first_mdl_lst([1, 2, 3, 4, 5, 6])"
   ]
  },
  {
   "cell_type": "markdown",
   "metadata": {},
   "source": [
    "### **Program 95**\n",
    "**Write a function that moves all elements of one type to the end of the list.**\n",
    "\n",
    "Examples\n",
    "\n",
    "move_to_end([1, 3, 2, 4, 4, 1], 1) ➞ [3, 2, 4, 4, 1, 1]\n",
    "\n",
    "Move all the 1s to the end of the array.\n",
    "\n",
    "move_to_end([7, 8, 9, 1, 2, 3, 4], 9) ➞ [7, 8, 1, 2, 3, 4, 9]\n",
    "\n",
    "move_to_end([\"a\", \"a\", \"a\", \"b\"], \"a\") ➞ [\"b\", \"a\", \"a\", \"a\"]"
   ]
  },
  {
   "cell_type": "code",
   "execution_count": 50,
   "metadata": {},
   "outputs": [],
   "source": [
    "def move_to_end(lst, element):\n",
    "\n",
    "    count = lst.count(element)\n",
    "\n",
    "    lst = [x for x in lst if x != element]\n",
    "\n",
    "    lst.extend([element]* count)\n",
    "\n",
    "    return lst\n"
   ]
  },
  {
   "cell_type": "code",
   "execution_count": 51,
   "metadata": {},
   "outputs": [
    {
     "data": {
      "text/plain": [
       "[3, 2, 4, 4, 1, 1]"
      ]
     },
     "execution_count": 51,
     "metadata": {},
     "output_type": "execute_result"
    }
   ],
   "source": [
    "move_to_end([1, 3, 2, 4, 4, 1], 1)"
   ]
  },
  {
   "cell_type": "code",
   "execution_count": 52,
   "metadata": {},
   "outputs": [
    {
     "data": {
      "text/plain": [
       "[7, 8, 1, 2, 3, 4, 9]"
      ]
     },
     "execution_count": 52,
     "metadata": {},
     "output_type": "execute_result"
    }
   ],
   "source": [
    "move_to_end([7, 8, 9, 1, 2, 3, 4], 9)"
   ]
  },
  {
   "cell_type": "code",
   "execution_count": 53,
   "metadata": {},
   "outputs": [
    {
     "data": {
      "text/plain": [
       "['b', 'a', 'a', 'a']"
      ]
     },
     "execution_count": 53,
     "metadata": {},
     "output_type": "execute_result"
    }
   ],
   "source": [
    "move_to_end(['a', 'a', 'a', 'b'], 'a')"
   ]
  },
  {
   "cell_type": "markdown",
   "metadata": {},
   "source": [
    "### **Program 96**\n",
    "#### **Create a function that takes a string and returns a string in which each character is repeated once.**\n",
    "Examples\n",
    "\n",
    "double_char(\"String\") ➞ \"SSttrriinngg\"\n",
    "\n",
    "double_char(\"Hello World!\") ➞ \"HHeelllloo WWoorrlldd!!\"\n",
    "\n",
    "double char(\"1234! \") ➞ \"11223344!! \""
   ]
  },
  {
   "cell_type": "code",
   "execution_count": 58,
   "metadata": {},
   "outputs": [],
   "source": [
    "def double_char(string):\n",
    "    doubled_str = \"\"\n",
    "    for char in string:\n",
    "        doubled_str += char * 2\n",
    "    return doubled_str"
   ]
  },
  {
   "cell_type": "code",
   "execution_count": 59,
   "metadata": {},
   "outputs": [
    {
     "data": {
      "text/plain": [
       "'SSttrriinngg'"
      ]
     },
     "execution_count": 59,
     "metadata": {},
     "output_type": "execute_result"
    }
   ],
   "source": [
    "double_char(\"String\")"
   ]
  },
  {
   "cell_type": "code",
   "execution_count": 60,
   "metadata": {},
   "outputs": [
    {
     "data": {
      "text/plain": [
       "'HHeelllloo  WWoorrlldd!!'"
      ]
     },
     "execution_count": 60,
     "metadata": {},
     "output_type": "execute_result"
    }
   ],
   "source": [
    "double_char(\"Hello World!\")"
   ]
  },
  {
   "cell_type": "code",
   "execution_count": 62,
   "metadata": {},
   "outputs": [
    {
     "data": {
      "text/plain": [
       "'11223344!!__  '"
      ]
     },
     "execution_count": 62,
     "metadata": {},
     "output_type": "execute_result"
    }
   ],
   "source": [
    "double_char(\"1234!_ \")"
   ]
  },
  {
   "cell_type": "markdown",
   "metadata": {},
   "source": [
    "### **Program 97**\n",
    "**Create a function that returns the thickness (in meters) of a piece of paper after folding it n number of times. The paper starts off with a thickness of 0.5mm.**\n",
    "Examples\n",
    "\n",
    "num_layers(1) ➞ \"0.001m\"\n",
    "\n",
    "- Paper folded once is 1mm (equal to 0.001m)\n",
    "\n",
    "num_layers(4) ➞ \"0.008m\"\n",
    "\n",
    "- Paper folded 4 times is 8mm (equal to 0.008m)\n",
    "\n",
    "num_layers(21) ➞ \"1048.576m\"\n",
    "\n",
    "- Paper folded 21 times is 1048576mm (equal to 1048.576m)"
   ]
  },
  {
   "cell_type": "code",
   "execution_count": 69,
   "metadata": {},
   "outputs": [],
   "source": [
    "def num_layers(n):\n",
    "    initial_thickness_mm = 0.5\n",
    "    final_thickness_mm = initial_thickness_mm * (2 ** n)\n",
    "    final_thickness_m = final_thickness_mm / 1000\n",
    "    return f\"{final_thickness_m:.3f}m\""
   ]
  },
  {
   "cell_type": "code",
   "execution_count": 70,
   "metadata": {},
   "outputs": [
    {
     "data": {
      "text/plain": [
       "'0.001m'"
      ]
     },
     "execution_count": 70,
     "metadata": {},
     "output_type": "execute_result"
    }
   ],
   "source": [
    "num_layers(1)"
   ]
  },
  {
   "cell_type": "code",
   "execution_count": 71,
   "metadata": {},
   "outputs": [
    {
     "data": {
      "text/plain": [
       "'0.008m'"
      ]
     },
     "execution_count": 71,
     "metadata": {},
     "output_type": "execute_result"
    }
   ],
   "source": [
    "num_layers(4)"
   ]
  },
  {
   "cell_type": "code",
   "execution_count": 72,
   "metadata": {},
   "outputs": [
    {
     "data": {
      "text/plain": [
       "'1048.576m'"
      ]
     },
     "execution_count": 72,
     "metadata": {},
     "output_type": "execute_result"
    }
   ],
   "source": [
    "num_layers(21)"
   ]
  },
  {
   "cell_type": "markdown",
   "metadata": {},
   "source": [
    "### **Program 98**\n",
    "**Create a function that takes a single string as argument and returns an ordered list containing the indices of all capital letters in the string.**\n",
    "\n",
    "Examples\n",
    "index_of_caps(\"eDaBiT\") ➞ [1, 3, 5]\n",
    "\n",
    "index_of_caps(\"eQuINoX\") ➞ [1, 3, 4, 6]\n",
    "\n",
    "index_of_caps(\"determine\") ➞ []\n",
    "\n",
    "index_of_caps(\"STRIKE\") ➞ [0, 1, 2, 3, 4, 5]\n",
    "\n",
    "index_of_caps(\"sUn\") ➞ [1]\n"
   ]
  },
  {
   "cell_type": "code",
   "execution_count": 73,
   "metadata": {},
   "outputs": [],
   "source": [
    "def index_of_caps(string):\n",
    "    return [i for i, char in enumerate(string) if char.isupper()]"
   ]
  },
  {
   "cell_type": "code",
   "execution_count": 75,
   "metadata": {},
   "outputs": [
    {
     "data": {
      "text/plain": [
       "[1, 3, 5]"
      ]
     },
     "execution_count": 75,
     "metadata": {},
     "output_type": "execute_result"
    }
   ],
   "source": [
    "index_of_caps(\"eDaBiT\")"
   ]
  },
  {
   "cell_type": "code",
   "execution_count": 76,
   "metadata": {},
   "outputs": [
    {
     "data": {
      "text/plain": [
       "[1, 3, 4, 6]"
      ]
     },
     "execution_count": 76,
     "metadata": {},
     "output_type": "execute_result"
    }
   ],
   "source": [
    "index_of_caps(\"eQuINoX\")"
   ]
  },
  {
   "cell_type": "code",
   "execution_count": 77,
   "metadata": {},
   "outputs": [
    {
     "data": {
      "text/plain": [
       "[]"
      ]
     },
     "execution_count": 77,
     "metadata": {},
     "output_type": "execute_result"
    }
   ],
   "source": [
    "index_of_caps(\"determine\")"
   ]
  },
  {
   "cell_type": "code",
   "execution_count": 78,
   "metadata": {},
   "outputs": [
    {
     "data": {
      "text/plain": [
       "[0, 1, 2, 3, 4, 5]"
      ]
     },
     "execution_count": 78,
     "metadata": {},
     "output_type": "execute_result"
    }
   ],
   "source": [
    "index_of_caps(\"STRIKE\")"
   ]
  },
  {
   "cell_type": "code",
   "execution_count": 79,
   "metadata": {},
   "outputs": [
    {
     "data": {
      "text/plain": [
       "[1]"
      ]
     },
     "execution_count": 79,
     "metadata": {},
     "output_type": "execute_result"
    }
   ],
   "source": [
    "index_of_caps(\"sUn\")"
   ]
  },
  {
   "cell_type": "markdown",
   "metadata": {},
   "source": [
    "### **Program 99**\n",
    "**Using list comprehensions, create a function that finds all even numbers from 1 to the given number.**\n",
    "\n",
    "Examples\n",
    "\n",
    "find_even_nums(8) ➞ [2, 4, 6, 8]\n",
    "\n",
    "find_even_nums(4) ➞ [2, 4]\n",
    "\n",
    "find_even_nums(2) ➞ [2]"
   ]
  },
  {
   "cell_type": "code",
   "execution_count": 80,
   "metadata": {},
   "outputs": [],
   "source": [
    "def find_even_numbers(num):\n",
    "    return [i for i in range(1, num+1) if i % 2 == 0]"
   ]
  },
  {
   "cell_type": "code",
   "execution_count": 81,
   "metadata": {},
   "outputs": [
    {
     "data": {
      "text/plain": [
       "[2, 4, 6, 8]"
      ]
     },
     "execution_count": 81,
     "metadata": {},
     "output_type": "execute_result"
    }
   ],
   "source": [
    "find_even_numbers(8)"
   ]
  },
  {
   "cell_type": "code",
   "execution_count": 82,
   "metadata": {},
   "outputs": [
    {
     "data": {
      "text/plain": [
       "[2, 4]"
      ]
     },
     "execution_count": 82,
     "metadata": {},
     "output_type": "execute_result"
    }
   ],
   "source": [
    "find_even_numbers(4)"
   ]
  },
  {
   "cell_type": "code",
   "execution_count": 83,
   "metadata": {},
   "outputs": [
    {
     "data": {
      "text/plain": [
       "[2]"
      ]
     },
     "execution_count": 83,
     "metadata": {},
     "output_type": "execute_result"
    }
   ],
   "source": [
    "find_even_numbers(2)"
   ]
  },
  {
   "cell_type": "markdown",
   "metadata": {},
   "source": [
    "### **Program 100**\n",
    "**Create a function that takes a list of strings and integers, and filters out the list so that it returns a list of integers only.**\n",
    "\n",
    "Examples\n",
    "\n",
    "filter_list([1, 2, 3, \"a\", \"b\", 4]) ➞ [1, 2, 3, 4]\n",
    "\n",
    "filter_list([\"A\", 0, \"Edabit\", 1729, \"Python\", 1729]) ➞ [0, 1729]\n",
    "\n",
    "filter_list([\"Nothing\", \"here\"]) ➞ []"
   ]
  },
  {
   "cell_type": "code",
   "execution_count": 86,
   "metadata": {},
   "outputs": [],
   "source": [
    "def filter_list(lst):\n",
    "    return [ i for i in lst if isinstance(i, int)]"
   ]
  },
  {
   "cell_type": "code",
   "execution_count": 87,
   "metadata": {},
   "outputs": [
    {
     "data": {
      "text/plain": [
       "[1, 2, 3, 4]"
      ]
     },
     "execution_count": 87,
     "metadata": {},
     "output_type": "execute_result"
    }
   ],
   "source": [
    "filter_list([1, 2, 3, 'a', 'b', 4])"
   ]
  },
  {
   "cell_type": "code",
   "execution_count": 89,
   "metadata": {},
   "outputs": [
    {
     "data": {
      "text/plain": [
       "[0, 1729, 1729]"
      ]
     },
     "execution_count": 89,
     "metadata": {},
     "output_type": "execute_result"
    }
   ],
   "source": [
    "filter_list([\"A\", 0, \"Edabit\", 1729, \"Python\", 1729])"
   ]
  },
  {
   "cell_type": "code",
   "execution_count": 90,
   "metadata": {},
   "outputs": [
    {
     "data": {
      "text/plain": [
       "[]"
      ]
     },
     "execution_count": 90,
     "metadata": {},
     "output_type": "execute_result"
    }
   ],
   "source": [
    "filter_list([\"Nothing\", \"here\"])"
   ]
  }
 ],
 "metadata": {
  "kernelspec": {
   "display_name": "Python 3",
   "language": "python",
   "name": "python3"
  },
  "language_info": {
   "codemirror_mode": {
    "name": "ipython",
    "version": 3
   },
   "file_extension": ".py",
   "mimetype": "text/x-python",
   "name": "python",
   "nbconvert_exporter": "python",
   "pygments_lexer": "ipython3",
   "version": "3.8.18"
  }
 },
 "nbformat": 4,
 "nbformat_minor": 2
}

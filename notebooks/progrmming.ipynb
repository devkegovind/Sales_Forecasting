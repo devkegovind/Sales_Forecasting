{
 "cells": [
  {
   "cell_type": "markdown",
   "metadata": {},
   "source": [
    "<h1 style=\"color:black; text-align:center;\"><b>140+ BASIC PYTHON PROGRAMS</b></h1>"
   ]
  },
  {
   "cell_type": "markdown",
   "metadata": {},
   "source": [
    "<h3 style=\"color:black;\"><b>Program 1</b></h3>\n",
    "\n",
    "<h4 style=\"color:black;\"><b>Write a Python program to print \"Hello Python\"</b></h4> "
   ]
  },
  {
   "cell_type": "code",
   "execution_count": 1,
   "metadata": {},
   "outputs": [
    {
     "name": "stdout",
     "output_type": "stream",
     "text": [
      "Hello Python\n"
     ]
    }
   ],
   "source": [
    "print(\"Hello Python\")"
   ]
  },
  {
   "cell_type": "markdown",
   "metadata": {},
   "source": [
    "<h3 style=\"color:black;\"><b>Program 2</b></h3>\n",
    "<h4 style=\"color:black;\"><b>Write a Python program to do arithmetical operations addition and division.</b></h4>"
   ]
  },
  {
   "cell_type": "code",
   "execution_count": 5,
   "metadata": {},
   "outputs": [
    {
     "name": "stdout",
     "output_type": "stream",
     "text": [
      "Enter the first Number:3.5\n",
      "Enter the second Number:2.5\n",
      "Sum: 3.5 + 2.5 = 6.0\n"
     ]
    }
   ],
   "source": [
    "# Addition\n",
    "\n",
    "num1 = float(input(\"Enter the first Number: \"))\n",
    "num2 = float(input(\"Enter the second Number: \"))\n",
    "print(f\"Enter the first Number:{num1}\")\n",
    "print(f\"Enter the second Number:{num2}\")\n",
    "sum_result = num1 + num2\n",
    "print(f\"Sum: {num1} + {num2} = {sum_result}\")"
   ]
  },
  {
   "cell_type": "code",
   "execution_count": 6,
   "metadata": {},
   "outputs": [
    {
     "name": "stdout",
     "output_type": "stream",
     "text": [
      "Enter the dividend for division:25.0\n",
      "Enter the divisor for division:5.0\n",
      "Division: 25.0 / 5.0 = 5.0\n"
     ]
    }
   ],
   "source": [
    "# Division\n",
    "\n",
    "num3 = float(input(\"Enter the dividend for division: \"))\n",
    "num4 = float(input(\"Enter the divisor for division: \"))\n",
    "print(f\"Enter the dividend for division:{num3}\")\n",
    "print(f\"Enter the divisor for division:{num4}\")\n",
    "if num4 == 0:\n",
    "    print(f\"Error: Division By Zero is not allowed\")\n",
    "else:\n",
    "    div_result = num3 / num4\n",
    "    print(f\"Division: {num3} / {num4} = {div_result}\")\n"
   ]
  },
  {
   "cell_type": "markdown",
   "metadata": {},
   "source": [
    "<h3 style=\"color:black;\"><b>Program 3</b></h3>\n",
    "<h4 style=\"color:black;\"><b>Write a Python program to find the area of a triangle.</b></h4>"
   ]
  },
  {
   "cell_type": "code",
   "execution_count": 7,
   "metadata": {},
   "outputs": [
    {
     "name": "stdout",
     "output_type": "stream",
     "text": [
      "Enter the base of triangle:15.0\n",
      "Enter the height of triangle:10.0\n",
      "The Area of triangle is: 75.0\n"
     ]
    }
   ],
   "source": [
    "# Input the base and height from the user\n",
    "a = float(input(\"Enter the base of triangle: \"))\n",
    "b = float(input(\"Enter the height of triangle: \"))\n",
    "print(f\"Enter the base of triangle:{a}\")\n",
    "print(f\"Enter the height of triangle:{b}\")\n",
    "area = 0.5 * a * b\n",
    "print(f\"The Area of triangle is: {area}\")"
   ]
  },
  {
   "cell_type": "markdown",
   "metadata": {},
   "source": [
    "<h3 style=\"color:black;\"><b>Program 4</b></h3>\n",
    "<h4 style=\"color:black;\"><b>Write a Python to swap two variables Using temp.</b></h4>"
   ]
  },
  {
   "cell_type": "code",
   "execution_count": 8,
   "metadata": {},
   "outputs": [
    {
     "name": "stdout",
     "output_type": "stream",
     "text": [
      "Enter the value of the first variable(a):5\n",
      "Enter the value of second variable(b):9\n",
      "Swapped Values: a = 9, b = 5\n"
     ]
    }
   ],
   "source": [
    "# Input two variables from user\n",
    "a = input(\"Enter the value of the first variable(a): \")\n",
    "b = input(\"Enter the value of second variable(b): \")\n",
    "\n",
    "# Display the original values\n",
    "print(f\"Enter the value of the first variable(a):{a}\")\n",
    "print(f\"Enter the value of second variable(b):{b}\")\n",
    "\n",
    "# Swap the values using a temporary variable\n",
    "temp = a\n",
    "a = b\n",
    "b = temp\n",
    "\n",
    "# Display the swapped values \n",
    "print(f\"Swapped Values: a = {a}, b = {b}\")"
   ]
  },
  {
   "cell_type": "markdown",
   "metadata": {},
   "source": [
    "<h3 style=\"color:black;\"><b> Program 5</b></h3>\n",
    "<h4 style = \"color:black;\"><b>Write a Python program to generate a random number.</b></h4>"
   ]
  },
  {
   "cell_type": "code",
   "execution_count": 9,
   "metadata": {},
   "outputs": [
    {
     "name": "stdout",
     "output_type": "stream",
     "text": [
      "Random Number : 14\n"
     ]
    }
   ],
   "source": [
    "import random\n",
    "print(f\"Random Number : {random.randint(1,100)}\")"
   ]
  },
  {
   "cell_type": "markdown",
   "metadata": {},
   "source": [
    "<h3 style=\"color:black;\"><b>Program 6</b></h3>\n",
    "<h4 style=\"color:black;\"><b>Write a Python program to convert kilometers to miles.</b></h4>"
   ]
  },
  {
   "cell_type": "code",
   "execution_count": 10,
   "metadata": {},
   "outputs": [
    {
     "name": "stdout",
     "output_type": "stream",
     "text": [
      "Enter distance in kilometers:100.0\n",
      "100.0 km is equal to 62.137100000000004 miles.\n"
     ]
    }
   ],
   "source": [
    "kilometers = float(input(\"Enter distance in kilometers: \"))\n",
    "print(f\"Enter distance in kilometers:{kilometers}\")\n",
    "# conversion factor: 1 km = 0.621371 mile\n",
    "conversion_factor = 0.621371\n",
    "miles = conversion_factor * kilometers\n",
    "print(f\"{kilometers} km is equal to {miles} miles.\")"
   ]
  },
  {
   "cell_type": "markdown",
   "metadata": {},
   "source": [
    "<h3 style=\"color:black;\"><b>Program 7 </b></h3>\n",
    "<h4 style=\"color:black;\"><b>Write a Python program to convert Celsius to Fahrenheit.</b></h4>"
   ]
  },
  {
   "cell_type": "code",
   "execution_count": 13,
   "metadata": {},
   "outputs": [
    {
     "name": "stdout",
     "output_type": "stream",
     "text": [
      "The temaperature in celsius is:37.0\n",
      "37.0 degrees Celsius is equal to 98.6degrees\n"
     ]
    }
   ],
   "source": [
    "celsius = float(input(\"Enter the temperature in celsius: \"))\n",
    "print(f\"The temaperature in celsius is:{celsius}\")\n",
    "\n",
    "# Conversion formula : Fahrenheit = (Celsius * 9/5) + 32\n",
    "Fahrenheit = (celsius * 9/5) + 32\n",
    "\n",
    "print(f\"{celsius} degrees Celsius is equal to {Fahrenheit} degrees\")"
   ]
  },
  {
   "cell_type": "markdown",
   "metadata": {},
   "source": [
    "<h3 style=\"color:black;\"><b>Program 8</b></h3>\n",
    "<h4 style=\"color:black;\"><b>Write a Python program to display calender.</b></h4>"
   ]
  },
  {
   "cell_type": "code",
   "execution_count": 17,
   "metadata": {},
   "outputs": [
    {
     "name": "stdout",
     "output_type": "stream",
     "text": [
      "Year:2024\n",
      "Month:6\n",
      "     June 2024\n",
      "Mo Tu We Th Fr Sa Su\n",
      "                1  2\n",
      " 3  4  5  6  7  8  9\n",
      "10 11 12 13 14 15 16\n",
      "17 18 19 20 21 22 23\n",
      "24 25 26 27 28 29 30\n",
      "\n"
     ]
    }
   ],
   "source": [
    "import calendar\n",
    "\n",
    "year = int(input(\"Enter Year: \"))\n",
    "month = int(input(\"Enter month: \"))\n",
    "print(f\"Year:{year}\")\n",
    "print(f\"Month:{month}\")\n",
    "cal = calendar.month(year, month)\n",
    "print(cal)"
   ]
  },
  {
   "cell_type": "markdown",
   "metadata": {},
   "source": [
    "<h3 style=\"color:black;\"><b>Program 9</b></h3>\n",
    "<h4 style=\"color:black;\"><b>Write a Python program to solve quadratic equation.</b></h4>"
   ]
  },
  {
   "cell_type": "code",
   "execution_count": 19,
   "metadata": {},
   "outputs": [
    {
     "name": "stdout",
     "output_type": "stream",
     "text": [
      "Enter coefficient a:1.0\n",
      "Enter coefficient b:4.0\n",
      "Enter coefficient c:8.0\n",
      "Discriminant : -16.0\n",
      "Root 1: -2.0 + 2.0i\n",
      "Root 2: -2.0 - 2.0i\n"
     ]
    }
   ],
   "source": [
    "import math\n",
    "\n",
    "# Input coefficients\n",
    "a = float(input(\"Enter coefficient a: \"))\n",
    "b = float(input(\"Enter coefficient b: \"))\n",
    "c = float(input(\"Enter coefficient c: \"))\n",
    "print(f\"Enter coefficient a:{a}\")\n",
    "print(f\"Enter coefficient b:{b}\")\n",
    "print(f\"Enter coefficient c:{c}\")\n",
    "# Calculate the discriminant\n",
    "discriminant = b**2 - 4 * a * c\n",
    "print(f\"Discriminant : {discriminant}\")\n",
    "\n",
    "# Check if the discriminant is positive, negative or zero\n",
    "\n",
    "if discriminant > 0:\n",
    "    # Two real and distinct roots\n",
    "    root1 = (-b + math.sqrt(discriminant)) / (2*a)\n",
    "    root2 = (-b - math.sqrt(discriminant)) / (2*a)\n",
    "    print(f\"Root 1:{root1}\")\n",
    "    print(f\"Root 2:{root2}\")\n",
    "elif discriminant == 0:\n",
    "    # one real root \n",
    "    root = -b / (2*a)\n",
    "    print(f\"Root:{root}\")\n",
    "else:\n",
    "    # complex roots\n",
    "    real_part = -b/(2*a)\n",
    "    imaginary_part = math.sqrt(abs(discriminant)) / (2*a)\n",
    "    print(f\"Root 1: {real_part} + {imaginary_part}i\")\n",
    "    print(f\"Root 2: {real_part} - {imaginary_part}i\")"
   ]
  },
  {
   "cell_type": "markdown",
   "metadata": {},
   "source": [
    "<h3 style=\"color:black;\"><b>Program 10</b></h3>\n",
    "<h4 style=\"color:black;\"><b>Write a Python program to swap two variables without temp variable.</b></h4>"
   ]
  },
  {
   "cell_type": "code",
   "execution_count": 1,
   "metadata": {},
   "outputs": [
    {
     "name": "stdout",
     "output_type": "stream",
     "text": [
      "Enter the value of (a):5\n",
      "Enter the value of (b):10\n",
      "After Swapping:\n",
      "The value of a after swapping:10\n",
      "The value of b after swapping:5\n"
     ]
    }
   ],
   "source": [
    "a = int(input(\"Enter the value of (a): \"))\n",
    "b = int(input(\"Enter the value of (b): \"))\n",
    "print(f\"Enter the value of (a):{a}\")\n",
    "print(f\"Enter the value of (b):{b}\")\n",
    "\n",
    "# Swapping without a temporary variables\n",
    "a, b = b, a\n",
    "\n",
    "print(\"After Swapping:\")\n",
    "print(f\"The value of a after swapping:{a}\")\n",
    "print(f\"The value of b after swapping:{b}\")"
   ]
  },
  {
   "cell_type": "markdown",
   "metadata": {},
   "source": [
    "### **Program 11**\n",
    "#### **Write a Python Program to Check if a Number is Positive, Negative or Zero.**"
   ]
  },
  {
   "cell_type": "code",
   "execution_count": 3,
   "metadata": {},
   "outputs": [
    {
     "name": "stdout",
     "output_type": "stream",
     "text": [
      "The given number is:3\n",
      "The given number 3 is Positive number.\n"
     ]
    }
   ],
   "source": [
    "num = int(input(\"Enter the number: \"))\n",
    "print(f\"The given number is:{num}\")\n",
    "if num > 0:\n",
    "    print(f\"The given number {num} is Positive number.\")\n",
    "elif num == 0:\n",
    "    print(f\"The given number {num} is zero.\")\n",
    "else:\n",
    "    print(f\"The given number {num} is Negative number.\")"
   ]
  },
  {
   "cell_type": "markdown",
   "metadata": {},
   "source": [
    "### **Program 12**\n",
    "#### **Write a Python Program to Check if a Number is Odd or Even.**"
   ]
  },
  {
   "cell_type": "code",
   "execution_count": 4,
   "metadata": {},
   "outputs": [
    {
     "name": "stdout",
     "output_type": "stream",
     "text": [
      "The given number is 3\n",
      "The given number 3 is odd.\n"
     ]
    }
   ],
   "source": [
    "num= int(input(\"Enter a number: \"))\n",
    "print(f\"The given number is {num}\")\n",
    "\n",
    "if num % 2 == 0:\n",
    "    print(f\"The given number {num} is even.\")\n",
    "else:\n",
    "    print(f\"The given number {num} is odd.\")"
   ]
  },
  {
   "cell_type": "markdown",
   "metadata": {},
   "source": [
    "### **Program 13**\n",
    "#### **Write a Python Program to Check Leap Year.**"
   ]
  },
  {
   "cell_type": "code",
   "execution_count": 6,
   "metadata": {},
   "outputs": [
    {
     "name": "stdout",
     "output_type": "stream",
     "text": [
      "The given Year is:2024\n",
      "The given Year 2024 is Leap Year.\n"
     ]
    }
   ],
   "source": [
    "year = int(input(\"Enter the Year: \"))\n",
    "print(f\"The given Year is:{year}\")\n",
    "\n",
    "# Divided by 100 means century year(ending with 00)\n",
    "# Century Year divided by 400 is Leap Year\n",
    "if (year % 400 == 0) and (year % 100 == 0):\n",
    "    print(f\"The given Year {year} is Leap Year.\")\n",
    "    \n",
    "# not divided by 100 means not a century year\n",
    "# year divided by 4 is Leap Year\n",
    "elif (year % 4 == 0) and (year % 100 != 0):\n",
    "    print(f\"The given Year {year} is Leap Year.\")\n",
    "\n",
    "# if not divided by both 400(century year) and 4 (not century year)\n",
    "# year is not a leap year\n",
    "else:\n",
    "    print(f\"The given Year {year} is not Leap Year.\")"
   ]
  },
  {
   "cell_type": "markdown",
   "metadata": {},
   "source": [
    "### **Program 14**\n",
    "#### **Write a Python Program to Check Prime Number**\n",
    "**Prime Numbers:**\n",
    "\n",
    "- *A prime number is a whole number that cannot be evenly divided by any other number except for 1 and itself. For example 2, 3, 5, 7, 11 and 13 are prime numbers because they cannot be divided by any other positive integer except for a and their own value.* "
   ]
  },
  {
   "cell_type": "code",
   "execution_count": 8,
   "metadata": {},
   "outputs": [
    {
     "name": "stdout",
     "output_type": "stream",
     "text": [
      "Enter a number:5\n",
      "5 is a prime number\n"
     ]
    }
   ],
   "source": [
    "num = int(input(\"Enter a number: \"))\n",
    "print(f\"Enter a number:{num}\")\n",
    "\n",
    "# Define flag variable\n",
    "flag = False\n",
    "\n",
    "if num == 1:\n",
    "    print(f\"{num}, is not a prime number\")\n",
    "elif num > 1:\n",
    "    # check for factors\n",
    "    for i in range(2, num):\n",
    "        if (num % i) == 0:\n",
    "            flag = True # if factor is found, set flag to True\n",
    "            # break out of loop\n",
    "            break\n",
    "    # Check if flag is True\n",
    "if flag:\n",
    "    print(f\"{num} is not a prime number.\")\n",
    "else:\n",
    "    print(f\"{num} is a prime number\")"
   ]
  },
  {
   "cell_type": "markdown",
   "metadata": {},
   "source": [
    "### **Program 15**\n",
    "#### **Write a Python Program to Print all Prime Numbers in an interval of 1-10**"
   ]
  },
  {
   "cell_type": "code",
   "execution_count": 3,
   "metadata": {},
   "outputs": [
    {
     "name": "stdout",
     "output_type": "stream",
     "text": [
      "Prime Numbers Between, 1 and 10 are:\n",
      "2\n",
      "3\n",
      "5\n",
      "7\n"
     ]
    }
   ],
   "source": [
    "lower = 1\n",
    "upper = 10\n",
    "\n",
    "print(f\"Prime Numbers Between, {lower} and {upper} are:\")\n",
    "\n",
    "for num in range(lower, upper + 1):\n",
    "    # All prime numbesr are greater than 1\n",
    "    if num > 1:\n",
    "        for i in range(2, num):\n",
    "            if (num % i) == 0:\n",
    "                break\n",
    "        else:\n",
    "            print(num)"
   ]
  },
  {
   "cell_type": "markdown",
   "metadata": {},
   "source": [
    "### **Program 16**\n",
    "#### **Write a Python program to find the factorial of a Number.**"
   ]
  },
  {
   "cell_type": "code",
   "execution_count": 4,
   "metadata": {},
   "outputs": [
    {
     "name": "stdout",
     "output_type": "stream",
     "text": [
      "The given number is:4\n",
      "The Factorial of given number 4 is 24\n"
     ]
    }
   ],
   "source": [
    "num = int(input(\"Enter a number: \"))\n",
    "print(f\"The given number is:{num}\")\n",
    "\n",
    "factorial = 1\n",
    "\n",
    "if num < 0:\n",
    "    print(\"Factorial does not exist for negative numbers\")\n",
    "elif num == 0:\n",
    "    print(f\"Factorial of given number {num} is 1\")\n",
    "else:\n",
    "    for i in range(1, num+1):\n",
    "        factorial = factorial*i\n",
    "    print(f\"The Factorial of given number {num} is {factorial}\")"
   ]
  },
  {
   "cell_type": "markdown",
   "metadata": {},
   "source": [
    "### **Program 17**\n",
    "#### **Write a Python Program to Display the Multiplication Table**"
   ]
  },
  {
   "cell_type": "code",
   "execution_count": 5,
   "metadata": {},
   "outputs": [
    {
     "name": "stdout",
     "output_type": "stream",
     "text": [
      "Enter the number:11\n",
      "11 * 1 = 11\n",
      "11 * 2 = 22\n",
      "11 * 3 = 33\n",
      "11 * 4 = 44\n",
      "11 * 5 = 55\n",
      "11 * 6 = 66\n",
      "11 * 7 = 77\n",
      "11 * 8 = 88\n",
      "11 * 9 = 99\n",
      "11 * 10 = 110\n"
     ]
    }
   ],
   "source": [
    "num = int(input(\"Enter the number: \"))\n",
    "print(f\"Enter the number:{num}\")\n",
    "\n",
    "for i in range(1, 11):\n",
    "    print(f\"{num} * {i} = {num*i}\")"
   ]
  },
  {
   "cell_type": "markdown",
   "metadata": {},
   "source": [
    "### **Program 18**\n",
    "#### **Write a Python Program to print the Fibonacci sequence**\n",
    "\n",
    " **Fibonacci Sequence:**\n",
    " \n",
    " *The Fibonacci sequence is a series of numbers where each number is the sum of the two preceding ones, typicaaly starting with 0 and 1. So the sequence begins with 0 and 1, and the next number is obtained by adding the previous two numbers. This pattern continues indefinitely, generating a sequence that looks like this:*\n",
    " \n",
    " $0,1,1,2,3,5,8,13,21,34,55,89,144, and  so on.$\n",
    "\n",
    "*Mathematically the Fibonacci sequence can be defined using the following relation:*\n",
    "\n",
    "$F(0) = 0 F(1) = 1 F(n) = F(n - 1) + f(n -2) for n > 1$"
   ]
  },
  {
   "cell_type": "code",
   "execution_count": 7,
   "metadata": {},
   "outputs": [
    {
     "name": "stdout",
     "output_type": "stream",
     "text": [
      "How many terms? 10\n",
      "Fibonacci Sequence:\n",
      "0\n",
      "1\n",
      "1\n",
      "2\n",
      "3\n",
      "5\n",
      "8\n",
      "13\n",
      "21\n",
      "34\n"
     ]
    }
   ],
   "source": [
    "nterms = int(input(\"How many terms? \"))\n",
    "print(f\"How many terms? {nterms}\")\n",
    "\n",
    "# first two terms\n",
    "n1, n2 = 0, 1\n",
    "count = 0\n",
    "\n",
    "# Check if the number of terms is valid\n",
    "if nterms <= 0:\n",
    "    print(\"Enter a positive integer\")\n",
    "# if there is only one term, return n1\n",
    "elif nterms == 1:\n",
    "    print(f\"Fibonacci Sequence upto {nterms}\")\n",
    "    print(n1)\n",
    "# generate fibonacci sequence\n",
    "else:\n",
    "    print(\"Fibonacci Sequence:\")\n",
    "    while count < nterms:\n",
    "        print(n1)\n",
    "        nth = n1 + n2\n",
    "        # update values\n",
    "        n1 = n2\n",
    "        n2 = nth\n",
    "        count += 1"
   ]
  },
  {
   "cell_type": "markdown",
   "metadata": {},
   "source": [
    "### **Program 19**\n",
    "#### **Write a Python Program to Check Armstrong Number**\n",
    "\n",
    "**Armstrong Number:**\n",
    "- *It is a number that is equal to the sum of its own digits, each raised to a power equal to the number of digits in the number.*\n",
    "\n",
    "*For example, let's consider the number 153:*\n",
    "\n",
    "- It has three digits(1, 5, 3)\n",
    "- if we calculate 1^3 + 5^3 + 3^3, we get 1 + 125 + 27, which is equal to 153.\n",
    "*so it is armstrong number.*"
   ]
  },
  {
   "cell_type": "code",
   "execution_count": 8,
   "metadata": {},
   "outputs": [
    {
     "name": "stdout",
     "output_type": "stream",
     "text": [
      "Enter a Number:153\n",
      "The given number 153 is Armstrong Number.\n"
     ]
    }
   ],
   "source": [
    "num = int(input(\"Enter a Number: \"))\n",
    "print(f\"Enter a Number:{num}\")\n",
    "\n",
    "# calculate the number of digits in number\n",
    "num_str = str(num)\n",
    "num_digits = len(num_str)\n",
    "\n",
    "# Initiate variables\n",
    "sum_of_powers = 0\n",
    "temp_num = num\n",
    "\n",
    "# Calculate the sum of digits raised to the power of num_digits\n",
    "\n",
    "while temp_num > 0:\n",
    "    digit = temp_num % 10\n",
    "    sum_of_powers  += digit ** num_digits\n",
    "    temp_num //= 10\n",
    "\n",
    "# Check if it's an Armstrong number\n",
    "if sum_of_powers == num:\n",
    "    print(f\"The given number {num} is Armstrong Number.\")\n",
    "else:\n",
    "    print(f\"The given number {num} is not Armstrong Number.\")"
   ]
  },
  {
   "cell_type": "markdown",
   "metadata": {},
   "source": [
    "### **Program 20**\n",
    "#### **Write a Python Program to Find Armstrong Number in an Interval.** "
   ]
  },
  {
   "cell_type": "code",
   "execution_count": 11,
   "metadata": {},
   "outputs": [
    {
     "name": "stdout",
     "output_type": "stream",
     "text": [
      "Enter the lower limit of the interval:10\n",
      "Enter the upper limit of the interval:1000\n",
      "153\n",
      "370\n",
      "371\n",
      "407\n"
     ]
    }
   ],
   "source": [
    "# Input the Interval from the user\n",
    "lower = int(input(\"Enter the lower limit of the interval: \"))\n",
    "upper = int(input(\"Enter the upper limit of the interval: \"))\n",
    "print(f\"Enter the lower limit of the interval:{lower}\")\n",
    "print(f\"Enter the upper limit of the interval:{upper}\")\n",
    "\n",
    "for num in range(lower, upper+1):\n",
    "    num_digits = len(str(num)) # Find the number of digits in number\n",
    "    temp_num = num\n",
    "    sum_of_powers = 0 \n",
    "\n",
    "    while temp_num > 0:\n",
    "        digit = temp_num % 10\n",
    "        sum_of_powers += digit ** num_digits\n",
    "        temp_num //= 10\n",
    "\n",
    "    # Check if num is an armstrong number\n",
    "    if num == sum_of_powers:\n",
    "        print(num)"
   ]
  },
  {
   "cell_type": "markdown",
   "metadata": {},
   "source": [
    "### **Program 21**\n",
    "#### **Write a Python Program to find the sum of Natural Numbers.**\n",
    "\n",
    "**Natural Numbers** *are a set of positive integers that are used to count and order objects. They are the numbers that typically start from 1 and continue indefinitely, including all the whole numbers greater than 0. In mathematical the set of natural numbers is often denoted as \"N\" and can be expressed as:*\n",
    " $N = 1, 2, 3, 4, 5,6, 7, 8....$"
   ]
  },
  {
   "cell_type": "code",
   "execution_count": 12,
   "metadata": {},
   "outputs": [
    {
     "name": "stdout",
     "output_type": "stream",
     "text": [
      "Enter the limit:10\n",
      "The sum of nautral numbers uo to 10 is: 55\n"
     ]
    }
   ],
   "source": [
    "limit = int(input(\"Enter the limit: \"))\n",
    "print(f\"Enter the limit:{limit}\")\n",
    "\n",
    "# Initialize the sum\n",
    "sum = 0\n",
    "\n",
    "# Use a for loop to calculate the sum of natural numbers\n",
    "for i in range(1, limit+1):\n",
    "    sum += i\n",
    "print(f\"The sum of nautral numbers uo to {limit} is: {sum}\")"
   ]
  },
  {
   "cell_type": "markdown",
   "metadata": {},
   "source": [
    "### **Program 22**\n",
    "#### **Write a Python Program to find LCM.**\n",
    "\n",
    "**Least Common Multiple(LCM)**:\n",
    "\n",
    "*LCM, or Least Common Multiple, is the smallest multiple that is exactly divisible by two or more numbers.*\n",
    "\n",
    "*formula:*\n",
    "for two numbers a and b, the LCM can be found using the formula:\n",
    "\n",
    "$LCM(a, b)$ = $|a.b|$/$GCD(a,b)$\n",
    "\n",
    "For more than two numbers, you can find the LCM step by step, taking LCM of pairs of numbers at a time until you reach the last pair.\n",
    "\n",
    "**Note:** GCD stands for Greatest Common Divisior."
   ]
  },
  {
   "cell_type": "code",
   "execution_count": 13,
   "metadata": {},
   "outputs": [
    {
     "name": "stdout",
     "output_type": "stream",
     "text": [
      "Enter the number:54\n",
      "Enter the number:24\n",
      "The L.C.M. is 216\n"
     ]
    }
   ],
   "source": [
    "def compute_lcm(x, y):\n",
    "    if x > y :\n",
    "        greater = x\n",
    "    else:\n",
    "        greater = y\n",
    "\n",
    "    while(True):\n",
    "        if ((greater % x == 0) and (greater % y == 0)):\n",
    "            lcm = greater\n",
    "            break\n",
    "        greater += 1\n",
    "    return lcm\n",
    "\n",
    "num1 = int(input(\"Enter the number: \"))\n",
    "num2 = int(input(\"Enter the number: \"))\n",
    "\n",
    "print(f\"Enter the number:{num1}\")\n",
    "print(f\"Enter the number:{num2}\")\n",
    "\n",
    "print(f\"The L.C.M. is {compute_lcm(num1, num2)}\")"
   ]
  },
  {
   "cell_type": "markdown",
   "metadata": {},
   "source": [
    "### **Program 23**\n",
    "#### **Write a Python Program to find HCF**\n",
    "\n",
    "**Highest Common Factor(HCF):**\n",
    "HCF, or Highest Common Factor, is the largest positive integer that divides two or more numbesr without leaving a reminder.\n",
    "\n",
    "Formula:\n",
    "\n",
    "For two numbesr a and b, the HCF can be found using the formula:\n",
    "\n",
    "$HCF(a,b)$ = $GCD(a,b)$\n",
    "\n",
    "For more than two numbesr, you can find the HCF by taking the GCD of pairs of numbers at a time until you reach the last pair."
   ]
  },
  {
   "cell_type": "code",
   "execution_count": 14,
   "metadata": {},
   "outputs": [
    {
     "name": "stdout",
     "output_type": "stream",
     "text": [
      "Enter the number:54\n",
      "Enter the number:24\n",
      "The H.C.F. is 6\n"
     ]
    }
   ],
   "source": [
    "def compute_hcf(x, y):\n",
    "#choose the smaller number\n",
    "    if x > y :\n",
    "        smaller = y\n",
    "    else:\n",
    "        smaller = x\n",
    "    for i in range(1, smaller+1):\n",
    "        if((x % i == 0) and (y % i == 0)):\n",
    "            hcf = i\n",
    "    return hcf\n",
    "\n",
    "num1 = int(input(\"Enter the number: \"))\n",
    "num2 = int(input(\"Enter the number: \"))\n",
    "print(f\"Enter the number:{num1}\")\n",
    "print(f\"Enter the number:{num2}\")\n",
    "print(f\"The H.C.F. is {compute_hcf(num1, num2)}\")"
   ]
  },
  {
   "cell_type": "markdown",
   "metadata": {},
   "source": [
    "### **Program 24**\n",
    "#### **Write a Python Program to convert Decimal to Binary, Octal, and Hexadecimal**\n",
    "\n",
    "**How can we manually convert a decimal number to binary, octal and hexadecimal?**\n",
    "\n",
    "- Converting a decimal number to binary, octal, and hexadecimal involves dividing the decimal number by the base repeatedly and noting the remainders at each step. Here's a simple example:\n",
    "\n",
    "Let's convert the decimal number 27 to binary, octal and hexadecimal.\n",
    "\n",
    "**1. Binary:**\n",
    "\n",
    "- Divide 27 by 2. Quotient is 13, remainder is 1. Note the remainder.\n",
    "- Divide 13 by 2. Quotient is 6, remainder is 1. Note the remainder.\n",
    "- Divide 6 by 2. Quotient is 3, remainder is 0. Note the remainder.\n",
    "- Divide 3 by 2. Quotient is 1, remainder is 1. Note the remainder.\n",
    "- Divide 1 by 2. Quotient is 0, remainder is 1.Note the remainder.\n",
    "\n",
    "Reading the remainders from botteom to top, the binary representation of 27 is 11011.\n",
    "\n",
    "**2. Octal:**\n",
    "\n",
    "- Divide 27 by 8. Quotient is 3, remainder is 3. Note the remainder.\n",
    "- Divide 3 by 8. Quotient is 0, remainder is 3. Note the remainder.\n",
    "\n",
    "Reading the remainders from bottom to top, the octal representation of 27 is 33.\n",
    "\n",
    "**3. Hexadecimal:**\n",
    "\n",
    "- Divide 27 by 16. Quotient is 1, remainder is 11(B in hexadecimal). Note the remainder.\n",
    "\n",
    "Reading the remainders, the hexadecimal representation of 27 is 1B.\n",
    "\n",
    "So, in Summary:\n",
    "- Binary:27 in decimal is 11011 in binary.\n",
    "- Octal:27 in decimal is 33 in octal.\n",
    "- Hexadecimal:27 in decimal is 1B in hexadecimal."
   ]
  },
  {
   "cell_type": "code",
   "execution_count": 15,
   "metadata": {},
   "outputs": [
    {
     "name": "stdout",
     "output_type": "stream",
     "text": [
      "Enter a decimal number:27\n",
      "The decimal value of 27 is:\n",
      "0b11011, in binary.\n",
      "0o33, in octal.\n",
      "0x1b, in hexadecimal.\n"
     ]
    }
   ],
   "source": [
    "dec_num = int(input(\"Enter a decimal number: \"))\n",
    "print(f\"Enter a decimal number:{dec_num}\")\n",
    "\n",
    "print(f\"The decimal value of {dec_num} is:\")\n",
    "print(f\"{bin(dec_num)}, in binary.\")\n",
    "print(f\"{oct(dec_num)}, in octal.\")\n",
    "print(f\"{hex(dec_num)}, in hexadecimal.\")"
   ]
  },
  {
   "cell_type": "markdown",
   "metadata": {},
   "source": [
    "### **Program 25**\n",
    "**Write a Python Program To Find ACII Value of a character.**\n",
    "\n",
    "**ASCII Value:**\n",
    "ASCII, or American Standard Code for Information Interchange, is a character encoding standard that uses values to represent characters. Each ASCII character is assigned a unique 7-bit or 8-bit binary number, allowing computers to exchange information and display text in a consistent way. The ASCII values range from 0 to 127 (for 7-bit ASCII) or 0 to 255(for 8-bit ASCII), with each value corresponding to a specific character, such as letters, digits, punctuation marks, and control characters."
   ]
  },
  {
   "cell_type": "code",
   "execution_count": 16,
   "metadata": {},
   "outputs": [
    {
     "name": "stdout",
     "output_type": "stream",
     "text": [
      "Enter the character:P\n",
      "The ASCII value of P is, 80\n"
     ]
    }
   ],
   "source": [
    "char = str(input(\"Enter the character: \"))\n",
    "print(f\"Enter the character:{char}\")\n",
    "print(f\"The ASCII value of {char} is, {ord(char)}\")"
   ]
  },
  {
   "cell_type": "markdown",
   "metadata": {},
   "source": [
    "### **Program 26**\n",
    "#### **Write a Python Program to Make a Simple Calculator with 4 basic mathematical operations.**"
   ]
  },
  {
   "cell_type": "code",
   "execution_count": 20,
   "metadata": {},
   "outputs": [
    {
     "name": "stdout",
     "output_type": "stream",
     "text": [
      "Select Operations:\n",
      "1.Add\n",
      "2.Subtract\n",
      "3.Multiply\n",
      "4.Divide\n",
      "10.0 + 20.0 = 30.0\n",
      "35.0 - 45.0 = -10.0\n",
      "100.0 * 10.0 = 1000.0\n",
      "90.0 / 10.0 =  9.0\n"
     ]
    }
   ],
   "source": [
    "def add(x, y):\n",
    "    return x + y\n",
    "def subtract(x, y):\n",
    "    return x - y\n",
    "def multiply(x, y):\n",
    "    return x * y\n",
    "def divide(x, y):\n",
    "    return x / y\n",
    "\n",
    "print(\"Select Operations:\")\n",
    "print(\"1.Add\")\n",
    "print(\"2.Subtract\")\n",
    "print(\"3.Multiply\")\n",
    "print(\"4.Divide\")\n",
    "\n",
    "while True:\n",
    "    choice = input(\"Enter choice(1/2/3/4): \")\n",
    "\n",
    "    if choice in ('1', '2', '3', '4'):\n",
    "        try:\n",
    "            num1 = float(input(\"Enter first number: \"))\n",
    "            num2 = float(input(\"Enter second number: \"))\n",
    "\n",
    "        except ValueError:\n",
    "            print(\"Invalid input. Please enter a number.\") \n",
    "            continue\n",
    "\n",
    "        if choice == '1':\n",
    "            print(f\"{num1} + {num2} = {add(num1, num2)}\")\n",
    "        \n",
    "        elif choice == '2':\n",
    "            print(f\"{num1} - {num2} = {subtract(num1, num2)}\")\n",
    "        \n",
    "        elif choice == '3':\n",
    "            print(f\"{num1} * {num2} = {multiply(num1, num2)}\")\n",
    "\n",
    "        elif choice == '4':\n",
    "            print(f\"{num1} / {num2} =  {divide(num1, num2)}\")\n",
    "\n",
    "\n",
    "        next_calculation = input(\"Let's do next calculation? (yes/no)\")\n",
    "        if next_calculation == \"no\":\n",
    "            break\n",
    "    else:\n",
    "        print(\"Invalid Input\")"
   ]
  },
  {
   "cell_type": "markdown",
   "metadata": {},
   "source": [
    "### **Program 27**\n",
    "#### **Write a Python Program to Display Fibonacci Sequence Using Recursion.**"
   ]
  },
  {
   "cell_type": "code",
   "execution_count": 22,
   "metadata": {},
   "outputs": [
    {
     "name": "stdout",
     "output_type": "stream",
     "text": [
      "Enter the number of terms(greater than 0):8\n",
      "Fibonacci Sequence:\n",
      "0\n",
      "1\n",
      "1\n",
      "2\n",
      "3\n",
      "5\n",
      "8\n",
      "13\n"
     ]
    }
   ],
   "source": [
    "def recur_fibo(n):\n",
    "    if n <= 1:\n",
    "        return n\n",
    "    else:\n",
    "        return(recur_fibo(n-1) + recur_fibo(n-2))\n",
    "    \n",
    "nterms = int(input(\"Enter the number of terms (greater than 0): \"))\n",
    "print(f\"Enter the number of terms(greater than 0):{nterms}\")\n",
    "if nterms <= 0:\n",
    "    print(\"please enter a positive integer\")\n",
    "else:\n",
    "    print(\"Fibonacci Sequence:\")\n",
    "    for i in range(nterms):\n",
    "        print(recur_fibo(i))"
   ]
  },
  {
   "cell_type": "markdown",
   "metadata": {},
   "source": [
    "### **Program 28**\n",
    "#### **Write a Python Program to Find Factorial of Number Using Recrusion**"
   ]
  },
  {
   "cell_type": "code",
   "execution_count": 23,
   "metadata": {},
   "outputs": [
    {
     "name": "stdout",
     "output_type": "stream",
     "text": [
      "Enter the number:7\n",
      "The factorial of 7 is 5040\n"
     ]
    }
   ],
   "source": [
    "def recur_factorial(n):\n",
    "    if n == 1:\n",
    "        return n\n",
    "    else:\n",
    "        return n*recur_factorial(n-1)\n",
    "    \n",
    "num = int(input(\"Enter the number: \"))\n",
    "print(f\"Enter the number:{num}\")\n",
    "\n",
    "# check if the number is negative\n",
    "if num < 0:\n",
    "    print(\"Factorial does not exist\")\n",
    "elif num == 0:\n",
    "    print(\"The factorial of 0 is 1\")\n",
    "else:\n",
    "    print(f\"The factorial of {num} is {recur_factorial(num)}\")"
   ]
  },
  {
   "cell_type": "markdown",
   "metadata": {},
   "source": [
    "### **Program 29**\n",
    "#### **Write a Python Program to calculate your Body Mass Index.**\n",
    "\n",
    "**Body Mass Index(BMI)** is a measure of body fat based on an individual's weight and height. It is uesd as screening tool to categorize individuals into different weight status categories, such as underweight, normal weight, overweight, and obesity.\n",
    "\n",
    "The BMI is calculated using the following formula:\n",
    "\n",
    "$BMI$ = $Weight(Kg)$ / $Height(m)2$ \n",
    "\n",
    "Alternatively, in the imperial system:\n",
    "\n",
    "$BMI$ = $Weight(lb)$ / $Height(in)2$ * $703$\n",
    "\n",
    "*BMI provides a general indication of body fatness but does not directly measure body fat or distribution. It is widely used in public health and clinical settings as a quick and simple tool to assess potential health risks associated with weight. Different BMI ranges are associated with different health categories, but it's important to note that BMI has limitations and does not account for factors such as muscle mass or distribution of fat.*"
   ]
  },
  {
   "cell_type": "code",
   "execution_count": 24,
   "metadata": {},
   "outputs": [
    {
     "name": "stdout",
     "output_type": "stream",
     "text": [
      "Enter your height in meters:1.8\n",
      "Enter your weight in kg:70.0\n",
      "Welcome to the BMI Calculator\n",
      "Your BMI is 21.6\n",
      "your weight is normal\n"
     ]
    }
   ],
   "source": [
    "def bodymassindex(height, weight):\n",
    "    return round((weight / height**2),2)\n",
    "\n",
    "h = float(input(\"Enter your height in meters: \"))\n",
    "w = float(input(\"Enter your weight in kg: \"))\n",
    "\n",
    "print(f\"Enter your height in meters:{h}\")\n",
    "print(f\"Enter your weight in kg:{w}\")\n",
    "\n",
    "print(\"Welcome to the BMI Calculator\")\n",
    "\n",
    "BMI = bodymassindex(h, w)\n",
    "print(f\"Your BMI is {BMI}\")\n",
    "\n",
    "if BMI <= 18.5:\n",
    "    print(\"you are underweight\")\n",
    "elif 18.5 < BMI <= 24.9:\n",
    "    print(\"your weight is normal\")\n",
    "elif 25 < BMI <= 29.29:\n",
    "    print(\"You are overweight\")\n",
    "else:\n",
    "    print(\"You are obese\")"
   ]
  },
  {
   "cell_type": "code",
   "execution_count": null,
   "metadata": {},
   "outputs": [],
   "source": []
  }
 ],
 "metadata": {
  "kernelspec": {
   "display_name": "Python 3",
   "language": "python",
   "name": "python3"
  },
  "language_info": {
   "codemirror_mode": {
    "name": "ipython",
    "version": 3
   },
   "file_extension": ".py",
   "mimetype": "text/x-python",
   "name": "python",
   "nbconvert_exporter": "python",
   "pygments_lexer": "ipython3",
   "version": "3.8.18"
  }
 },
 "nbformat": 4,
 "nbformat_minor": 2
}
